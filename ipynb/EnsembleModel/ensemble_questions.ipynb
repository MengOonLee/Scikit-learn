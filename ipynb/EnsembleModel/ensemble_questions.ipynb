{
 "cells": [
  {
   "cell_type": "code",
   "execution_count": 1,
   "metadata": {},
   "outputs": [],
   "source": [
    "import os \n",
    "\n",
    "os.makedirs(\"../../datasets\", exist_ok=True)"
   ]
  },
  {
   "cell_type": "code",
   "execution_count": 2,
   "metadata": {},
   "outputs": [],
   "source": [
    "%%bash\n",
    "\n",
    "wget -qO \"../../datasets/blood_transfusion.csv\" \"https://github.com/INRIA/scikit-learn-mooc/raw/master/datasets/blood_transfusion.csv\""
   ]
  },
  {
   "cell_type": "markdown",
   "metadata": {},
   "source": [
    "Open the dataset `blood_transfusion.csv`"
   ]
  },
  {
   "cell_type": "code",
   "execution_count": 3,
   "metadata": {},
   "outputs": [
    {
     "name": "stdout",
     "output_type": "stream",
     "text": [
      "<class 'pandas.core.frame.DataFrame'>\n",
      "RangeIndex: 748 entries, 0 to 747\n",
      "Data columns (total 5 columns):\n",
      " #   Column     Non-Null Count  Dtype \n",
      "---  ------     --------------  ----- \n",
      " 0   Recency    748 non-null    int64 \n",
      " 1   Frequency  748 non-null    int64 \n",
      " 2   Monetary   748 non-null    int64 \n",
      " 3   Time       748 non-null    int64 \n",
      " 4   Class      748 non-null    object\n",
      "dtypes: int64(4), object(1)\n",
      "memory usage: 29.3+ KB\n"
     ]
    }
   ],
   "source": [
    "import pandas as pd\n",
    "\n",
    "blood_transfusion = pd.read_csv(\"../../datasets/blood_transfusion.csv\")\n",
    "data = blood_transfusion.drop(columns='Class')\n",
    "target = blood_transfusion['Class']\n",
    "blood_transfusion.info()"
   ]
  },
  {
   "cell_type": "markdown",
   "metadata": {},
   "source": [
    "We can display an interactive diagram with the following command:"
   ]
  },
  {
   "cell_type": "code",
   "execution_count": 4,
   "metadata": {},
   "outputs": [],
   "source": [
    "from sklearn import set_config\n",
    "set_config(display='diagram')"
   ]
  },
  {
   "cell_type": "markdown",
   "metadata": {},
   "source": [
    "In this dataset, the column `\"Class\"` is the target vector containing the labels that our model should predict.\n",
    "\n",
    "For all the questions below, make a cross-validation evaluation using a 10-fold cross-validation strategy.\n",
    "\n",
    "Evaluate the performance of a `sklearn.dummy.DummyClassifier` that always predict the most frequent class seen during the training. Be aware that you can pass a list of score to compute in `sklearn.model_selection.cross_validate` by setting the parameter `scoring`.\n",
    "\n",
    "The code allowing to compute the score with the given dataset is shown below:"
   ]
  },
  {
   "cell_type": "code",
   "execution_count": 5,
   "metadata": {},
   "outputs": [
    {
     "data": {
      "text/html": [
       "<style>#sk-3661c975-62e5-4bb3-932c-04368a4df62d {color: black;background-color: white;}#sk-3661c975-62e5-4bb3-932c-04368a4df62d pre{padding: 0;}#sk-3661c975-62e5-4bb3-932c-04368a4df62d div.sk-toggleable {background-color: white;}#sk-3661c975-62e5-4bb3-932c-04368a4df62d label.sk-toggleable__label {cursor: pointer;display: block;width: 100%;margin-bottom: 0;padding: 0.2em 0.3em;box-sizing: border-box;text-align: center;}#sk-3661c975-62e5-4bb3-932c-04368a4df62d div.sk-toggleable__content {max-height: 0;max-width: 0;overflow: hidden;text-align: left;background-color: #f0f8ff;}#sk-3661c975-62e5-4bb3-932c-04368a4df62d div.sk-toggleable__content pre {margin: 0.2em;color: black;border-radius: 0.25em;background-color: #f0f8ff;}#sk-3661c975-62e5-4bb3-932c-04368a4df62d input.sk-toggleable__control:checked~div.sk-toggleable__content {max-height: 200px;max-width: 100%;overflow: auto;}#sk-3661c975-62e5-4bb3-932c-04368a4df62d div.sk-estimator input.sk-toggleable__control:checked~label.sk-toggleable__label {background-color: #d4ebff;}#sk-3661c975-62e5-4bb3-932c-04368a4df62d div.sk-label input.sk-toggleable__control:checked~label.sk-toggleable__label {background-color: #d4ebff;}#sk-3661c975-62e5-4bb3-932c-04368a4df62d input.sk-hidden--visually {border: 0;clip: rect(1px 1px 1px 1px);clip: rect(1px, 1px, 1px, 1px);height: 1px;margin: -1px;overflow: hidden;padding: 0;position: absolute;width: 1px;}#sk-3661c975-62e5-4bb3-932c-04368a4df62d div.sk-estimator {font-family: monospace;background-color: #f0f8ff;margin: 0.25em 0.25em;border: 1px dotted black;border-radius: 0.25em;box-sizing: border-box;}#sk-3661c975-62e5-4bb3-932c-04368a4df62d div.sk-estimator:hover {background-color: #d4ebff;}#sk-3661c975-62e5-4bb3-932c-04368a4df62d div.sk-parallel-item::after {content: \"\";width: 100%;border-bottom: 1px solid gray;flex-grow: 1;}#sk-3661c975-62e5-4bb3-932c-04368a4df62d div.sk-label:hover label.sk-toggleable__label {background-color: #d4ebff;}#sk-3661c975-62e5-4bb3-932c-04368a4df62d div.sk-serial::before {content: \"\";position: absolute;border-left: 1px solid gray;box-sizing: border-box;top: 2em;bottom: 0;left: 50%;}#sk-3661c975-62e5-4bb3-932c-04368a4df62d div.sk-serial {display: flex;flex-direction: column;align-items: center;background-color: white;}#sk-3661c975-62e5-4bb3-932c-04368a4df62d div.sk-item {z-index: 1;}#sk-3661c975-62e5-4bb3-932c-04368a4df62d div.sk-parallel {display: flex;align-items: stretch;justify-content: center;background-color: white;}#sk-3661c975-62e5-4bb3-932c-04368a4df62d div.sk-parallel-item {display: flex;flex-direction: column;position: relative;background-color: white;}#sk-3661c975-62e5-4bb3-932c-04368a4df62d div.sk-parallel-item:first-child::after {align-self: flex-end;width: 50%;}#sk-3661c975-62e5-4bb3-932c-04368a4df62d div.sk-parallel-item:last-child::after {align-self: flex-start;width: 50%;}#sk-3661c975-62e5-4bb3-932c-04368a4df62d div.sk-parallel-item:only-child::after {width: 0;}#sk-3661c975-62e5-4bb3-932c-04368a4df62d div.sk-dashed-wrapped {border: 1px dashed gray;margin: 0.2em;box-sizing: border-box;padding-bottom: 0.1em;background-color: white;position: relative;}#sk-3661c975-62e5-4bb3-932c-04368a4df62d div.sk-label label {font-family: monospace;font-weight: bold;background-color: white;display: inline-block;line-height: 1.2em;}#sk-3661c975-62e5-4bb3-932c-04368a4df62d div.sk-label-container {position: relative;z-index: 2;text-align: center;}#sk-3661c975-62e5-4bb3-932c-04368a4df62d div.sk-container {display: inline-block;position: relative;}</style><div id=\"sk-3661c975-62e5-4bb3-932c-04368a4df62d\" class\"sk-top-container\"><div class=\"sk-container\"><div class=\"sk-item\"><div class=\"sk-estimator sk-toggleable\"><input class=\"sk-toggleable__control sk-hidden--visually\" id=\"e0ae7eac-d9d4-4b15-9c3c-86d6c1cb07fd\" type=\"checkbox\" checked><label class=\"sk-toggleable__label\" for=\"e0ae7eac-d9d4-4b15-9c3c-86d6c1cb07fd\">DummyClassifier</label><div class=\"sk-toggleable__content\"><pre>DummyClassifier(random_state=0, strategy='most_frequent')</pre></div></div></div></div></div>"
      ],
      "text/plain": [
       "DummyClassifier(random_state=0, strategy='most_frequent')"
      ]
     },
     "execution_count": 5,
     "metadata": {},
     "output_type": "execute_result"
    }
   ],
   "source": [
    "from sklearn.dummy import DummyClassifier\n",
    "\n",
    "dummy = DummyClassifier(strategy='most_frequent', \n",
    "    random_state=0)\n",
    "dummy"
   ]
  },
  {
   "cell_type": "markdown",
   "metadata": {},
   "source": [
    "What the accuracy and balanced accuracy of this dummy classifier?"
   ]
  },
  {
   "cell_type": "code",
   "execution_count": 6,
   "metadata": {},
   "outputs": [
    {
     "name": "stdout",
     "output_type": "stream",
     "text": [
      "Average accuracy: 0.762 +/- 0.004\n",
      "Average balanced accuracy: 0.500 +/- 0.000\n",
      "CPU times: user 54.8 ms, sys: 3.8 ms, total: 58.6 ms\n",
      "Wall time: 57.9 ms\n"
     ]
    }
   ],
   "source": [
    "%%time\n",
    "from sklearn.model_selection import cross_validate\n",
    "\n",
    "cv_results = cross_validate(dummy, data, target,\n",
    "    cv=10, scoring=['accuracy', 'balanced_accuracy'])\n",
    "print(f\"Average accuracy: \"\n",
    "    f\"{cv_results['test_accuracy'].mean():.3f} +/- \"\n",
    "    f\"{cv_results['test_accuracy'].std():.3f}\")\n",
    "print(f\"Average balanced accuracy: \"\n",
    "    f\"{cv_results['test_balanced_accuracy'].mean():.3f} +/- \"\n",
    "    f\"{cv_results['test_balanced_accuracy'].std():.3f}\")"
   ]
  },
  {
   "cell_type": "markdown",
   "metadata": {},
   "source": [
    "We get an average accuracy of ~0.76 and an average balanced accuracy of ~0.5. This is due to the fact that the number of elements in each class is imbalanced.\n",
    "\n",
    "Replace the `DummyClassifier` by a `sklearn.tree.DecisionTreeClassifier` and check the statistical performance."
   ]
  },
  {
   "cell_type": "code",
   "execution_count": 7,
   "metadata": {},
   "outputs": [
    {
     "data": {
      "text/html": [
       "<style>#sk-c17b2feb-fb2d-4639-b182-0c22777ec8cb {color: black;background-color: white;}#sk-c17b2feb-fb2d-4639-b182-0c22777ec8cb pre{padding: 0;}#sk-c17b2feb-fb2d-4639-b182-0c22777ec8cb div.sk-toggleable {background-color: white;}#sk-c17b2feb-fb2d-4639-b182-0c22777ec8cb label.sk-toggleable__label {cursor: pointer;display: block;width: 100%;margin-bottom: 0;padding: 0.2em 0.3em;box-sizing: border-box;text-align: center;}#sk-c17b2feb-fb2d-4639-b182-0c22777ec8cb div.sk-toggleable__content {max-height: 0;max-width: 0;overflow: hidden;text-align: left;background-color: #f0f8ff;}#sk-c17b2feb-fb2d-4639-b182-0c22777ec8cb div.sk-toggleable__content pre {margin: 0.2em;color: black;border-radius: 0.25em;background-color: #f0f8ff;}#sk-c17b2feb-fb2d-4639-b182-0c22777ec8cb input.sk-toggleable__control:checked~div.sk-toggleable__content {max-height: 200px;max-width: 100%;overflow: auto;}#sk-c17b2feb-fb2d-4639-b182-0c22777ec8cb div.sk-estimator input.sk-toggleable__control:checked~label.sk-toggleable__label {background-color: #d4ebff;}#sk-c17b2feb-fb2d-4639-b182-0c22777ec8cb div.sk-label input.sk-toggleable__control:checked~label.sk-toggleable__label {background-color: #d4ebff;}#sk-c17b2feb-fb2d-4639-b182-0c22777ec8cb input.sk-hidden--visually {border: 0;clip: rect(1px 1px 1px 1px);clip: rect(1px, 1px, 1px, 1px);height: 1px;margin: -1px;overflow: hidden;padding: 0;position: absolute;width: 1px;}#sk-c17b2feb-fb2d-4639-b182-0c22777ec8cb div.sk-estimator {font-family: monospace;background-color: #f0f8ff;margin: 0.25em 0.25em;border: 1px dotted black;border-radius: 0.25em;box-sizing: border-box;}#sk-c17b2feb-fb2d-4639-b182-0c22777ec8cb div.sk-estimator:hover {background-color: #d4ebff;}#sk-c17b2feb-fb2d-4639-b182-0c22777ec8cb div.sk-parallel-item::after {content: \"\";width: 100%;border-bottom: 1px solid gray;flex-grow: 1;}#sk-c17b2feb-fb2d-4639-b182-0c22777ec8cb div.sk-label:hover label.sk-toggleable__label {background-color: #d4ebff;}#sk-c17b2feb-fb2d-4639-b182-0c22777ec8cb div.sk-serial::before {content: \"\";position: absolute;border-left: 1px solid gray;box-sizing: border-box;top: 2em;bottom: 0;left: 50%;}#sk-c17b2feb-fb2d-4639-b182-0c22777ec8cb div.sk-serial {display: flex;flex-direction: column;align-items: center;background-color: white;}#sk-c17b2feb-fb2d-4639-b182-0c22777ec8cb div.sk-item {z-index: 1;}#sk-c17b2feb-fb2d-4639-b182-0c22777ec8cb div.sk-parallel {display: flex;align-items: stretch;justify-content: center;background-color: white;}#sk-c17b2feb-fb2d-4639-b182-0c22777ec8cb div.sk-parallel-item {display: flex;flex-direction: column;position: relative;background-color: white;}#sk-c17b2feb-fb2d-4639-b182-0c22777ec8cb div.sk-parallel-item:first-child::after {align-self: flex-end;width: 50%;}#sk-c17b2feb-fb2d-4639-b182-0c22777ec8cb div.sk-parallel-item:last-child::after {align-self: flex-start;width: 50%;}#sk-c17b2feb-fb2d-4639-b182-0c22777ec8cb div.sk-parallel-item:only-child::after {width: 0;}#sk-c17b2feb-fb2d-4639-b182-0c22777ec8cb div.sk-dashed-wrapped {border: 1px dashed gray;margin: 0.2em;box-sizing: border-box;padding-bottom: 0.1em;background-color: white;position: relative;}#sk-c17b2feb-fb2d-4639-b182-0c22777ec8cb div.sk-label label {font-family: monospace;font-weight: bold;background-color: white;display: inline-block;line-height: 1.2em;}#sk-c17b2feb-fb2d-4639-b182-0c22777ec8cb div.sk-label-container {position: relative;z-index: 2;text-align: center;}#sk-c17b2feb-fb2d-4639-b182-0c22777ec8cb div.sk-container {display: inline-block;position: relative;}</style><div id=\"sk-c17b2feb-fb2d-4639-b182-0c22777ec8cb\" class\"sk-top-container\"><div class=\"sk-container\"><div class=\"sk-item\"><div class=\"sk-estimator sk-toggleable\"><input class=\"sk-toggleable__control sk-hidden--visually\" id=\"f4659a93-79e8-4323-9a64-6d993e9f15e9\" type=\"checkbox\" checked><label class=\"sk-toggleable__label\" for=\"f4659a93-79e8-4323-9a64-6d993e9f15e9\">DecisionTreeClassifier</label><div class=\"sk-toggleable__content\"><pre>DecisionTreeClassifier(random_state=0)</pre></div></div></div></div></div>"
      ],
      "text/plain": [
       "DecisionTreeClassifier(random_state=0)"
      ]
     },
     "execution_count": 7,
     "metadata": {},
     "output_type": "execute_result"
    }
   ],
   "source": [
    "from sklearn.tree import DecisionTreeClassifier\n",
    "\n",
    "tree = DecisionTreeClassifier(random_state=0)\n",
    "tree"
   ]
  },
  {
   "cell_type": "markdown",
   "metadata": {},
   "source": [
    "Is a single decision classifier better than a dummy classifier, by an increase of at least 0.04 of the balanced accuracy?"
   ]
  },
  {
   "cell_type": "code",
   "execution_count": 8,
   "metadata": {},
   "outputs": [
    {
     "name": "stdout",
     "output_type": "stream",
     "text": [
      "Average balanced accuracy: 0.516 +/- 0.100\n",
      "CPU times: user 30.8 ms, sys: 24.5 ms, total: 55.3 ms\n",
      "Wall time: 816 ms\n"
     ]
    }
   ],
   "source": [
    "%%time\n",
    "from sklearn.model_selection import cross_val_score\n",
    "\n",
    "scores_tree = cross_val_score(tree, data, target,\n",
    "    cv=10, scoring='balanced_accuracy', n_jobs=2)\n",
    "print(f\"Average balanced accuracy: \"\n",
    "    f\"{scores_tree.mean():.3f} +/- \"\n",
    "    f\"{scores_tree.std():.3f}\")"
   ]
  },
  {
   "cell_type": "markdown",
   "metadata": {},
   "source": [
    "Evaluate the performance of a `sklearn.ensemble.RandomForestClassifier` using 300 trees."
   ]
  },
  {
   "cell_type": "code",
   "execution_count": 9,
   "metadata": {},
   "outputs": [
    {
     "data": {
      "text/html": [
       "<style>#sk-333f774e-e3bb-4b71-a004-9928901a40c0 {color: black;background-color: white;}#sk-333f774e-e3bb-4b71-a004-9928901a40c0 pre{padding: 0;}#sk-333f774e-e3bb-4b71-a004-9928901a40c0 div.sk-toggleable {background-color: white;}#sk-333f774e-e3bb-4b71-a004-9928901a40c0 label.sk-toggleable__label {cursor: pointer;display: block;width: 100%;margin-bottom: 0;padding: 0.2em 0.3em;box-sizing: border-box;text-align: center;}#sk-333f774e-e3bb-4b71-a004-9928901a40c0 div.sk-toggleable__content {max-height: 0;max-width: 0;overflow: hidden;text-align: left;background-color: #f0f8ff;}#sk-333f774e-e3bb-4b71-a004-9928901a40c0 div.sk-toggleable__content pre {margin: 0.2em;color: black;border-radius: 0.25em;background-color: #f0f8ff;}#sk-333f774e-e3bb-4b71-a004-9928901a40c0 input.sk-toggleable__control:checked~div.sk-toggleable__content {max-height: 200px;max-width: 100%;overflow: auto;}#sk-333f774e-e3bb-4b71-a004-9928901a40c0 div.sk-estimator input.sk-toggleable__control:checked~label.sk-toggleable__label {background-color: #d4ebff;}#sk-333f774e-e3bb-4b71-a004-9928901a40c0 div.sk-label input.sk-toggleable__control:checked~label.sk-toggleable__label {background-color: #d4ebff;}#sk-333f774e-e3bb-4b71-a004-9928901a40c0 input.sk-hidden--visually {border: 0;clip: rect(1px 1px 1px 1px);clip: rect(1px, 1px, 1px, 1px);height: 1px;margin: -1px;overflow: hidden;padding: 0;position: absolute;width: 1px;}#sk-333f774e-e3bb-4b71-a004-9928901a40c0 div.sk-estimator {font-family: monospace;background-color: #f0f8ff;margin: 0.25em 0.25em;border: 1px dotted black;border-radius: 0.25em;box-sizing: border-box;}#sk-333f774e-e3bb-4b71-a004-9928901a40c0 div.sk-estimator:hover {background-color: #d4ebff;}#sk-333f774e-e3bb-4b71-a004-9928901a40c0 div.sk-parallel-item::after {content: \"\";width: 100%;border-bottom: 1px solid gray;flex-grow: 1;}#sk-333f774e-e3bb-4b71-a004-9928901a40c0 div.sk-label:hover label.sk-toggleable__label {background-color: #d4ebff;}#sk-333f774e-e3bb-4b71-a004-9928901a40c0 div.sk-serial::before {content: \"\";position: absolute;border-left: 1px solid gray;box-sizing: border-box;top: 2em;bottom: 0;left: 50%;}#sk-333f774e-e3bb-4b71-a004-9928901a40c0 div.sk-serial {display: flex;flex-direction: column;align-items: center;background-color: white;}#sk-333f774e-e3bb-4b71-a004-9928901a40c0 div.sk-item {z-index: 1;}#sk-333f774e-e3bb-4b71-a004-9928901a40c0 div.sk-parallel {display: flex;align-items: stretch;justify-content: center;background-color: white;}#sk-333f774e-e3bb-4b71-a004-9928901a40c0 div.sk-parallel-item {display: flex;flex-direction: column;position: relative;background-color: white;}#sk-333f774e-e3bb-4b71-a004-9928901a40c0 div.sk-parallel-item:first-child::after {align-self: flex-end;width: 50%;}#sk-333f774e-e3bb-4b71-a004-9928901a40c0 div.sk-parallel-item:last-child::after {align-self: flex-start;width: 50%;}#sk-333f774e-e3bb-4b71-a004-9928901a40c0 div.sk-parallel-item:only-child::after {width: 0;}#sk-333f774e-e3bb-4b71-a004-9928901a40c0 div.sk-dashed-wrapped {border: 1px dashed gray;margin: 0.2em;box-sizing: border-box;padding-bottom: 0.1em;background-color: white;position: relative;}#sk-333f774e-e3bb-4b71-a004-9928901a40c0 div.sk-label label {font-family: monospace;font-weight: bold;background-color: white;display: inline-block;line-height: 1.2em;}#sk-333f774e-e3bb-4b71-a004-9928901a40c0 div.sk-label-container {position: relative;z-index: 2;text-align: center;}#sk-333f774e-e3bb-4b71-a004-9928901a40c0 div.sk-container {display: inline-block;position: relative;}</style><div id=\"sk-333f774e-e3bb-4b71-a004-9928901a40c0\" class\"sk-top-container\"><div class=\"sk-container\"><div class=\"sk-item\"><div class=\"sk-estimator sk-toggleable\"><input class=\"sk-toggleable__control sk-hidden--visually\" id=\"fefeae1b-10d7-445c-872c-57e5bcd6e004\" type=\"checkbox\" checked><label class=\"sk-toggleable__label\" for=\"fefeae1b-10d7-445c-872c-57e5bcd6e004\">RandomForestClassifier</label><div class=\"sk-toggleable__content\"><pre>RandomForestClassifier(n_estimators=300, n_jobs=2, random_state=0)</pre></div></div></div></div></div>"
      ],
      "text/plain": [
       "RandomForestClassifier(n_estimators=300, n_jobs=2, random_state=0)"
      ]
     },
     "execution_count": 9,
     "metadata": {},
     "output_type": "execute_result"
    }
   ],
   "source": [
    "from sklearn.ensemble import RandomForestClassifier\n",
    "\n",
    "rf = RandomForestClassifier(\n",
    "    n_estimators=300, n_jobs=2, random_state=0)\n",
    "rf"
   ]
  },
  {
   "cell_type": "markdown",
   "metadata": {},
   "source": [
    "Is random forest better than a dummy classifier, by an increase of at least 0.04 of the balanced accuracy?\n",
    "\n",
    "We can evaluate the random forest classifier with the following code."
   ]
  },
  {
   "cell_type": "code",
   "execution_count": 10,
   "metadata": {},
   "outputs": [
    {
     "name": "stdout",
     "output_type": "stream",
     "text": [
      "Average balanced accuracy: 0.530 +/- 0.076\n",
      "CPU times: user 31 ms, sys: 0 ns, total: 31 ms\n",
      "Wall time: 3.21 s\n"
     ]
    }
   ],
   "source": [
    "%%time\n",
    "\n",
    "scores_rf = cross_val_score(rf, data, target,\n",
    "    cv=10, scoring='balanced_accuracy', n_jobs=2)\n",
    "print(f\"Average balanced accuracy: \"\n",
    "    f\"{scores_rf.mean():.3f} +/- \"\n",
    "    f\"{scores_rf.std():.3f}\")"
   ]
  },
  {
   "cell_type": "markdown",
   "metadata": {},
   "source": [
    "Compare a `sklearn.ensemble.GradientBoostingClassifier` and a `sklearn.ensemble.RandomForestClassifier` with both 300 trees. To do so, repeat 10 times a 10-fold cross-validation by using the balanced accuracy as metric. For each of the 10 try, compute the average of the cross-validation score for both models. Count how many times a model is better than the other."
   ]
  },
  {
   "cell_type": "code",
   "execution_count": 11,
   "metadata": {},
   "outputs": [
    {
     "data": {
      "text/html": [
       "<style>#sk-974a55cb-4270-45ab-bf01-6cbcfdfddb3b {color: black;background-color: white;}#sk-974a55cb-4270-45ab-bf01-6cbcfdfddb3b pre{padding: 0;}#sk-974a55cb-4270-45ab-bf01-6cbcfdfddb3b div.sk-toggleable {background-color: white;}#sk-974a55cb-4270-45ab-bf01-6cbcfdfddb3b label.sk-toggleable__label {cursor: pointer;display: block;width: 100%;margin-bottom: 0;padding: 0.2em 0.3em;box-sizing: border-box;text-align: center;}#sk-974a55cb-4270-45ab-bf01-6cbcfdfddb3b div.sk-toggleable__content {max-height: 0;max-width: 0;overflow: hidden;text-align: left;background-color: #f0f8ff;}#sk-974a55cb-4270-45ab-bf01-6cbcfdfddb3b div.sk-toggleable__content pre {margin: 0.2em;color: black;border-radius: 0.25em;background-color: #f0f8ff;}#sk-974a55cb-4270-45ab-bf01-6cbcfdfddb3b input.sk-toggleable__control:checked~div.sk-toggleable__content {max-height: 200px;max-width: 100%;overflow: auto;}#sk-974a55cb-4270-45ab-bf01-6cbcfdfddb3b div.sk-estimator input.sk-toggleable__control:checked~label.sk-toggleable__label {background-color: #d4ebff;}#sk-974a55cb-4270-45ab-bf01-6cbcfdfddb3b div.sk-label input.sk-toggleable__control:checked~label.sk-toggleable__label {background-color: #d4ebff;}#sk-974a55cb-4270-45ab-bf01-6cbcfdfddb3b input.sk-hidden--visually {border: 0;clip: rect(1px 1px 1px 1px);clip: rect(1px, 1px, 1px, 1px);height: 1px;margin: -1px;overflow: hidden;padding: 0;position: absolute;width: 1px;}#sk-974a55cb-4270-45ab-bf01-6cbcfdfddb3b div.sk-estimator {font-family: monospace;background-color: #f0f8ff;margin: 0.25em 0.25em;border: 1px dotted black;border-radius: 0.25em;box-sizing: border-box;}#sk-974a55cb-4270-45ab-bf01-6cbcfdfddb3b div.sk-estimator:hover {background-color: #d4ebff;}#sk-974a55cb-4270-45ab-bf01-6cbcfdfddb3b div.sk-parallel-item::after {content: \"\";width: 100%;border-bottom: 1px solid gray;flex-grow: 1;}#sk-974a55cb-4270-45ab-bf01-6cbcfdfddb3b div.sk-label:hover label.sk-toggleable__label {background-color: #d4ebff;}#sk-974a55cb-4270-45ab-bf01-6cbcfdfddb3b div.sk-serial::before {content: \"\";position: absolute;border-left: 1px solid gray;box-sizing: border-box;top: 2em;bottom: 0;left: 50%;}#sk-974a55cb-4270-45ab-bf01-6cbcfdfddb3b div.sk-serial {display: flex;flex-direction: column;align-items: center;background-color: white;}#sk-974a55cb-4270-45ab-bf01-6cbcfdfddb3b div.sk-item {z-index: 1;}#sk-974a55cb-4270-45ab-bf01-6cbcfdfddb3b div.sk-parallel {display: flex;align-items: stretch;justify-content: center;background-color: white;}#sk-974a55cb-4270-45ab-bf01-6cbcfdfddb3b div.sk-parallel-item {display: flex;flex-direction: column;position: relative;background-color: white;}#sk-974a55cb-4270-45ab-bf01-6cbcfdfddb3b div.sk-parallel-item:first-child::after {align-self: flex-end;width: 50%;}#sk-974a55cb-4270-45ab-bf01-6cbcfdfddb3b div.sk-parallel-item:last-child::after {align-self: flex-start;width: 50%;}#sk-974a55cb-4270-45ab-bf01-6cbcfdfddb3b div.sk-parallel-item:only-child::after {width: 0;}#sk-974a55cb-4270-45ab-bf01-6cbcfdfddb3b div.sk-dashed-wrapped {border: 1px dashed gray;margin: 0.2em;box-sizing: border-box;padding-bottom: 0.1em;background-color: white;position: relative;}#sk-974a55cb-4270-45ab-bf01-6cbcfdfddb3b div.sk-label label {font-family: monospace;font-weight: bold;background-color: white;display: inline-block;line-height: 1.2em;}#sk-974a55cb-4270-45ab-bf01-6cbcfdfddb3b div.sk-label-container {position: relative;z-index: 2;text-align: center;}#sk-974a55cb-4270-45ab-bf01-6cbcfdfddb3b div.sk-container {display: inline-block;position: relative;}</style><div id=\"sk-974a55cb-4270-45ab-bf01-6cbcfdfddb3b\" class\"sk-top-container\"><div class=\"sk-container\"><div class=\"sk-item\"><div class=\"sk-estimator sk-toggleable\"><input class=\"sk-toggleable__control sk-hidden--visually\" id=\"5d6c9091-7415-4c49-9672-44922c7562db\" type=\"checkbox\" checked><label class=\"sk-toggleable__label\" for=\"5d6c9091-7415-4c49-9672-44922c7562db\">GradientBoostingClassifier</label><div class=\"sk-toggleable__content\"><pre>GradientBoostingClassifier(n_estimators=300, random_state=0)</pre></div></div></div></div></div>"
      ],
      "text/plain": [
       "GradientBoostingClassifier(n_estimators=300, random_state=0)"
      ]
     },
     "execution_count": 11,
     "metadata": {},
     "output_type": "execute_result"
    }
   ],
   "source": [
    "from sklearn.ensemble import GradientBoostingClassifier\n",
    "\n",
    "gbdt = GradientBoostingClassifier(\n",
    "    n_estimators=300, random_state=0)\n",
    "gbdt"
   ]
  },
  {
   "cell_type": "code",
   "execution_count": 12,
   "metadata": {},
   "outputs": [
    {
     "name": "stdout",
     "output_type": "stream",
     "text": [
      "Average balanced accuracy: 0.537 +/- 0.073\n",
      "CPU times: user 27.6 ms, sys: 0 ns, total: 27.6 ms\n",
      "Wall time: 1.1 s\n"
     ]
    }
   ],
   "source": [
    "%%time\n",
    "\n",
    "scores_gbdt = cross_val_score(gbdt, data, target,\n",
    "    cv=10, scoring='balanced_accuracy', n_jobs=2)\n",
    "print(f\"Average balanced accuracy: \"\n",
    "    f\"{scores_gbdt.mean():.3f} +/- \"\n",
    "    f\"{scores_gbdt.std():.3f}\")"
   ]
  },
  {
   "cell_type": "markdown",
   "metadata": {},
   "source": [
    "On average, is the gradient boosting better than the random forest?\n",
    "\n",
    "The code below repeat 10 times the 10-fold cross-validation of a random forest and a gradient-boosting. Then, we check how many time the average balanced accuracy of a gradient boosting is better than a random forest."
   ]
  },
  {
   "cell_type": "code",
   "execution_count": 13,
   "metadata": {},
   "outputs": [
    {
     "name": "stdout",
     "output_type": "stream",
     "text": [
      "10 average balanced accuracy as follows: \n",
      "Random forest: [0.5958735063849163, 0.6071082350508421, 0.5861206151327055, 0.6084622334638855, 0.5977931013771813, 0.596029270770206, 0.586762777491701, 0.5818846039396067, 0.6090675092755465, 0.5944661809753218]\n",
      "Gradient boosting: [0.612448150763859, 0.6082180772939754, 0.596592281401919, 0.6166012516291297, 0.5939191388989137, 0.5987164058221208, 0.5981547417134458, 0.596231772758258, 0.6203521245148931, 0.6016079662441642]\n",
      "Number of the average balanced accuracy of a gradient boosting is better than a random forest = 9\n",
      "CPU times: user 536 ms, sys: 38.9 ms, total: 575 ms\n",
      "Wall time: 42.1 s\n"
     ]
    }
   ],
   "source": [
    "%%time\n",
    "from sklearn.model_selection import KFold\n",
    "\n",
    "n_try = 10\n",
    "scores_rf, scores_gbdt = [], []\n",
    "\n",
    "for seed in range(n_try):\n",
    "    cv = KFold(n_splits=10, shuffle=True, random_state=seed)\n",
    "    \n",
    "    scores = cross_val_score(rf, data, target,\n",
    "        cv=cv, scoring='balanced_accuracy', n_jobs=2)\n",
    "    scores_rf.append(scores.mean())\n",
    "    \n",
    "    scores = cross_val_score(gbdt, data, target,\n",
    "        cv=cv, scoring='balanced_accuracy', n_jobs=2)\n",
    "    scores_gbdt.append(scores.mean())\n",
    "\n",
    "print(f\"10 average balanced accuracy as follows: \")\n",
    "print(f\"Random forest: {scores_rf}\")\n",
    "print(f\"Gradient boosting: {scores_gbdt}\")\n",
    "\n",
    "compare = [s_gbdt > s_rf for s_gbdt, s_rf in zip(scores_gbdt, scores_rf)]\n",
    "print(f\"Number of the average balanced accuracy of a gradient boosting \"\n",
    "    f\"is better than a random forest = {sum(compare)}\")"
   ]
  },
  {
   "cell_type": "markdown",
   "metadata": {},
   "source": [
    "Evaluate the performance of a `sklearn.ensemble.HistGradientBoostingClassifier`. Enable early-stopping and add as many trees an needed.\n",
    "\n",
    "**Note**: Be aware that you need a specific import when importing the `HistGradientBoostingClassifier`:"
   ]
  },
  {
   "cell_type": "code",
   "execution_count": 14,
   "metadata": {},
   "outputs": [
    {
     "data": {
      "text/html": [
       "<style>#sk-ff9d903b-161c-472a-9917-f73a97cc8c90 {color: black;background-color: white;}#sk-ff9d903b-161c-472a-9917-f73a97cc8c90 pre{padding: 0;}#sk-ff9d903b-161c-472a-9917-f73a97cc8c90 div.sk-toggleable {background-color: white;}#sk-ff9d903b-161c-472a-9917-f73a97cc8c90 label.sk-toggleable__label {cursor: pointer;display: block;width: 100%;margin-bottom: 0;padding: 0.2em 0.3em;box-sizing: border-box;text-align: center;}#sk-ff9d903b-161c-472a-9917-f73a97cc8c90 div.sk-toggleable__content {max-height: 0;max-width: 0;overflow: hidden;text-align: left;background-color: #f0f8ff;}#sk-ff9d903b-161c-472a-9917-f73a97cc8c90 div.sk-toggleable__content pre {margin: 0.2em;color: black;border-radius: 0.25em;background-color: #f0f8ff;}#sk-ff9d903b-161c-472a-9917-f73a97cc8c90 input.sk-toggleable__control:checked~div.sk-toggleable__content {max-height: 200px;max-width: 100%;overflow: auto;}#sk-ff9d903b-161c-472a-9917-f73a97cc8c90 div.sk-estimator input.sk-toggleable__control:checked~label.sk-toggleable__label {background-color: #d4ebff;}#sk-ff9d903b-161c-472a-9917-f73a97cc8c90 div.sk-label input.sk-toggleable__control:checked~label.sk-toggleable__label {background-color: #d4ebff;}#sk-ff9d903b-161c-472a-9917-f73a97cc8c90 input.sk-hidden--visually {border: 0;clip: rect(1px 1px 1px 1px);clip: rect(1px, 1px, 1px, 1px);height: 1px;margin: -1px;overflow: hidden;padding: 0;position: absolute;width: 1px;}#sk-ff9d903b-161c-472a-9917-f73a97cc8c90 div.sk-estimator {font-family: monospace;background-color: #f0f8ff;margin: 0.25em 0.25em;border: 1px dotted black;border-radius: 0.25em;box-sizing: border-box;}#sk-ff9d903b-161c-472a-9917-f73a97cc8c90 div.sk-estimator:hover {background-color: #d4ebff;}#sk-ff9d903b-161c-472a-9917-f73a97cc8c90 div.sk-parallel-item::after {content: \"\";width: 100%;border-bottom: 1px solid gray;flex-grow: 1;}#sk-ff9d903b-161c-472a-9917-f73a97cc8c90 div.sk-label:hover label.sk-toggleable__label {background-color: #d4ebff;}#sk-ff9d903b-161c-472a-9917-f73a97cc8c90 div.sk-serial::before {content: \"\";position: absolute;border-left: 1px solid gray;box-sizing: border-box;top: 2em;bottom: 0;left: 50%;}#sk-ff9d903b-161c-472a-9917-f73a97cc8c90 div.sk-serial {display: flex;flex-direction: column;align-items: center;background-color: white;}#sk-ff9d903b-161c-472a-9917-f73a97cc8c90 div.sk-item {z-index: 1;}#sk-ff9d903b-161c-472a-9917-f73a97cc8c90 div.sk-parallel {display: flex;align-items: stretch;justify-content: center;background-color: white;}#sk-ff9d903b-161c-472a-9917-f73a97cc8c90 div.sk-parallel-item {display: flex;flex-direction: column;position: relative;background-color: white;}#sk-ff9d903b-161c-472a-9917-f73a97cc8c90 div.sk-parallel-item:first-child::after {align-self: flex-end;width: 50%;}#sk-ff9d903b-161c-472a-9917-f73a97cc8c90 div.sk-parallel-item:last-child::after {align-self: flex-start;width: 50%;}#sk-ff9d903b-161c-472a-9917-f73a97cc8c90 div.sk-parallel-item:only-child::after {width: 0;}#sk-ff9d903b-161c-472a-9917-f73a97cc8c90 div.sk-dashed-wrapped {border: 1px dashed gray;margin: 0.2em;box-sizing: border-box;padding-bottom: 0.1em;background-color: white;position: relative;}#sk-ff9d903b-161c-472a-9917-f73a97cc8c90 div.sk-label label {font-family: monospace;font-weight: bold;background-color: white;display: inline-block;line-height: 1.2em;}#sk-ff9d903b-161c-472a-9917-f73a97cc8c90 div.sk-label-container {position: relative;z-index: 2;text-align: center;}#sk-ff9d903b-161c-472a-9917-f73a97cc8c90 div.sk-container {display: inline-block;position: relative;}</style><div id=\"sk-ff9d903b-161c-472a-9917-f73a97cc8c90\" class\"sk-top-container\"><div class=\"sk-container\"><div class=\"sk-item\"><div class=\"sk-estimator sk-toggleable\"><input class=\"sk-toggleable__control sk-hidden--visually\" id=\"1ee1ce3d-f2dc-4450-b49e-544b2f019a16\" type=\"checkbox\" checked><label class=\"sk-toggleable__label\" for=\"1ee1ce3d-f2dc-4450-b49e-544b2f019a16\">HistGradientBoostingClassifier</label><div class=\"sk-toggleable__content\"><pre>HistGradientBoostingClassifier(early_stopping=True, max_iter=1000,\n",
       "                               random_state=0)</pre></div></div></div></div></div>"
      ],
      "text/plain": [
       "HistGradientBoostingClassifier(early_stopping=True, max_iter=1000,\n",
       "                               random_state=0)"
      ]
     },
     "execution_count": 14,
     "metadata": {},
     "output_type": "execute_result"
    }
   ],
   "source": [
    "# explicitly require this experimental feature\n",
    "from sklearn.experimental import enable_hist_gradient_boosting\n",
    "# now you can import normally from ensemble\n",
    "from sklearn.ensemble import HistGradientBoostingClassifier\n",
    "\n",
    "hist_gbdt = HistGradientBoostingClassifier(\n",
    "    max_iter=1000, early_stopping=True, random_state=0)\n",
    "hist_gbdt"
   ]
  },
  {
   "cell_type": "markdown",
   "metadata": {},
   "source": [
    "Is histogram gradient boosting a better classifier considering the mean of the cross-validation test_score?\n",
    "\n",
    "We can evaluate the `HistGradientBoostingClassifier` with the following snippet."
   ]
  },
  {
   "cell_type": "code",
   "execution_count": 15,
   "metadata": {},
   "outputs": [
    {
     "name": "stdout",
     "output_type": "stream",
     "text": [
      "Average balanced accuracy: 0.579 +/- 0.110\n",
      "CPU times: user 30.9 ms, sys: 277 µs, total: 31.1 ms\n",
      "Wall time: 603 ms\n"
     ]
    }
   ],
   "source": [
    "%%time\n",
    "\n",
    "cv_results = cross_validate(hist_gbdt, data, target, \n",
    "    cv=10, scoring='balanced_accuracy', n_jobs=2, \n",
    "    return_estimator=True)\n",
    "print(f\"Average balanced accuracy: \"\n",
    "    f\"{cv_results['test_score'].mean():.3f} +/- \"\n",
    "    f\"{cv_results['test_score'].std():.3f}\")"
   ]
  },
  {
   "cell_type": "markdown",
   "metadata": {},
   "source": [
    "This classifier reach a balanced accuracy of ~0.58 which is better than all other methods.\n",
    "\n",
    "With the early stopping activated, how many trees on average the `HistGradientBoostingClassifier` needed to converge?\n",
    "\n",
    "We can inspect the fitted estimator resulting from the cross-validation."
   ]
  },
  {
   "cell_type": "code",
   "execution_count": 16,
   "metadata": {},
   "outputs": [
    {
     "name": "stdout",
     "output_type": "stream",
     "text": [
      "On average, 33.3 iterations where required.\n"
     ]
    }
   ],
   "source": [
    "import numpy as np\n",
    "\n",
    "num_tree = np.mean([estimator.n_iter_ \n",
    "    for estimator in cv_results['estimator']])\n",
    "print(f\"On average, {num_tree} iterations where required.\")"
   ]
  },
  {
   "cell_type": "markdown",
   "metadata": {},
   "source": [
    "`Imbalanced-learn` is an open-source library relying on scikit-learn and provides methods to deal with classification with imbalanced classes.\n",
    "\n",
    "Here, we will be using the class `imblearn.ensemble.BalancedBaggingClassifier` to alleviate the issue of class imbalance.\n",
    "\n",
    "Use the `BalancedBaggingClassifier` and pass an `HistGradientBoostingClassifier` as a `base_estimator`. Fix the hyperparameter `n_estimators` to 50.\n",
    "\n",
    "`BalancedBaggingClassifier` equivalent to a `sklearn.ensemble.BaggingClassifier` with a resampling of each bootstrap sample will be resampled to achieve a desired class balance that contain a many samples from each class."
   ]
  },
  {
   "cell_type": "code",
   "execution_count": 17,
   "metadata": {},
   "outputs": [
    {
     "data": {
      "text/html": [
       "<style>#sk-f7abc971-4948-44ed-93c4-95b6f97ff738 {color: black;background-color: white;}#sk-f7abc971-4948-44ed-93c4-95b6f97ff738 pre{padding: 0;}#sk-f7abc971-4948-44ed-93c4-95b6f97ff738 div.sk-toggleable {background-color: white;}#sk-f7abc971-4948-44ed-93c4-95b6f97ff738 label.sk-toggleable__label {cursor: pointer;display: block;width: 100%;margin-bottom: 0;padding: 0.2em 0.3em;box-sizing: border-box;text-align: center;}#sk-f7abc971-4948-44ed-93c4-95b6f97ff738 div.sk-toggleable__content {max-height: 0;max-width: 0;overflow: hidden;text-align: left;background-color: #f0f8ff;}#sk-f7abc971-4948-44ed-93c4-95b6f97ff738 div.sk-toggleable__content pre {margin: 0.2em;color: black;border-radius: 0.25em;background-color: #f0f8ff;}#sk-f7abc971-4948-44ed-93c4-95b6f97ff738 input.sk-toggleable__control:checked~div.sk-toggleable__content {max-height: 200px;max-width: 100%;overflow: auto;}#sk-f7abc971-4948-44ed-93c4-95b6f97ff738 div.sk-estimator input.sk-toggleable__control:checked~label.sk-toggleable__label {background-color: #d4ebff;}#sk-f7abc971-4948-44ed-93c4-95b6f97ff738 div.sk-label input.sk-toggleable__control:checked~label.sk-toggleable__label {background-color: #d4ebff;}#sk-f7abc971-4948-44ed-93c4-95b6f97ff738 input.sk-hidden--visually {border: 0;clip: rect(1px 1px 1px 1px);clip: rect(1px, 1px, 1px, 1px);height: 1px;margin: -1px;overflow: hidden;padding: 0;position: absolute;width: 1px;}#sk-f7abc971-4948-44ed-93c4-95b6f97ff738 div.sk-estimator {font-family: monospace;background-color: #f0f8ff;margin: 0.25em 0.25em;border: 1px dotted black;border-radius: 0.25em;box-sizing: border-box;}#sk-f7abc971-4948-44ed-93c4-95b6f97ff738 div.sk-estimator:hover {background-color: #d4ebff;}#sk-f7abc971-4948-44ed-93c4-95b6f97ff738 div.sk-parallel-item::after {content: \"\";width: 100%;border-bottom: 1px solid gray;flex-grow: 1;}#sk-f7abc971-4948-44ed-93c4-95b6f97ff738 div.sk-label:hover label.sk-toggleable__label {background-color: #d4ebff;}#sk-f7abc971-4948-44ed-93c4-95b6f97ff738 div.sk-serial::before {content: \"\";position: absolute;border-left: 1px solid gray;box-sizing: border-box;top: 2em;bottom: 0;left: 50%;}#sk-f7abc971-4948-44ed-93c4-95b6f97ff738 div.sk-serial {display: flex;flex-direction: column;align-items: center;background-color: white;}#sk-f7abc971-4948-44ed-93c4-95b6f97ff738 div.sk-item {z-index: 1;}#sk-f7abc971-4948-44ed-93c4-95b6f97ff738 div.sk-parallel {display: flex;align-items: stretch;justify-content: center;background-color: white;}#sk-f7abc971-4948-44ed-93c4-95b6f97ff738 div.sk-parallel-item {display: flex;flex-direction: column;position: relative;background-color: white;}#sk-f7abc971-4948-44ed-93c4-95b6f97ff738 div.sk-parallel-item:first-child::after {align-self: flex-end;width: 50%;}#sk-f7abc971-4948-44ed-93c4-95b6f97ff738 div.sk-parallel-item:last-child::after {align-self: flex-start;width: 50%;}#sk-f7abc971-4948-44ed-93c4-95b6f97ff738 div.sk-parallel-item:only-child::after {width: 0;}#sk-f7abc971-4948-44ed-93c4-95b6f97ff738 div.sk-dashed-wrapped {border: 1px dashed gray;margin: 0.2em;box-sizing: border-box;padding-bottom: 0.1em;background-color: white;position: relative;}#sk-f7abc971-4948-44ed-93c4-95b6f97ff738 div.sk-label label {font-family: monospace;font-weight: bold;background-color: white;display: inline-block;line-height: 1.2em;}#sk-f7abc971-4948-44ed-93c4-95b6f97ff738 div.sk-label-container {position: relative;z-index: 2;text-align: center;}#sk-f7abc971-4948-44ed-93c4-95b6f97ff738 div.sk-container {display: inline-block;position: relative;}</style><div id=\"sk-f7abc971-4948-44ed-93c4-95b6f97ff738\" class\"sk-top-container\"><div class=\"sk-container\"><div class=\"sk-item sk-dashed-wrapped\"><div class=\"sk-label-container\"><div class=\"sk-label sk-toggleable\"><input class=\"sk-toggleable__control sk-hidden--visually\" id=\"a2bc4b5c-fa61-441f-a0af-0d3d1d6fae65\" type=\"checkbox\" ><label class=\"sk-toggleable__label\" for=\"a2bc4b5c-fa61-441f-a0af-0d3d1d6fae65\">BalancedBaggingClassifier</label><div class=\"sk-toggleable__content\"><pre>BalancedBaggingClassifier(base_estimator=HistGradientBoostingClassifier(early_stopping=True,\n",
       "                                                                        max_iter=1000,\n",
       "                                                                        random_state=0),\n",
       "                          n_estimators=50, n_jobs=2, random_state=0)</pre></div></div></div><div class=\"sk-parallel\"><div class=\"sk-parallel-item\"><div class=\"sk-item\"><div class=\"sk-serial\"><div class=\"sk-item\"><div class=\"sk-estimator sk-toggleable\"><input class=\"sk-toggleable__control sk-hidden--visually\" id=\"fd9b246e-7e99-42dd-9320-3ba3947315ff\" type=\"checkbox\" ><label class=\"sk-toggleable__label\" for=\"fd9b246e-7e99-42dd-9320-3ba3947315ff\">HistGradientBoostingClassifier</label><div class=\"sk-toggleable__content\"><pre>HistGradientBoostingClassifier(early_stopping=True, max_iter=1000,\n",
       "                               random_state=0)</pre></div></div></div></div></div></div></div></div></div></div>"
      ],
      "text/plain": [
       "BalancedBaggingClassifier(base_estimator=HistGradientBoostingClassifier(early_stopping=True,\n",
       "                                                                        max_iter=1000,\n",
       "                                                                        random_state=0),\n",
       "                          n_estimators=50, n_jobs=2, random_state=0)"
      ]
     },
     "execution_count": 17,
     "metadata": {},
     "output_type": "execute_result"
    }
   ],
   "source": [
    "from imblearn.ensemble import BalancedBaggingClassifier\n",
    "\n",
    "bbc = BalancedBaggingClassifier(\n",
    "    base_estimator=hist_gbdt,\n",
    "    n_estimators=50, \n",
    "    n_jobs=2, random_state=0)\n",
    "bbc"
   ]
  },
  {
   "cell_type": "markdown",
   "metadata": {},
   "source": [
    "Compared to the balanced accuracy of a `HistGradientBoostingClassifier` alone, the balanced accuracy of the `BalancedBaggingClassifier` is **Better**.\n",
    "\n",
    "The following code snipped allows to evaluate the `BalancedBaggingClassifier`."
   ]
  },
  {
   "cell_type": "code",
   "execution_count": 18,
   "metadata": {},
   "outputs": [
    {
     "name": "stdout",
     "output_type": "stream",
     "text": [
      "Average balanced accuracy: 0.601 +/- 0.077\n",
      "CPU times: user 21.9 ms, sys: 0 ns, total: 21.9 ms\n",
      "Wall time: 41.3 s\n"
     ]
    }
   ],
   "source": [
    "%%time\n",
    "\n",
    "scores_bbc = cross_val_score(bbc, data, target, \n",
    "    cv=10, scoring='balanced_accuracy', n_jobs=2)\n",
    "print(f\"Average balanced accuracy: \"\n",
    "    f\"{scores_bbc.mean():.3f} +/- \"\n",
    "    f\"{scores_bbc.std():.3f}\")"
   ]
  },
  {
   "cell_type": "markdown",
   "metadata": {},
   "source": [
    "The balanced accuracy for the `BalancedBaggingClassifier` is around ~0.6. It is better (i.e. higher) than the average balanced accuracy of a `HistGradientBoostingClassifier` alone, which was around ~0.58."
   ]
  }
 ],
 "metadata": {
  "kernelspec": {
   "display_name": "Python 3",
   "language": "python",
   "name": "python3"
  },
  "language_info": {
   "codemirror_mode": {
    "name": "ipython",
    "version": 3
   },
   "file_extension": ".py",
   "mimetype": "text/x-python",
   "name": "python",
   "nbconvert_exporter": "python",
   "pygments_lexer": "ipython3",
   "version": "3.8.10"
  }
 },
 "nbformat": 4,
 "nbformat_minor": 4
}
