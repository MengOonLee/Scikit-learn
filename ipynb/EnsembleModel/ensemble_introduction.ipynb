{
 "cells": [
  {
   "cell_type": "markdown",
   "id": "91c19bf3",
   "metadata": {},
   "source": [
    "# Introductory example to ensemble models\n",
    "\n",
    "This first notebook aims at emphasizing the benefit of ensemble methods over\n",
    "simple models (e.g. decision tree, linear model, etc.). Combining simple\n",
    "models result in more powerful and robust models with less hassle.\n",
    "\n",
    "We will start by loading the california housing dataset. We recall that the\n",
    "goal in this dataset is to predict the median house value in some district\n",
    "in California based on demographic and geographic data."
   ]
  },
  {
   "cell_type": "markdown",
   "id": "897c0d71",
   "metadata": {},
   "source": [
    "<div class=\"admonition note alert alert-info\">\n",
    "<p class=\"first admonition-title\" style=\"font-weight: bold;\">Note</p>\n",
    "<p class=\"last\">If you want a deeper overview regarding this dataset, you can refer to the\n",
    "Appendix - Datasets description section at the end of this MOOC.</p>\n",
    "</div>"
   ]
  },
  {
   "cell_type": "code",
   "execution_count": 1,
   "id": "8650bdb9",
   "metadata": {},
   "outputs": [
    {
     "data": {
      "text/html": [
       "<div>\n",
       "<style scoped>\n",
       "    .dataframe tbody tr th:only-of-type {\n",
       "        vertical-align: middle;\n",
       "    }\n",
       "\n",
       "    .dataframe tbody tr th {\n",
       "        vertical-align: top;\n",
       "    }\n",
       "\n",
       "    .dataframe thead th {\n",
       "        text-align: right;\n",
       "    }\n",
       "</style>\n",
       "<table border=\"1\" class=\"dataframe\">\n",
       "  <thead>\n",
       "    <tr style=\"text-align: right;\">\n",
       "      <th></th>\n",
       "      <th>MedInc</th>\n",
       "      <th>HouseAge</th>\n",
       "      <th>AveRooms</th>\n",
       "      <th>AveBedrms</th>\n",
       "      <th>Population</th>\n",
       "      <th>AveOccup</th>\n",
       "      <th>Latitude</th>\n",
       "      <th>Longitude</th>\n",
       "    </tr>\n",
       "  </thead>\n",
       "  <tbody>\n",
       "    <tr>\n",
       "      <th>0</th>\n",
       "      <td>8.3252</td>\n",
       "      <td>41.0</td>\n",
       "      <td>6.984127</td>\n",
       "      <td>1.023810</td>\n",
       "      <td>322.0</td>\n",
       "      <td>2.555556</td>\n",
       "      <td>37.88</td>\n",
       "      <td>-122.23</td>\n",
       "    </tr>\n",
       "    <tr>\n",
       "      <th>1</th>\n",
       "      <td>8.3014</td>\n",
       "      <td>21.0</td>\n",
       "      <td>6.238137</td>\n",
       "      <td>0.971880</td>\n",
       "      <td>2401.0</td>\n",
       "      <td>2.109842</td>\n",
       "      <td>37.86</td>\n",
       "      <td>-122.22</td>\n",
       "    </tr>\n",
       "    <tr>\n",
       "      <th>2</th>\n",
       "      <td>7.2574</td>\n",
       "      <td>52.0</td>\n",
       "      <td>8.288136</td>\n",
       "      <td>1.073446</td>\n",
       "      <td>496.0</td>\n",
       "      <td>2.802260</td>\n",
       "      <td>37.85</td>\n",
       "      <td>-122.24</td>\n",
       "    </tr>\n",
       "    <tr>\n",
       "      <th>3</th>\n",
       "      <td>5.6431</td>\n",
       "      <td>52.0</td>\n",
       "      <td>5.817352</td>\n",
       "      <td>1.073059</td>\n",
       "      <td>558.0</td>\n",
       "      <td>2.547945</td>\n",
       "      <td>37.85</td>\n",
       "      <td>-122.25</td>\n",
       "    </tr>\n",
       "    <tr>\n",
       "      <th>4</th>\n",
       "      <td>3.8462</td>\n",
       "      <td>52.0</td>\n",
       "      <td>6.281853</td>\n",
       "      <td>1.081081</td>\n",
       "      <td>565.0</td>\n",
       "      <td>2.181467</td>\n",
       "      <td>37.85</td>\n",
       "      <td>-122.25</td>\n",
       "    </tr>\n",
       "  </tbody>\n",
       "</table>\n",
       "</div>"
      ],
      "text/plain": [
       "   MedInc  HouseAge  AveRooms  AveBedrms  Population  AveOccup  Latitude  \\\n",
       "0  8.3252      41.0  6.984127   1.023810       322.0  2.555556     37.88   \n",
       "1  8.3014      21.0  6.238137   0.971880      2401.0  2.109842     37.86   \n",
       "2  7.2574      52.0  8.288136   1.073446       496.0  2.802260     37.85   \n",
       "3  5.6431      52.0  5.817352   1.073059       558.0  2.547945     37.85   \n",
       "4  3.8462      52.0  6.281853   1.081081       565.0  2.181467     37.85   \n",
       "\n",
       "   Longitude  \n",
       "0    -122.23  \n",
       "1    -122.22  \n",
       "2    -122.24  \n",
       "3    -122.25  \n",
       "4    -122.25  "
      ]
     },
     "execution_count": 1,
     "metadata": {},
     "output_type": "execute_result"
    }
   ],
   "source": [
    "from sklearn.datasets import fetch_california_housing\n",
    "\n",
    "data, target = fetch_california_housing(as_frame=True, return_X_y=True)\n",
    "target *= 100  # rescale the target in k$\n",
    "data.head()"
   ]
  },
  {
   "cell_type": "markdown",
   "id": "d77c6915-a687-4192-a114-081bd8a4613e",
   "metadata": {},
   "source": [
    "We can display an interactive diagram with the following command:"
   ]
  },
  {
   "cell_type": "code",
   "execution_count": 4,
   "id": "7d8889ef-b19e-44b8-8415-79b9522ede56",
   "metadata": {},
   "outputs": [],
   "source": [
    "from sklearn import set_config\n",
    "set_config(display='diagram')"
   ]
  },
  {
   "cell_type": "markdown",
   "id": "b2d4b9f0",
   "metadata": {},
   "source": [
    "We will check the statistical performance of decision tree regressor with\n",
    "default parameters."
   ]
  },
  {
   "cell_type": "code",
   "execution_count": 5,
   "id": "a8bb89d2",
   "metadata": {},
   "outputs": [
    {
     "data": {
      "text/html": [
       "<style>#sk-5c0fcc71-654d-42df-b0b3-00b0cd7921b8 {color: black;background-color: white;}#sk-5c0fcc71-654d-42df-b0b3-00b0cd7921b8 pre{padding: 0;}#sk-5c0fcc71-654d-42df-b0b3-00b0cd7921b8 div.sk-toggleable {background-color: white;}#sk-5c0fcc71-654d-42df-b0b3-00b0cd7921b8 label.sk-toggleable__label {cursor: pointer;display: block;width: 100%;margin-bottom: 0;padding: 0.2em 0.3em;box-sizing: border-box;text-align: center;}#sk-5c0fcc71-654d-42df-b0b3-00b0cd7921b8 div.sk-toggleable__content {max-height: 0;max-width: 0;overflow: hidden;text-align: left;background-color: #f0f8ff;}#sk-5c0fcc71-654d-42df-b0b3-00b0cd7921b8 div.sk-toggleable__content pre {margin: 0.2em;color: black;border-radius: 0.25em;background-color: #f0f8ff;}#sk-5c0fcc71-654d-42df-b0b3-00b0cd7921b8 input.sk-toggleable__control:checked~div.sk-toggleable__content {max-height: 200px;max-width: 100%;overflow: auto;}#sk-5c0fcc71-654d-42df-b0b3-00b0cd7921b8 div.sk-estimator input.sk-toggleable__control:checked~label.sk-toggleable__label {background-color: #d4ebff;}#sk-5c0fcc71-654d-42df-b0b3-00b0cd7921b8 div.sk-label input.sk-toggleable__control:checked~label.sk-toggleable__label {background-color: #d4ebff;}#sk-5c0fcc71-654d-42df-b0b3-00b0cd7921b8 input.sk-hidden--visually {border: 0;clip: rect(1px 1px 1px 1px);clip: rect(1px, 1px, 1px, 1px);height: 1px;margin: -1px;overflow: hidden;padding: 0;position: absolute;width: 1px;}#sk-5c0fcc71-654d-42df-b0b3-00b0cd7921b8 div.sk-estimator {font-family: monospace;background-color: #f0f8ff;margin: 0.25em 0.25em;border: 1px dotted black;border-radius: 0.25em;box-sizing: border-box;}#sk-5c0fcc71-654d-42df-b0b3-00b0cd7921b8 div.sk-estimator:hover {background-color: #d4ebff;}#sk-5c0fcc71-654d-42df-b0b3-00b0cd7921b8 div.sk-parallel-item::after {content: \"\";width: 100%;border-bottom: 1px solid gray;flex-grow: 1;}#sk-5c0fcc71-654d-42df-b0b3-00b0cd7921b8 div.sk-label:hover label.sk-toggleable__label {background-color: #d4ebff;}#sk-5c0fcc71-654d-42df-b0b3-00b0cd7921b8 div.sk-serial::before {content: \"\";position: absolute;border-left: 1px solid gray;box-sizing: border-box;top: 2em;bottom: 0;left: 50%;}#sk-5c0fcc71-654d-42df-b0b3-00b0cd7921b8 div.sk-serial {display: flex;flex-direction: column;align-items: center;background-color: white;}#sk-5c0fcc71-654d-42df-b0b3-00b0cd7921b8 div.sk-item {z-index: 1;}#sk-5c0fcc71-654d-42df-b0b3-00b0cd7921b8 div.sk-parallel {display: flex;align-items: stretch;justify-content: center;background-color: white;}#sk-5c0fcc71-654d-42df-b0b3-00b0cd7921b8 div.sk-parallel-item {display: flex;flex-direction: column;position: relative;background-color: white;}#sk-5c0fcc71-654d-42df-b0b3-00b0cd7921b8 div.sk-parallel-item:first-child::after {align-self: flex-end;width: 50%;}#sk-5c0fcc71-654d-42df-b0b3-00b0cd7921b8 div.sk-parallel-item:last-child::after {align-self: flex-start;width: 50%;}#sk-5c0fcc71-654d-42df-b0b3-00b0cd7921b8 div.sk-parallel-item:only-child::after {width: 0;}#sk-5c0fcc71-654d-42df-b0b3-00b0cd7921b8 div.sk-dashed-wrapped {border: 1px dashed gray;margin: 0.2em;box-sizing: border-box;padding-bottom: 0.1em;background-color: white;position: relative;}#sk-5c0fcc71-654d-42df-b0b3-00b0cd7921b8 div.sk-label label {font-family: monospace;font-weight: bold;background-color: white;display: inline-block;line-height: 1.2em;}#sk-5c0fcc71-654d-42df-b0b3-00b0cd7921b8 div.sk-label-container {position: relative;z-index: 2;text-align: center;}#sk-5c0fcc71-654d-42df-b0b3-00b0cd7921b8 div.sk-container {display: inline-block;position: relative;}</style><div id=\"sk-5c0fcc71-654d-42df-b0b3-00b0cd7921b8\" class\"sk-top-container\"><div class=\"sk-container\"><div class=\"sk-item\"><div class=\"sk-estimator sk-toggleable\"><input class=\"sk-toggleable__control sk-hidden--visually\" id=\"f48fcf4a-d5d1-46eb-b59c-604456f92718\" type=\"checkbox\" checked><label class=\"sk-toggleable__label\" for=\"f48fcf4a-d5d1-46eb-b59c-604456f92718\">DecisionTreeRegressor</label><div class=\"sk-toggleable__content\"><pre>DecisionTreeRegressor(random_state=0)</pre></div></div></div></div></div>"
      ],
      "text/plain": [
       "DecisionTreeRegressor(random_state=0)"
      ]
     },
     "execution_count": 5,
     "metadata": {},
     "output_type": "execute_result"
    }
   ],
   "source": [
    "from sklearn.tree import DecisionTreeRegressor\n",
    "\n",
    "tree = DecisionTreeRegressor(random_state=0)\n",
    "tree"
   ]
  },
  {
   "cell_type": "code",
   "execution_count": 6,
   "id": "30d73153-150c-41ec-a882-e848e074d894",
   "metadata": {},
   "outputs": [
    {
     "name": "stdout",
     "output_type": "stream",
     "text": [
      "R2 score obtained by cross-validation: 0.354 +/- 0.087\n",
      "CPU times: user 40.5 ms, sys: 73.8 ms, total: 114 ms\n",
      "Wall time: 1.03 s\n"
     ]
    }
   ],
   "source": [
    "%%time\n",
    "from sklearn.model_selection import cross_validate\n",
    "\n",
    "cv_results = cross_validate(tree, data, target, n_jobs=-1)\n",
    "scores = cv_results[\"test_score\"]\n",
    "\n",
    "print(f\"R2 score obtained by cross-validation: \"\n",
    "    f\"{scores.mean():.3f} +/- {scores.std():.3f}\")"
   ]
  },
  {
   "cell_type": "markdown",
   "id": "9e225e78",
   "metadata": {},
   "source": [
    "We obtain fair results. However, as we previously presented in the \"tree in\n",
    "depth\" notebook, this model needs to be tuned to overcome over- or\n",
    "under-fitting. Indeed, the default parameters will not necessarily lead to an\n",
    "optimal decision tree. Instead of using the default value, we should search\n",
    "via cross-validation the optimal value of the important parameters such as\n",
    "`max_depth`, `min_samples_split`, or `min_samples_leaf`.\n",
    "\n",
    "We recall that we need to tune these parameters, as decision trees tend to\n",
    "overfit the training data if we grow deep trees, but there are no rules on\n",
    "what each parameter should be set to. Thus, not making a search could lead us\n",
    "to have an underfitted or overfitted model.\n",
    "\n",
    "Now, we make a grid-search to tune the hyperparameters that we mentioned\n",
    "earlier."
   ]
  },
  {
   "cell_type": "code",
   "execution_count": 7,
   "id": "d7b33b24",
   "metadata": {},
   "outputs": [
    {
     "data": {
      "text/html": [
       "<style>#sk-29b54235-e756-4da8-a322-1e0822a88da6 {color: black;background-color: white;}#sk-29b54235-e756-4da8-a322-1e0822a88da6 pre{padding: 0;}#sk-29b54235-e756-4da8-a322-1e0822a88da6 div.sk-toggleable {background-color: white;}#sk-29b54235-e756-4da8-a322-1e0822a88da6 label.sk-toggleable__label {cursor: pointer;display: block;width: 100%;margin-bottom: 0;padding: 0.2em 0.3em;box-sizing: border-box;text-align: center;}#sk-29b54235-e756-4da8-a322-1e0822a88da6 div.sk-toggleable__content {max-height: 0;max-width: 0;overflow: hidden;text-align: left;background-color: #f0f8ff;}#sk-29b54235-e756-4da8-a322-1e0822a88da6 div.sk-toggleable__content pre {margin: 0.2em;color: black;border-radius: 0.25em;background-color: #f0f8ff;}#sk-29b54235-e756-4da8-a322-1e0822a88da6 input.sk-toggleable__control:checked~div.sk-toggleable__content {max-height: 200px;max-width: 100%;overflow: auto;}#sk-29b54235-e756-4da8-a322-1e0822a88da6 div.sk-estimator input.sk-toggleable__control:checked~label.sk-toggleable__label {background-color: #d4ebff;}#sk-29b54235-e756-4da8-a322-1e0822a88da6 div.sk-label input.sk-toggleable__control:checked~label.sk-toggleable__label {background-color: #d4ebff;}#sk-29b54235-e756-4da8-a322-1e0822a88da6 input.sk-hidden--visually {border: 0;clip: rect(1px 1px 1px 1px);clip: rect(1px, 1px, 1px, 1px);height: 1px;margin: -1px;overflow: hidden;padding: 0;position: absolute;width: 1px;}#sk-29b54235-e756-4da8-a322-1e0822a88da6 div.sk-estimator {font-family: monospace;background-color: #f0f8ff;margin: 0.25em 0.25em;border: 1px dotted black;border-radius: 0.25em;box-sizing: border-box;}#sk-29b54235-e756-4da8-a322-1e0822a88da6 div.sk-estimator:hover {background-color: #d4ebff;}#sk-29b54235-e756-4da8-a322-1e0822a88da6 div.sk-parallel-item::after {content: \"\";width: 100%;border-bottom: 1px solid gray;flex-grow: 1;}#sk-29b54235-e756-4da8-a322-1e0822a88da6 div.sk-label:hover label.sk-toggleable__label {background-color: #d4ebff;}#sk-29b54235-e756-4da8-a322-1e0822a88da6 div.sk-serial::before {content: \"\";position: absolute;border-left: 1px solid gray;box-sizing: border-box;top: 2em;bottom: 0;left: 50%;}#sk-29b54235-e756-4da8-a322-1e0822a88da6 div.sk-serial {display: flex;flex-direction: column;align-items: center;background-color: white;}#sk-29b54235-e756-4da8-a322-1e0822a88da6 div.sk-item {z-index: 1;}#sk-29b54235-e756-4da8-a322-1e0822a88da6 div.sk-parallel {display: flex;align-items: stretch;justify-content: center;background-color: white;}#sk-29b54235-e756-4da8-a322-1e0822a88da6 div.sk-parallel-item {display: flex;flex-direction: column;position: relative;background-color: white;}#sk-29b54235-e756-4da8-a322-1e0822a88da6 div.sk-parallel-item:first-child::after {align-self: flex-end;width: 50%;}#sk-29b54235-e756-4da8-a322-1e0822a88da6 div.sk-parallel-item:last-child::after {align-self: flex-start;width: 50%;}#sk-29b54235-e756-4da8-a322-1e0822a88da6 div.sk-parallel-item:only-child::after {width: 0;}#sk-29b54235-e756-4da8-a322-1e0822a88da6 div.sk-dashed-wrapped {border: 1px dashed gray;margin: 0.2em;box-sizing: border-box;padding-bottom: 0.1em;background-color: white;position: relative;}#sk-29b54235-e756-4da8-a322-1e0822a88da6 div.sk-label label {font-family: monospace;font-weight: bold;background-color: white;display: inline-block;line-height: 1.2em;}#sk-29b54235-e756-4da8-a322-1e0822a88da6 div.sk-label-container {position: relative;z-index: 2;text-align: center;}#sk-29b54235-e756-4da8-a322-1e0822a88da6 div.sk-container {display: inline-block;position: relative;}</style><div id=\"sk-29b54235-e756-4da8-a322-1e0822a88da6\" class\"sk-top-container\"><div class=\"sk-container\"><div class=\"sk-item sk-dashed-wrapped\"><div class=\"sk-label-container\"><div class=\"sk-label sk-toggleable\"><input class=\"sk-toggleable__control sk-hidden--visually\" id=\"d219c3fc-45d8-4fd4-8e5b-2f046c2c8efb\" type=\"checkbox\" ><label class=\"sk-toggleable__label\" for=\"d219c3fc-45d8-4fd4-8e5b-2f046c2c8efb\">GridSearchCV</label><div class=\"sk-toggleable__content\"><pre>GridSearchCV(cv=3, estimator=DecisionTreeRegressor(random_state=0), n_jobs=-1,\n",
       "             param_grid={'max_depth': [5, 8, None],\n",
       "                         'min_samples_leaf': [0.01, 0.05, 0.1, 1],\n",
       "                         'min_samples_split': [2, 10, 30, 50]})</pre></div></div></div><div class=\"sk-parallel\"><div class=\"sk-parallel-item\"><div class=\"sk-item\"><div class=\"sk-serial\"><div class=\"sk-item\"><div class=\"sk-estimator sk-toggleable\"><input class=\"sk-toggleable__control sk-hidden--visually\" id=\"5f9c2049-0dfb-47b0-8ad1-84fcbe4fa809\" type=\"checkbox\" ><label class=\"sk-toggleable__label\" for=\"5f9c2049-0dfb-47b0-8ad1-84fcbe4fa809\">DecisionTreeRegressor</label><div class=\"sk-toggleable__content\"><pre>DecisionTreeRegressor(random_state=0)</pre></div></div></div></div></div></div></div></div></div></div>"
      ],
      "text/plain": [
       "GridSearchCV(cv=3, estimator=DecisionTreeRegressor(random_state=0), n_jobs=-1,\n",
       "             param_grid={'max_depth': [5, 8, None],\n",
       "                         'min_samples_leaf': [0.01, 0.05, 0.1, 1],\n",
       "                         'min_samples_split': [2, 10, 30, 50]})"
      ]
     },
     "execution_count": 7,
     "metadata": {},
     "output_type": "execute_result"
    }
   ],
   "source": [
    "from sklearn.model_selection import GridSearchCV\n",
    "\n",
    "param_grid = {\n",
    "    \"max_depth\": [5, 8, None],\n",
    "    \"min_samples_split\": [2, 10, 30, 50],\n",
    "    \"min_samples_leaf\": [0.01, 0.05, 0.1, 1]}\n",
    "cv = 3\n",
    "\n",
    "tree = GridSearchCV(DecisionTreeRegressor(random_state=0),\n",
    "    param_grid=param_grid, cv=cv, n_jobs=-1)\n",
    "tree"
   ]
  },
  {
   "cell_type": "code",
   "execution_count": 8,
   "id": "26529b0e-450b-44c3-933e-cd2936363fc4",
   "metadata": {},
   "outputs": [
    {
     "name": "stdout",
     "output_type": "stream",
     "text": [
      "R2 score obtained by cross-validation: 0.523 +/- 0.107\n",
      "CPU times: user 25.9 ms, sys: 5.64 ms, total: 31.5 ms\n",
      "Wall time: 4.3 s\n"
     ]
    }
   ],
   "source": [
    "%%time\n",
    "cv_results = cross_validate(tree, data, target, n_jobs=-1,\n",
    "    return_estimator=True)\n",
    "scores = cv_results[\"test_score\"]\n",
    "\n",
    "print(f\"R2 score obtained by cross-validation: \"\n",
    "    f\"{scores.mean():.3f} +/- {scores.std():.3f}\")"
   ]
  },
  {
   "cell_type": "markdown",
   "id": "604d9b05",
   "metadata": {},
   "source": [
    "We see that optimizing the hyperparameters will have a positive effect\n",
    "on the statistical performance. However, it comes with a higher computational\n",
    "cost."
   ]
  },
  {
   "cell_type": "markdown",
   "id": "b475650e",
   "metadata": {},
   "source": [
    "We can create a dataframe storing the important information collected during\n",
    "the tuning of the parameters and investigate the results.\n",
    "\n",
    "Now we will use an ensemble method called bagging. More details about this\n",
    "method will be discussed in the next section. In short, this method will use\n",
    "a base regressor (i.e. decision tree regressors) and will train several of\n",
    "them on a slightly modified version of the training set. Then, the\n",
    "predictions of all these base regressors will be combined by averaging.\n",
    "\n",
    "Here, we will use 20 decision trees and check the fitting time as well as the\n",
    "statistical performance on the left-out testing data. It is important to note\n",
    "that we are not going to tune any parameter of the decision tree."
   ]
  },
  {
   "cell_type": "code",
   "execution_count": 12,
   "id": "c73c9a41",
   "metadata": {},
   "outputs": [
    {
     "data": {
      "text/html": [
       "<style>#sk-5c12a1e6-a4ad-4da7-bfbd-15d655af278d {color: black;background-color: white;}#sk-5c12a1e6-a4ad-4da7-bfbd-15d655af278d pre{padding: 0;}#sk-5c12a1e6-a4ad-4da7-bfbd-15d655af278d div.sk-toggleable {background-color: white;}#sk-5c12a1e6-a4ad-4da7-bfbd-15d655af278d label.sk-toggleable__label {cursor: pointer;display: block;width: 100%;margin-bottom: 0;padding: 0.2em 0.3em;box-sizing: border-box;text-align: center;}#sk-5c12a1e6-a4ad-4da7-bfbd-15d655af278d div.sk-toggleable__content {max-height: 0;max-width: 0;overflow: hidden;text-align: left;background-color: #f0f8ff;}#sk-5c12a1e6-a4ad-4da7-bfbd-15d655af278d div.sk-toggleable__content pre {margin: 0.2em;color: black;border-radius: 0.25em;background-color: #f0f8ff;}#sk-5c12a1e6-a4ad-4da7-bfbd-15d655af278d input.sk-toggleable__control:checked~div.sk-toggleable__content {max-height: 200px;max-width: 100%;overflow: auto;}#sk-5c12a1e6-a4ad-4da7-bfbd-15d655af278d div.sk-estimator input.sk-toggleable__control:checked~label.sk-toggleable__label {background-color: #d4ebff;}#sk-5c12a1e6-a4ad-4da7-bfbd-15d655af278d div.sk-label input.sk-toggleable__control:checked~label.sk-toggleable__label {background-color: #d4ebff;}#sk-5c12a1e6-a4ad-4da7-bfbd-15d655af278d input.sk-hidden--visually {border: 0;clip: rect(1px 1px 1px 1px);clip: rect(1px, 1px, 1px, 1px);height: 1px;margin: -1px;overflow: hidden;padding: 0;position: absolute;width: 1px;}#sk-5c12a1e6-a4ad-4da7-bfbd-15d655af278d div.sk-estimator {font-family: monospace;background-color: #f0f8ff;margin: 0.25em 0.25em;border: 1px dotted black;border-radius: 0.25em;box-sizing: border-box;}#sk-5c12a1e6-a4ad-4da7-bfbd-15d655af278d div.sk-estimator:hover {background-color: #d4ebff;}#sk-5c12a1e6-a4ad-4da7-bfbd-15d655af278d div.sk-parallel-item::after {content: \"\";width: 100%;border-bottom: 1px solid gray;flex-grow: 1;}#sk-5c12a1e6-a4ad-4da7-bfbd-15d655af278d div.sk-label:hover label.sk-toggleable__label {background-color: #d4ebff;}#sk-5c12a1e6-a4ad-4da7-bfbd-15d655af278d div.sk-serial::before {content: \"\";position: absolute;border-left: 1px solid gray;box-sizing: border-box;top: 2em;bottom: 0;left: 50%;}#sk-5c12a1e6-a4ad-4da7-bfbd-15d655af278d div.sk-serial {display: flex;flex-direction: column;align-items: center;background-color: white;}#sk-5c12a1e6-a4ad-4da7-bfbd-15d655af278d div.sk-item {z-index: 1;}#sk-5c12a1e6-a4ad-4da7-bfbd-15d655af278d div.sk-parallel {display: flex;align-items: stretch;justify-content: center;background-color: white;}#sk-5c12a1e6-a4ad-4da7-bfbd-15d655af278d div.sk-parallel-item {display: flex;flex-direction: column;position: relative;background-color: white;}#sk-5c12a1e6-a4ad-4da7-bfbd-15d655af278d div.sk-parallel-item:first-child::after {align-self: flex-end;width: 50%;}#sk-5c12a1e6-a4ad-4da7-bfbd-15d655af278d div.sk-parallel-item:last-child::after {align-self: flex-start;width: 50%;}#sk-5c12a1e6-a4ad-4da7-bfbd-15d655af278d div.sk-parallel-item:only-child::after {width: 0;}#sk-5c12a1e6-a4ad-4da7-bfbd-15d655af278d div.sk-dashed-wrapped {border: 1px dashed gray;margin: 0.2em;box-sizing: border-box;padding-bottom: 0.1em;background-color: white;position: relative;}#sk-5c12a1e6-a4ad-4da7-bfbd-15d655af278d div.sk-label label {font-family: monospace;font-weight: bold;background-color: white;display: inline-block;line-height: 1.2em;}#sk-5c12a1e6-a4ad-4da7-bfbd-15d655af278d div.sk-label-container {position: relative;z-index: 2;text-align: center;}#sk-5c12a1e6-a4ad-4da7-bfbd-15d655af278d div.sk-container {display: inline-block;position: relative;}</style><div id=\"sk-5c12a1e6-a4ad-4da7-bfbd-15d655af278d\" class\"sk-top-container\"><div class=\"sk-container\"><div class=\"sk-item sk-dashed-wrapped\"><div class=\"sk-label-container\"><div class=\"sk-label sk-toggleable\"><input class=\"sk-toggleable__control sk-hidden--visually\" id=\"4aa79a81-4f82-435b-a70a-63258959911a\" type=\"checkbox\" ><label class=\"sk-toggleable__label\" for=\"4aa79a81-4f82-435b-a70a-63258959911a\">BaggingRegressor</label><div class=\"sk-toggleable__content\"><pre>BaggingRegressor(base_estimator=DecisionTreeRegressor(random_state=0),\n",
       "                 n_estimators=20, random_state=0)</pre></div></div></div><div class=\"sk-parallel\"><div class=\"sk-parallel-item\"><div class=\"sk-item\"><div class=\"sk-serial\"><div class=\"sk-item\"><div class=\"sk-estimator sk-toggleable\"><input class=\"sk-toggleable__control sk-hidden--visually\" id=\"a24c6554-0b41-4692-90b8-d8c13674c3e8\" type=\"checkbox\" ><label class=\"sk-toggleable__label\" for=\"a24c6554-0b41-4692-90b8-d8c13674c3e8\">DecisionTreeRegressor</label><div class=\"sk-toggleable__content\"><pre>DecisionTreeRegressor(random_state=0)</pre></div></div></div></div></div></div></div></div></div></div>"
      ],
      "text/plain": [
       "BaggingRegressor(base_estimator=DecisionTreeRegressor(random_state=0),\n",
       "                 n_estimators=20, random_state=0)"
      ]
     },
     "execution_count": 12,
     "metadata": {},
     "output_type": "execute_result"
    }
   ],
   "source": [
    "from sklearn.ensemble import BaggingRegressor\n",
    "\n",
    "base_estimator = DecisionTreeRegressor(random_state=0)\n",
    "bagging_regressor = BaggingRegressor(\n",
    "    base_estimator=base_estimator, n_estimators=20, random_state=0)\n",
    "bagging_regressor"
   ]
  },
  {
   "cell_type": "code",
   "execution_count": 13,
   "id": "7e7b1e5c-c9dd-4c3a-b81c-41acbe6574e7",
   "metadata": {},
   "outputs": [
    {
     "name": "stdout",
     "output_type": "stream",
     "text": [
      "R2 score obtained by cross-validation: 0.642 +/- 0.083\n",
      "CPU times: user 17.6 ms, sys: 5.79 ms, total: 23.3 ms\n",
      "Wall time: 2.59 s\n"
     ]
    }
   ],
   "source": [
    "%%time\n",
    "cv_results = cross_validate(bagging_regressor, data, target, n_jobs=-1)\n",
    "scores = cv_results[\"test_score\"]\n",
    "\n",
    "print(f\"R2 score obtained by cross-validation: \"\n",
    "    f\"{scores.mean():.3f} +/- {scores.std():.3f}\")"
   ]
  },
  {
   "cell_type": "markdown",
   "id": "4ceb6a5b",
   "metadata": {},
   "source": [
    "Without searching for optimal hyperparameters, the overall statistical\n",
    "performance of the bagging regressor is better than a single decision tree.\n",
    "In addition, the computational cost is reduced in comparison of seeking\n",
    "for the optimal hyperparameters.\n",
    "\n",
    "This shows the motivation behind the use of an ensemble learner: it gives a\n",
    "relatively good baseline with decent statistical performance without any\n",
    "parameter tuning.\n",
    "\n",
    "Now, we will discuss in detail two ensemble families: bagging and\n",
    "boosting:\n",
    "\n",
    "* ensemble using bootstrap (e.g. bagging and random-forest);\n",
    "* ensemble using boosting (e.g. adaptive boosting and gradient-boosting\n",
    "  decision tree)."
   ]
  }
 ],
 "metadata": {
  "jupytext": {
   "cell_metadata_filter": "-all",
   "main_language": "python",
   "notebook_metadata_filter": "-all"
  },
  "kernelspec": {
   "display_name": "Python 3",
   "language": "python",
   "name": "python3"
  },
  "language_info": {
   "codemirror_mode": {
    "name": "ipython",
    "version": 3
   },
   "file_extension": ".py",
   "mimetype": "text/x-python",
   "name": "python",
   "nbconvert_exporter": "python",
   "pygments_lexer": "ipython3",
   "version": "3.8.10"
  },
  "nbreset": "https://github.com/INRIA/scikit-learn-mooc/raw/master/notebooks/ensemble_introduction.ipynb"
 },
 "nbformat": 4,
 "nbformat_minor": 5
}
