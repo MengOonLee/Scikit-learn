{
 "cells": [
  {
   "cell_type": "markdown",
   "id": "7cfe536c",
   "metadata": {},
   "source": [
    "# Random forests\n",
    "\n",
    "In this notebook, we will present the random forest models and show the\n",
    "differences with the bagging ensembles.\n",
    "\n",
    "Random forests are a popular model in machine learning. They are a\n",
    "modification of the bagging algorithm. In bagging, any classifier or\n",
    "regressor can be used. In random forests, the base classifier or regressor\n",
    "is always a decision tree.\n",
    "\n",
    "Random forests have another particularity: when training a tree, the search\n",
    "for the best split is done only on a subset of the original features taken at\n",
    "random. The random subsets are different for each split node. The goal is to\n",
    "inject additional randomization into the learning procedure to try to\n",
    "decorrelate the prediction errors of the individual trees.\n",
    "\n",
    "Therefore, random forests are using **randomization on both axes of the data\n",
    "matrix**:\n",
    "\n",
    "- by **bootstrapping samples** for **each tree** in the forest;\n",
    "- randomly selecting a **subset of features** at **each node** of the tree.\n",
    "\n",
    "## A look at random forests\n",
    "\n",
    "We will illustrate the usage of a random forest classifier on the adult\n",
    "census dataset."
   ]
  },
  {
   "cell_type": "code",
   "execution_count": 1,
   "id": "564b5ee4-958b-4a88-8580-6f6381f37724",
   "metadata": {},
   "outputs": [],
   "source": [
    "import os\n",
    "\n",
    "os.makedirs(\"../../datasets\", exist_ok=True)"
   ]
  },
  {
   "cell_type": "code",
   "execution_count": 2,
   "id": "a07ede42-dd6b-48e0-882b-9548a129d9f5",
   "metadata": {},
   "outputs": [],
   "source": [
    "%%bash\n",
    "\n",
    "wget -qO \"../../datasets/adult-census.csv\" \"https://github.com/INRIA/scikit-learn-mooc/raw/master/datasets/adult-census.csv\""
   ]
  },
  {
   "cell_type": "code",
   "execution_count": 3,
   "id": "3f6f2064",
   "metadata": {},
   "outputs": [
    {
     "name": "stdout",
     "output_type": "stream",
     "text": [
      "<class 'pandas.core.frame.DataFrame'>\n",
      "RangeIndex: 48842 entries, 0 to 48841\n",
      "Data columns (total 12 columns):\n",
      " #   Column          Non-Null Count  Dtype \n",
      "---  ------          --------------  ----- \n",
      " 0   age             48842 non-null  int64 \n",
      " 1   workclass       48842 non-null  object\n",
      " 2   education       48842 non-null  object\n",
      " 3   marital-status  48842 non-null  object\n",
      " 4   occupation      48842 non-null  object\n",
      " 5   relationship    48842 non-null  object\n",
      " 6   race            48842 non-null  object\n",
      " 7   sex             48842 non-null  object\n",
      " 8   capital-gain    48842 non-null  int64 \n",
      " 9   capital-loss    48842 non-null  int64 \n",
      " 10  hours-per-week  48842 non-null  int64 \n",
      " 11  native-country  48842 non-null  object\n",
      "dtypes: int64(4), object(8)\n",
      "memory usage: 4.5+ MB\n"
     ]
    }
   ],
   "source": [
    "import pandas as pd\n",
    "\n",
    "adult_census = pd.read_csv(\"../../datasets/adult-census.csv\")\n",
    "target_name = \"class\"\n",
    "data = adult_census.drop(columns=[target_name, \"education-num\"])\n",
    "target = adult_census[target_name]\n",
    "data.info()"
   ]
  },
  {
   "cell_type": "markdown",
   "id": "96c5ea7c",
   "metadata": {},
   "source": [
    "<div class=\"admonition note alert alert-info\">\n",
    "<p class=\"first admonition-title\" style=\"font-weight: bold;\">Note</p>\n",
    "<p class=\"last\">If you want a deeper overview regarding this dataset, you can refer to the\n",
    "Appendix - Datasets description section at the end of this MOOC.</p>\n",
    "</div>\n",
    "\n",
    "The adult census contains some categorical data and we encode the categorical\n",
    "features using an `OrdinalEncoder` since tree-based models can work very\n",
    "efficiently with such a naive representation of categorical variables.\n",
    "\n",
    "Since there are rare categories in this dataset we need to specifically\n",
    "encode unknown categories at prediction time in order to be able to use\n",
    "cross-validation. Otherwise some rare categories could only be present on the\n",
    "validation side of the cross-validation split and the `OrdinalEncoder` would\n",
    "raise an error when calling its `transform` method with the data points\n",
    "of the validation set."
   ]
  },
  {
   "cell_type": "code",
   "execution_count": 4,
   "id": "87ed216d",
   "metadata": {},
   "outputs": [],
   "source": [
    "from sklearn.preprocessing import OrdinalEncoder\n",
    "from sklearn.compose import make_column_transformer, make_column_selector\n",
    "\n",
    "categorical_encoder = OrdinalEncoder(\n",
    "    handle_unknown=\"use_encoded_value\", unknown_value=-1\n",
    ")\n",
    "preprocessor = make_column_transformer(\n",
    "    (categorical_encoder, make_column_selector(dtype_include=object)),\n",
    "    remainder=\"passthrough\"\n",
    ")"
   ]
  },
  {
   "cell_type": "markdown",
   "id": "a5a7520e-0c5b-4908-a30c-a21887e1cf96",
   "metadata": {},
   "source": [
    "We can display an interactive diagram with the following command:"
   ]
  },
  {
   "cell_type": "code",
   "execution_count": 5,
   "id": "66f92556-4891-4ce8-8b7c-1285a4b00568",
   "metadata": {},
   "outputs": [],
   "source": [
    "from sklearn import set_config\n",
    "set_config(display='diagram')"
   ]
  },
  {
   "cell_type": "markdown",
   "id": "5289cee2",
   "metadata": {},
   "source": [
    "\n",
    "We will first give a simple example where we will train a single decision\n",
    "tree classifier and check its statistical performance via cross-validation."
   ]
  },
  {
   "cell_type": "code",
   "execution_count": 6,
   "id": "b6debf08",
   "metadata": {},
   "outputs": [
    {
     "data": {
      "text/html": [
       "<style>#sk-d8efc1ef-968c-42b9-97c8-46aa71a653d0 {color: black;background-color: white;}#sk-d8efc1ef-968c-42b9-97c8-46aa71a653d0 pre{padding: 0;}#sk-d8efc1ef-968c-42b9-97c8-46aa71a653d0 div.sk-toggleable {background-color: white;}#sk-d8efc1ef-968c-42b9-97c8-46aa71a653d0 label.sk-toggleable__label {cursor: pointer;display: block;width: 100%;margin-bottom: 0;padding: 0.2em 0.3em;box-sizing: border-box;text-align: center;}#sk-d8efc1ef-968c-42b9-97c8-46aa71a653d0 div.sk-toggleable__content {max-height: 0;max-width: 0;overflow: hidden;text-align: left;background-color: #f0f8ff;}#sk-d8efc1ef-968c-42b9-97c8-46aa71a653d0 div.sk-toggleable__content pre {margin: 0.2em;color: black;border-radius: 0.25em;background-color: #f0f8ff;}#sk-d8efc1ef-968c-42b9-97c8-46aa71a653d0 input.sk-toggleable__control:checked~div.sk-toggleable__content {max-height: 200px;max-width: 100%;overflow: auto;}#sk-d8efc1ef-968c-42b9-97c8-46aa71a653d0 div.sk-estimator input.sk-toggleable__control:checked~label.sk-toggleable__label {background-color: #d4ebff;}#sk-d8efc1ef-968c-42b9-97c8-46aa71a653d0 div.sk-label input.sk-toggleable__control:checked~label.sk-toggleable__label {background-color: #d4ebff;}#sk-d8efc1ef-968c-42b9-97c8-46aa71a653d0 input.sk-hidden--visually {border: 0;clip: rect(1px 1px 1px 1px);clip: rect(1px, 1px, 1px, 1px);height: 1px;margin: -1px;overflow: hidden;padding: 0;position: absolute;width: 1px;}#sk-d8efc1ef-968c-42b9-97c8-46aa71a653d0 div.sk-estimator {font-family: monospace;background-color: #f0f8ff;margin: 0.25em 0.25em;border: 1px dotted black;border-radius: 0.25em;box-sizing: border-box;}#sk-d8efc1ef-968c-42b9-97c8-46aa71a653d0 div.sk-estimator:hover {background-color: #d4ebff;}#sk-d8efc1ef-968c-42b9-97c8-46aa71a653d0 div.sk-parallel-item::after {content: \"\";width: 100%;border-bottom: 1px solid gray;flex-grow: 1;}#sk-d8efc1ef-968c-42b9-97c8-46aa71a653d0 div.sk-label:hover label.sk-toggleable__label {background-color: #d4ebff;}#sk-d8efc1ef-968c-42b9-97c8-46aa71a653d0 div.sk-serial::before {content: \"\";position: absolute;border-left: 1px solid gray;box-sizing: border-box;top: 2em;bottom: 0;left: 50%;}#sk-d8efc1ef-968c-42b9-97c8-46aa71a653d0 div.sk-serial {display: flex;flex-direction: column;align-items: center;background-color: white;}#sk-d8efc1ef-968c-42b9-97c8-46aa71a653d0 div.sk-item {z-index: 1;}#sk-d8efc1ef-968c-42b9-97c8-46aa71a653d0 div.sk-parallel {display: flex;align-items: stretch;justify-content: center;background-color: white;}#sk-d8efc1ef-968c-42b9-97c8-46aa71a653d0 div.sk-parallel-item {display: flex;flex-direction: column;position: relative;background-color: white;}#sk-d8efc1ef-968c-42b9-97c8-46aa71a653d0 div.sk-parallel-item:first-child::after {align-self: flex-end;width: 50%;}#sk-d8efc1ef-968c-42b9-97c8-46aa71a653d0 div.sk-parallel-item:last-child::after {align-self: flex-start;width: 50%;}#sk-d8efc1ef-968c-42b9-97c8-46aa71a653d0 div.sk-parallel-item:only-child::after {width: 0;}#sk-d8efc1ef-968c-42b9-97c8-46aa71a653d0 div.sk-dashed-wrapped {border: 1px dashed gray;margin: 0.2em;box-sizing: border-box;padding-bottom: 0.1em;background-color: white;position: relative;}#sk-d8efc1ef-968c-42b9-97c8-46aa71a653d0 div.sk-label label {font-family: monospace;font-weight: bold;background-color: white;display: inline-block;line-height: 1.2em;}#sk-d8efc1ef-968c-42b9-97c8-46aa71a653d0 div.sk-label-container {position: relative;z-index: 2;text-align: center;}#sk-d8efc1ef-968c-42b9-97c8-46aa71a653d0 div.sk-container {display: inline-block;position: relative;}</style><div id=\"sk-d8efc1ef-968c-42b9-97c8-46aa71a653d0\" class\"sk-top-container\"><div class=\"sk-container\"><div class=\"sk-item sk-dashed-wrapped\"><div class=\"sk-label-container\"><div class=\"sk-label sk-toggleable\"><input class=\"sk-toggleable__control sk-hidden--visually\" id=\"eca16a96-a4a6-43b4-9d58-7e81d647f800\" type=\"checkbox\" ><label class=\"sk-toggleable__label\" for=\"eca16a96-a4a6-43b4-9d58-7e81d647f800\">Pipeline</label><div class=\"sk-toggleable__content\"><pre>Pipeline(steps=[('columntransformer',\n",
       "                 ColumnTransformer(remainder='passthrough',\n",
       "                                   transformers=[('ordinalencoder',\n",
       "                                                  OrdinalEncoder(handle_unknown='use_encoded_value',\n",
       "                                                                 unknown_value=-1),\n",
       "                                                  <sklearn.compose._column_transformer.make_column_selector object at 0x7f56b7b2a1f0>)])),\n",
       "                ('decisiontreeclassifier',\n",
       "                 DecisionTreeClassifier(random_state=0))])</pre></div></div></div><div class=\"sk-serial\"><div class=\"sk-item sk-dashed-wrapped\"><div class=\"sk-label-container\"><div class=\"sk-label sk-toggleable\"><input class=\"sk-toggleable__control sk-hidden--visually\" id=\"1194c01f-234f-4c5d-8a00-64a51eb6e310\" type=\"checkbox\" ><label class=\"sk-toggleable__label\" for=\"1194c01f-234f-4c5d-8a00-64a51eb6e310\">columntransformer: ColumnTransformer</label><div class=\"sk-toggleable__content\"><pre>ColumnTransformer(remainder='passthrough',\n",
       "                  transformers=[('ordinalencoder',\n",
       "                                 OrdinalEncoder(handle_unknown='use_encoded_value',\n",
       "                                                unknown_value=-1),\n",
       "                                 <sklearn.compose._column_transformer.make_column_selector object at 0x7f56b7b2a1f0>)])</pre></div></div></div><div class=\"sk-parallel\"><div class=\"sk-parallel-item\"><div class=\"sk-item\"><div class=\"sk-label-container\"><div class=\"sk-label sk-toggleable\"><input class=\"sk-toggleable__control sk-hidden--visually\" id=\"0bbdf189-047c-4d5b-b0e2-d718cd59a972\" type=\"checkbox\" ><label class=\"sk-toggleable__label\" for=\"0bbdf189-047c-4d5b-b0e2-d718cd59a972\">ordinalencoder</label><div class=\"sk-toggleable__content\"><pre><sklearn.compose._column_transformer.make_column_selector object at 0x7f56b7b2a1f0></pre></div></div></div><div class=\"sk-serial\"><div class=\"sk-item\"><div class=\"sk-estimator sk-toggleable\"><input class=\"sk-toggleable__control sk-hidden--visually\" id=\"fc34bfb0-60a8-4069-bfd5-139a86bbc8c7\" type=\"checkbox\" ><label class=\"sk-toggleable__label\" for=\"fc34bfb0-60a8-4069-bfd5-139a86bbc8c7\">OrdinalEncoder</label><div class=\"sk-toggleable__content\"><pre>OrdinalEncoder(handle_unknown='use_encoded_value', unknown_value=-1)</pre></div></div></div></div></div></div><div class=\"sk-parallel-item\"><div class=\"sk-item\"><div class=\"sk-label-container\"><div class=\"sk-label sk-toggleable\"><input class=\"sk-toggleable__control sk-hidden--visually\" id=\"7bc6e99e-f4ca-4ae2-9813-af6edb679146\" type=\"checkbox\" ><label class=\"sk-toggleable__label\" for=\"7bc6e99e-f4ca-4ae2-9813-af6edb679146\">remainder</label><div class=\"sk-toggleable__content\"><pre></pre></div></div></div><div class=\"sk-serial\"><div class=\"sk-item\"><div class=\"sk-estimator sk-toggleable\"><input class=\"sk-toggleable__control sk-hidden--visually\" id=\"82819238-1016-4009-9aa0-f2ec1d1a0dea\" type=\"checkbox\" ><label class=\"sk-toggleable__label\" for=\"82819238-1016-4009-9aa0-f2ec1d1a0dea\">passthrough</label><div class=\"sk-toggleable__content\"><pre>passthrough</pre></div></div></div></div></div></div></div></div><div class=\"sk-item\"><div class=\"sk-estimator sk-toggleable\"><input class=\"sk-toggleable__control sk-hidden--visually\" id=\"78a38311-f701-4ed3-b781-ad36f60641ea\" type=\"checkbox\" ><label class=\"sk-toggleable__label\" for=\"78a38311-f701-4ed3-b781-ad36f60641ea\">DecisionTreeClassifier</label><div class=\"sk-toggleable__content\"><pre>DecisionTreeClassifier(random_state=0)</pre></div></div></div></div></div></div></div>"
      ],
      "text/plain": [
       "Pipeline(steps=[('columntransformer',\n",
       "                 ColumnTransformer(remainder='passthrough',\n",
       "                                   transformers=[('ordinalencoder',\n",
       "                                                  OrdinalEncoder(handle_unknown='use_encoded_value',\n",
       "                                                                 unknown_value=-1),\n",
       "                                                  <sklearn.compose._column_transformer.make_column_selector object at 0x7f56b7b2a1f0>)])),\n",
       "                ('decisiontreeclassifier',\n",
       "                 DecisionTreeClassifier(random_state=0))])"
      ]
     },
     "execution_count": 6,
     "metadata": {},
     "output_type": "execute_result"
    }
   ],
   "source": [
    "from sklearn.pipeline import make_pipeline\n",
    "from sklearn.tree import DecisionTreeClassifier\n",
    "\n",
    "tree = make_pipeline(preprocessor, \n",
    "    DecisionTreeClassifier(random_state=0))\n",
    "tree"
   ]
  },
  {
   "cell_type": "code",
   "execution_count": 7,
   "id": "cc938080",
   "metadata": {},
   "outputs": [
    {
     "name": "stdout",
     "output_type": "stream",
     "text": [
      "Decision tree classifier: 0.820 +/- 0.006\n",
      "CPU times: user 1.16 s, sys: 3.73 ms, total: 1.16 s\n",
      "Wall time: 1.16 s\n"
     ]
    }
   ],
   "source": [
    "%%time\n",
    "from sklearn.model_selection import cross_val_score\n",
    "\n",
    "scores_tree = cross_val_score(tree, data, target)\n",
    "\n",
    "print(f\"Decision tree classifier: \"\n",
    "    f\"{scores_tree.mean():.3f} +/- \"\n",
    "    f\"{scores_tree.std():.3f}\")"
   ]
  },
  {
   "cell_type": "markdown",
   "id": "3332f90b",
   "metadata": {},
   "source": [
    "\n",
    "Similarly to what was done in the previous notebook, we construct a\n",
    "`BaggingClassifier` with a decision tree classifier as base model. In\n",
    "addition, we need to specify how many models do we want to combine. Note that\n",
    "we also need to preprocess the data and thus use a scikit-learn pipeline."
   ]
  },
  {
   "cell_type": "code",
   "execution_count": 8,
   "id": "13087942",
   "metadata": {},
   "outputs": [
    {
     "data": {
      "text/html": [
       "<style>#sk-6cb13eef-7a9a-4319-9dd0-d17d4e55e831 {color: black;background-color: white;}#sk-6cb13eef-7a9a-4319-9dd0-d17d4e55e831 pre{padding: 0;}#sk-6cb13eef-7a9a-4319-9dd0-d17d4e55e831 div.sk-toggleable {background-color: white;}#sk-6cb13eef-7a9a-4319-9dd0-d17d4e55e831 label.sk-toggleable__label {cursor: pointer;display: block;width: 100%;margin-bottom: 0;padding: 0.2em 0.3em;box-sizing: border-box;text-align: center;}#sk-6cb13eef-7a9a-4319-9dd0-d17d4e55e831 div.sk-toggleable__content {max-height: 0;max-width: 0;overflow: hidden;text-align: left;background-color: #f0f8ff;}#sk-6cb13eef-7a9a-4319-9dd0-d17d4e55e831 div.sk-toggleable__content pre {margin: 0.2em;color: black;border-radius: 0.25em;background-color: #f0f8ff;}#sk-6cb13eef-7a9a-4319-9dd0-d17d4e55e831 input.sk-toggleable__control:checked~div.sk-toggleable__content {max-height: 200px;max-width: 100%;overflow: auto;}#sk-6cb13eef-7a9a-4319-9dd0-d17d4e55e831 div.sk-estimator input.sk-toggleable__control:checked~label.sk-toggleable__label {background-color: #d4ebff;}#sk-6cb13eef-7a9a-4319-9dd0-d17d4e55e831 div.sk-label input.sk-toggleable__control:checked~label.sk-toggleable__label {background-color: #d4ebff;}#sk-6cb13eef-7a9a-4319-9dd0-d17d4e55e831 input.sk-hidden--visually {border: 0;clip: rect(1px 1px 1px 1px);clip: rect(1px, 1px, 1px, 1px);height: 1px;margin: -1px;overflow: hidden;padding: 0;position: absolute;width: 1px;}#sk-6cb13eef-7a9a-4319-9dd0-d17d4e55e831 div.sk-estimator {font-family: monospace;background-color: #f0f8ff;margin: 0.25em 0.25em;border: 1px dotted black;border-radius: 0.25em;box-sizing: border-box;}#sk-6cb13eef-7a9a-4319-9dd0-d17d4e55e831 div.sk-estimator:hover {background-color: #d4ebff;}#sk-6cb13eef-7a9a-4319-9dd0-d17d4e55e831 div.sk-parallel-item::after {content: \"\";width: 100%;border-bottom: 1px solid gray;flex-grow: 1;}#sk-6cb13eef-7a9a-4319-9dd0-d17d4e55e831 div.sk-label:hover label.sk-toggleable__label {background-color: #d4ebff;}#sk-6cb13eef-7a9a-4319-9dd0-d17d4e55e831 div.sk-serial::before {content: \"\";position: absolute;border-left: 1px solid gray;box-sizing: border-box;top: 2em;bottom: 0;left: 50%;}#sk-6cb13eef-7a9a-4319-9dd0-d17d4e55e831 div.sk-serial {display: flex;flex-direction: column;align-items: center;background-color: white;}#sk-6cb13eef-7a9a-4319-9dd0-d17d4e55e831 div.sk-item {z-index: 1;}#sk-6cb13eef-7a9a-4319-9dd0-d17d4e55e831 div.sk-parallel {display: flex;align-items: stretch;justify-content: center;background-color: white;}#sk-6cb13eef-7a9a-4319-9dd0-d17d4e55e831 div.sk-parallel-item {display: flex;flex-direction: column;position: relative;background-color: white;}#sk-6cb13eef-7a9a-4319-9dd0-d17d4e55e831 div.sk-parallel-item:first-child::after {align-self: flex-end;width: 50%;}#sk-6cb13eef-7a9a-4319-9dd0-d17d4e55e831 div.sk-parallel-item:last-child::after {align-self: flex-start;width: 50%;}#sk-6cb13eef-7a9a-4319-9dd0-d17d4e55e831 div.sk-parallel-item:only-child::after {width: 0;}#sk-6cb13eef-7a9a-4319-9dd0-d17d4e55e831 div.sk-dashed-wrapped {border: 1px dashed gray;margin: 0.2em;box-sizing: border-box;padding-bottom: 0.1em;background-color: white;position: relative;}#sk-6cb13eef-7a9a-4319-9dd0-d17d4e55e831 div.sk-label label {font-family: monospace;font-weight: bold;background-color: white;display: inline-block;line-height: 1.2em;}#sk-6cb13eef-7a9a-4319-9dd0-d17d4e55e831 div.sk-label-container {position: relative;z-index: 2;text-align: center;}#sk-6cb13eef-7a9a-4319-9dd0-d17d4e55e831 div.sk-container {display: inline-block;position: relative;}</style><div id=\"sk-6cb13eef-7a9a-4319-9dd0-d17d4e55e831\" class\"sk-top-container\"><div class=\"sk-container\"><div class=\"sk-item sk-dashed-wrapped\"><div class=\"sk-label-container\"><div class=\"sk-label sk-toggleable\"><input class=\"sk-toggleable__control sk-hidden--visually\" id=\"4cde01cf-ebda-4bfc-b1ef-e76845106499\" type=\"checkbox\" ><label class=\"sk-toggleable__label\" for=\"4cde01cf-ebda-4bfc-b1ef-e76845106499\">Pipeline</label><div class=\"sk-toggleable__content\"><pre>Pipeline(steps=[('columntransformer',\n",
       "                 ColumnTransformer(remainder='passthrough',\n",
       "                                   transformers=[('ordinalencoder',\n",
       "                                                  OrdinalEncoder(handle_unknown='use_encoded_value',\n",
       "                                                                 unknown_value=-1),\n",
       "                                                  <sklearn.compose._column_transformer.make_column_selector object at 0x7f56b7b2a1f0>)])),\n",
       "                ('baggingclassifier',\n",
       "                 BaggingClassifier(base_estimator=DecisionTreeClassifier(random_state=0),\n",
       "                                   n_estimators=50, n_jobs=2,\n",
       "                                   random_state=0))])</pre></div></div></div><div class=\"sk-serial\"><div class=\"sk-item sk-dashed-wrapped\"><div class=\"sk-label-container\"><div class=\"sk-label sk-toggleable\"><input class=\"sk-toggleable__control sk-hidden--visually\" id=\"b85158a8-de91-4c4f-98ff-7fc2085a8adb\" type=\"checkbox\" ><label class=\"sk-toggleable__label\" for=\"b85158a8-de91-4c4f-98ff-7fc2085a8adb\">columntransformer: ColumnTransformer</label><div class=\"sk-toggleable__content\"><pre>ColumnTransformer(remainder='passthrough',\n",
       "                  transformers=[('ordinalencoder',\n",
       "                                 OrdinalEncoder(handle_unknown='use_encoded_value',\n",
       "                                                unknown_value=-1),\n",
       "                                 <sklearn.compose._column_transformer.make_column_selector object at 0x7f56b7b2a1f0>)])</pre></div></div></div><div class=\"sk-parallel\"><div class=\"sk-parallel-item\"><div class=\"sk-item\"><div class=\"sk-label-container\"><div class=\"sk-label sk-toggleable\"><input class=\"sk-toggleable__control sk-hidden--visually\" id=\"6af976fa-9234-41a4-95c5-563a72e127d5\" type=\"checkbox\" ><label class=\"sk-toggleable__label\" for=\"6af976fa-9234-41a4-95c5-563a72e127d5\">ordinalencoder</label><div class=\"sk-toggleable__content\"><pre><sklearn.compose._column_transformer.make_column_selector object at 0x7f56b7b2a1f0></pre></div></div></div><div class=\"sk-serial\"><div class=\"sk-item\"><div class=\"sk-estimator sk-toggleable\"><input class=\"sk-toggleable__control sk-hidden--visually\" id=\"0a0a6f18-8349-4688-a390-5715a3862cbb\" type=\"checkbox\" ><label class=\"sk-toggleable__label\" for=\"0a0a6f18-8349-4688-a390-5715a3862cbb\">OrdinalEncoder</label><div class=\"sk-toggleable__content\"><pre>OrdinalEncoder(handle_unknown='use_encoded_value', unknown_value=-1)</pre></div></div></div></div></div></div><div class=\"sk-parallel-item\"><div class=\"sk-item\"><div class=\"sk-label-container\"><div class=\"sk-label sk-toggleable\"><input class=\"sk-toggleable__control sk-hidden--visually\" id=\"1f3ec5e7-d664-4cae-8f6c-fcd5650fa58c\" type=\"checkbox\" ><label class=\"sk-toggleable__label\" for=\"1f3ec5e7-d664-4cae-8f6c-fcd5650fa58c\">remainder</label><div class=\"sk-toggleable__content\"><pre></pre></div></div></div><div class=\"sk-serial\"><div class=\"sk-item\"><div class=\"sk-estimator sk-toggleable\"><input class=\"sk-toggleable__control sk-hidden--visually\" id=\"a84f9cff-4f6a-4984-aecc-679fc032569a\" type=\"checkbox\" ><label class=\"sk-toggleable__label\" for=\"a84f9cff-4f6a-4984-aecc-679fc032569a\">passthrough</label><div class=\"sk-toggleable__content\"><pre>passthrough</pre></div></div></div></div></div></div></div></div><div class=\"sk-item sk-dashed-wrapped\"><div class=\"sk-label-container\"><div class=\"sk-label sk-toggleable\"><input class=\"sk-toggleable__control sk-hidden--visually\" id=\"ddd40409-ba01-4c76-9009-aaeb68c163af\" type=\"checkbox\" ><label class=\"sk-toggleable__label\" for=\"ddd40409-ba01-4c76-9009-aaeb68c163af\">baggingclassifier: BaggingClassifier</label><div class=\"sk-toggleable__content\"><pre>BaggingClassifier(base_estimator=DecisionTreeClassifier(random_state=0),\n",
       "                  n_estimators=50, n_jobs=2, random_state=0)</pre></div></div></div><div class=\"sk-parallel\"><div class=\"sk-parallel-item\"><div class=\"sk-item\"><div class=\"sk-serial\"><div class=\"sk-item\"><div class=\"sk-estimator sk-toggleable\"><input class=\"sk-toggleable__control sk-hidden--visually\" id=\"cf2f901f-8c50-491d-a31a-2279a68216c3\" type=\"checkbox\" ><label class=\"sk-toggleable__label\" for=\"cf2f901f-8c50-491d-a31a-2279a68216c3\">DecisionTreeClassifier</label><div class=\"sk-toggleable__content\"><pre>DecisionTreeClassifier(random_state=0)</pre></div></div></div></div></div></div></div></div></div></div></div></div>"
      ],
      "text/plain": [
       "Pipeline(steps=[('columntransformer',\n",
       "                 ColumnTransformer(remainder='passthrough',\n",
       "                                   transformers=[('ordinalencoder',\n",
       "                                                  OrdinalEncoder(handle_unknown='use_encoded_value',\n",
       "                                                                 unknown_value=-1),\n",
       "                                                  <sklearn.compose._column_transformer.make_column_selector object at 0x7f56b7b2a1f0>)])),\n",
       "                ('baggingclassifier',\n",
       "                 BaggingClassifier(base_estimator=DecisionTreeClassifier(random_state=0),\n",
       "                                   n_estimators=50, n_jobs=2,\n",
       "                                   random_state=0))])"
      ]
     },
     "execution_count": 8,
     "metadata": {},
     "output_type": "execute_result"
    }
   ],
   "source": [
    "from sklearn.ensemble import BaggingClassifier\n",
    "\n",
    "bagged_trees = make_pipeline(\n",
    "    preprocessor,\n",
    "    BaggingClassifier(\n",
    "        base_estimator=DecisionTreeClassifier(random_state=0),\n",
    "        n_estimators=50, n_jobs=2, random_state=0\n",
    "    )\n",
    ")\n",
    "bagged_trees"
   ]
  },
  {
   "cell_type": "code",
   "execution_count": 12,
   "id": "618857f0",
   "metadata": {},
   "outputs": [
    {
     "name": "stdout",
     "output_type": "stream",
     "text": [
      "Bagged decision tree classifier: 0.846 +/- 0.005\n",
      "CPU times: user 1.17 s, sys: 369 ms, total: 1.54 s\n",
      "Wall time: 10.8 s\n"
     ]
    }
   ],
   "source": [
    "%%time\n",
    "scores_bagged_trees = cross_val_score(bagged_trees, data, target)\n",
    "\n",
    "print(f\"Bagged decision tree classifier: \"\n",
    "    f\"{scores_bagged_trees.mean():.3f} +/- \"\n",
    "    f\"{scores_bagged_trees.std():.3f}\")"
   ]
  },
  {
   "cell_type": "markdown",
   "id": "d7b45f63",
   "metadata": {},
   "source": [
    "\n",
    "Note that the generalization performance of the bagged trees is already much\n",
    "better than the performance of a single tree.\n",
    "\n",
    "Now, we will use a random forest. You will observe that we do not need to\n",
    "specify any `base_estimator` because the estimator is forced to be a decision\n",
    "tree. Thus, we just specify the desired number of trees in the forest."
   ]
  },
  {
   "cell_type": "code",
   "execution_count": 10,
   "id": "b6577162",
   "metadata": {},
   "outputs": [
    {
     "data": {
      "text/html": [
       "<style>#sk-2760d956-8263-4e73-84b3-6ffcbd2b3fcd {color: black;background-color: white;}#sk-2760d956-8263-4e73-84b3-6ffcbd2b3fcd pre{padding: 0;}#sk-2760d956-8263-4e73-84b3-6ffcbd2b3fcd div.sk-toggleable {background-color: white;}#sk-2760d956-8263-4e73-84b3-6ffcbd2b3fcd label.sk-toggleable__label {cursor: pointer;display: block;width: 100%;margin-bottom: 0;padding: 0.2em 0.3em;box-sizing: border-box;text-align: center;}#sk-2760d956-8263-4e73-84b3-6ffcbd2b3fcd div.sk-toggleable__content {max-height: 0;max-width: 0;overflow: hidden;text-align: left;background-color: #f0f8ff;}#sk-2760d956-8263-4e73-84b3-6ffcbd2b3fcd div.sk-toggleable__content pre {margin: 0.2em;color: black;border-radius: 0.25em;background-color: #f0f8ff;}#sk-2760d956-8263-4e73-84b3-6ffcbd2b3fcd input.sk-toggleable__control:checked~div.sk-toggleable__content {max-height: 200px;max-width: 100%;overflow: auto;}#sk-2760d956-8263-4e73-84b3-6ffcbd2b3fcd div.sk-estimator input.sk-toggleable__control:checked~label.sk-toggleable__label {background-color: #d4ebff;}#sk-2760d956-8263-4e73-84b3-6ffcbd2b3fcd div.sk-label input.sk-toggleable__control:checked~label.sk-toggleable__label {background-color: #d4ebff;}#sk-2760d956-8263-4e73-84b3-6ffcbd2b3fcd input.sk-hidden--visually {border: 0;clip: rect(1px 1px 1px 1px);clip: rect(1px, 1px, 1px, 1px);height: 1px;margin: -1px;overflow: hidden;padding: 0;position: absolute;width: 1px;}#sk-2760d956-8263-4e73-84b3-6ffcbd2b3fcd div.sk-estimator {font-family: monospace;background-color: #f0f8ff;margin: 0.25em 0.25em;border: 1px dotted black;border-radius: 0.25em;box-sizing: border-box;}#sk-2760d956-8263-4e73-84b3-6ffcbd2b3fcd div.sk-estimator:hover {background-color: #d4ebff;}#sk-2760d956-8263-4e73-84b3-6ffcbd2b3fcd div.sk-parallel-item::after {content: \"\";width: 100%;border-bottom: 1px solid gray;flex-grow: 1;}#sk-2760d956-8263-4e73-84b3-6ffcbd2b3fcd div.sk-label:hover label.sk-toggleable__label {background-color: #d4ebff;}#sk-2760d956-8263-4e73-84b3-6ffcbd2b3fcd div.sk-serial::before {content: \"\";position: absolute;border-left: 1px solid gray;box-sizing: border-box;top: 2em;bottom: 0;left: 50%;}#sk-2760d956-8263-4e73-84b3-6ffcbd2b3fcd div.sk-serial {display: flex;flex-direction: column;align-items: center;background-color: white;}#sk-2760d956-8263-4e73-84b3-6ffcbd2b3fcd div.sk-item {z-index: 1;}#sk-2760d956-8263-4e73-84b3-6ffcbd2b3fcd div.sk-parallel {display: flex;align-items: stretch;justify-content: center;background-color: white;}#sk-2760d956-8263-4e73-84b3-6ffcbd2b3fcd div.sk-parallel-item {display: flex;flex-direction: column;position: relative;background-color: white;}#sk-2760d956-8263-4e73-84b3-6ffcbd2b3fcd div.sk-parallel-item:first-child::after {align-self: flex-end;width: 50%;}#sk-2760d956-8263-4e73-84b3-6ffcbd2b3fcd div.sk-parallel-item:last-child::after {align-self: flex-start;width: 50%;}#sk-2760d956-8263-4e73-84b3-6ffcbd2b3fcd div.sk-parallel-item:only-child::after {width: 0;}#sk-2760d956-8263-4e73-84b3-6ffcbd2b3fcd div.sk-dashed-wrapped {border: 1px dashed gray;margin: 0.2em;box-sizing: border-box;padding-bottom: 0.1em;background-color: white;position: relative;}#sk-2760d956-8263-4e73-84b3-6ffcbd2b3fcd div.sk-label label {font-family: monospace;font-weight: bold;background-color: white;display: inline-block;line-height: 1.2em;}#sk-2760d956-8263-4e73-84b3-6ffcbd2b3fcd div.sk-label-container {position: relative;z-index: 2;text-align: center;}#sk-2760d956-8263-4e73-84b3-6ffcbd2b3fcd div.sk-container {display: inline-block;position: relative;}</style><div id=\"sk-2760d956-8263-4e73-84b3-6ffcbd2b3fcd\" class\"sk-top-container\"><div class=\"sk-container\"><div class=\"sk-item sk-dashed-wrapped\"><div class=\"sk-label-container\"><div class=\"sk-label sk-toggleable\"><input class=\"sk-toggleable__control sk-hidden--visually\" id=\"16a99f24-7cbf-455a-8f53-f1309363068f\" type=\"checkbox\" ><label class=\"sk-toggleable__label\" for=\"16a99f24-7cbf-455a-8f53-f1309363068f\">Pipeline</label><div class=\"sk-toggleable__content\"><pre>Pipeline(steps=[('columntransformer',\n",
       "                 ColumnTransformer(remainder='passthrough',\n",
       "                                   transformers=[('ordinalencoder',\n",
       "                                                  OrdinalEncoder(handle_unknown='use_encoded_value',\n",
       "                                                                 unknown_value=-1),\n",
       "                                                  <sklearn.compose._column_transformer.make_column_selector object at 0x7f56b7b2a1f0>)])),\n",
       "                ('randomforestclassifier',\n",
       "                 RandomForestClassifier(n_estimators=50, n_jobs=2,\n",
       "                                        random_state=0))])</pre></div></div></div><div class=\"sk-serial\"><div class=\"sk-item sk-dashed-wrapped\"><div class=\"sk-label-container\"><div class=\"sk-label sk-toggleable\"><input class=\"sk-toggleable__control sk-hidden--visually\" id=\"315bba7c-a581-48bc-a73e-da9371250c75\" type=\"checkbox\" ><label class=\"sk-toggleable__label\" for=\"315bba7c-a581-48bc-a73e-da9371250c75\">columntransformer: ColumnTransformer</label><div class=\"sk-toggleable__content\"><pre>ColumnTransformer(remainder='passthrough',\n",
       "                  transformers=[('ordinalencoder',\n",
       "                                 OrdinalEncoder(handle_unknown='use_encoded_value',\n",
       "                                                unknown_value=-1),\n",
       "                                 <sklearn.compose._column_transformer.make_column_selector object at 0x7f56b7b2a1f0>)])</pre></div></div></div><div class=\"sk-parallel\"><div class=\"sk-parallel-item\"><div class=\"sk-item\"><div class=\"sk-label-container\"><div class=\"sk-label sk-toggleable\"><input class=\"sk-toggleable__control sk-hidden--visually\" id=\"bb2a1cce-d731-488a-ac1e-0ec2f3a559b8\" type=\"checkbox\" ><label class=\"sk-toggleable__label\" for=\"bb2a1cce-d731-488a-ac1e-0ec2f3a559b8\">ordinalencoder</label><div class=\"sk-toggleable__content\"><pre><sklearn.compose._column_transformer.make_column_selector object at 0x7f56b7b2a1f0></pre></div></div></div><div class=\"sk-serial\"><div class=\"sk-item\"><div class=\"sk-estimator sk-toggleable\"><input class=\"sk-toggleable__control sk-hidden--visually\" id=\"46d5e896-5163-4449-ad40-44cf67f9c819\" type=\"checkbox\" ><label class=\"sk-toggleable__label\" for=\"46d5e896-5163-4449-ad40-44cf67f9c819\">OrdinalEncoder</label><div class=\"sk-toggleable__content\"><pre>OrdinalEncoder(handle_unknown='use_encoded_value', unknown_value=-1)</pre></div></div></div></div></div></div><div class=\"sk-parallel-item\"><div class=\"sk-item\"><div class=\"sk-label-container\"><div class=\"sk-label sk-toggleable\"><input class=\"sk-toggleable__control sk-hidden--visually\" id=\"3f06f127-515b-468e-9542-8a3bad676ea6\" type=\"checkbox\" ><label class=\"sk-toggleable__label\" for=\"3f06f127-515b-468e-9542-8a3bad676ea6\">remainder</label><div class=\"sk-toggleable__content\"><pre></pre></div></div></div><div class=\"sk-serial\"><div class=\"sk-item\"><div class=\"sk-estimator sk-toggleable\"><input class=\"sk-toggleable__control sk-hidden--visually\" id=\"5611d4b7-ee51-4365-920d-c2e08ef5341e\" type=\"checkbox\" ><label class=\"sk-toggleable__label\" for=\"5611d4b7-ee51-4365-920d-c2e08ef5341e\">passthrough</label><div class=\"sk-toggleable__content\"><pre>passthrough</pre></div></div></div></div></div></div></div></div><div class=\"sk-item\"><div class=\"sk-estimator sk-toggleable\"><input class=\"sk-toggleable__control sk-hidden--visually\" id=\"1e79a338-25ea-4252-baec-5139c7c3e67d\" type=\"checkbox\" ><label class=\"sk-toggleable__label\" for=\"1e79a338-25ea-4252-baec-5139c7c3e67d\">RandomForestClassifier</label><div class=\"sk-toggleable__content\"><pre>RandomForestClassifier(n_estimators=50, n_jobs=2, random_state=0)</pre></div></div></div></div></div></div></div>"
      ],
      "text/plain": [
       "Pipeline(steps=[('columntransformer',\n",
       "                 ColumnTransformer(remainder='passthrough',\n",
       "                                   transformers=[('ordinalencoder',\n",
       "                                                  OrdinalEncoder(handle_unknown='use_encoded_value',\n",
       "                                                                 unknown_value=-1),\n",
       "                                                  <sklearn.compose._column_transformer.make_column_selector object at 0x7f56b7b2a1f0>)])),\n",
       "                ('randomforestclassifier',\n",
       "                 RandomForestClassifier(n_estimators=50, n_jobs=2,\n",
       "                                        random_state=0))])"
      ]
     },
     "execution_count": 10,
     "metadata": {},
     "output_type": "execute_result"
    }
   ],
   "source": [
    "from sklearn.ensemble import RandomForestClassifier\n",
    "\n",
    "random_forest = make_pipeline(\n",
    "    preprocessor,\n",
    "    RandomForestClassifier(n_estimators=50, n_jobs=2, random_state=0)\n",
    ")\n",
    "random_forest"
   ]
  },
  {
   "cell_type": "code",
   "execution_count": 11,
   "id": "5083fdf5",
   "metadata": {},
   "outputs": [
    {
     "name": "stdout",
     "output_type": "stream",
     "text": [
      "Random forest classifier: 0.851 +/- 0.004\n",
      "CPU times: user 1.94 s, sys: 191 ms, total: 2.13 s\n",
      "Wall time: 5.5 s\n"
     ]
    }
   ],
   "source": [
    "%%time\n",
    "scores_random_forest = cross_val_score(random_forest, data, target)\n",
    "\n",
    "print(f\"Random forest classifier: \"\n",
    "    f\"{scores_random_forest.mean():.3f} +/- \"\n",
    "    f\"{scores_random_forest.std():.3f}\")"
   ]
  },
  {
   "cell_type": "markdown",
   "id": "703477f6",
   "metadata": {},
   "source": [
    "\n",
    "It seems that the random forest is performing slightly better than the bagged\n",
    "trees possibly due to the randomized selection of the features which\n",
    "decorrelates the prediction errors of individual trees and as a consequence\n",
    "make the averaging step more efficient at reducing overfitting.\n",
    "\n",
    "## Details about default hyperparameters\n",
    "\n",
    "For random forests, it is possible to control the amount of randomness for\n",
    "each split by setting the value of `max_features` hyperparameter:\n",
    "\n",
    "- `max_features=0.5` means that 50% of the features are considered at each\n",
    "  split;\n",
    "- `max_features=1.0` means that all features are considered at each split\n",
    "  which effectively disables feature subsampling.\n",
    "\n",
    "By default, `RandomForestRegressor` disables feature subsampling while\n",
    "`RandomForestClassifier` uses `max_features=np.sqrt(n_features)`. These\n",
    "default values reflect good practices given in the scientific literature.\n",
    "\n",
    "However, `max_features` is one of the hyperparameters to consider when tuning\n",
    "a random forest:\n",
    "- too much randomness in the trees can lead to underfitted base models and\n",
    "  can be detrimental for the ensemble as a whole,\n",
    "- too few randomness in the trees leads to more correlation of the prediction\n",
    "  errors and as a result reduce the benefits of the averaging step in terms\n",
    "  of overfitting control.\n",
    "\n",
    "In scikit-learn, the bagging classes also expose a `max_features` parameter.\n",
    "However, `BaggingClassifier` and `BaggingRegressor` are agnostic with respect\n",
    "to their base model and therefore random feature subsampling can only happen\n",
    "once before fitting each base model instead of several times per base model\n",
    "as is the case when adding splits to a given tree.\n",
    "\n",
    "We summarize these details in the following table:\n",
    "\n",
    "| Ensemble model class     | Base model class          | Default value for `max_features`   | Features subsampling strategy |\n",
    "|--------------------------|---------------------------|------------------------------------|-------------------------------|\n",
    "| `BaggingClassifier`      | User specified (flexible) | `n_features` (no&nbsp;subsampling) | Model level                   |\n",
    "| `RandomForestClassifier` | `DecisionTreeClassifier`  | `sqrt(n_features)`                 | Tree node level               |\n",
    "| `BaggingRegressor`       | User specified (flexible) | `n_features` (no&nbsp;subsampling) | Model level                   |\n",
    "| `RandomForestRegressor`  | `DecisionTreeRegressor`   | `n_features` (no&nbsp;subsampling) | Tree node level               |"
   ]
  }
 ],
 "metadata": {
  "jupytext": {
   "cell_metadata_filter": "-all",
   "main_language": "python",
   "notebook_metadata_filter": "-all"
  },
  "kernelspec": {
   "display_name": "Python 3",
   "language": "python",
   "name": "python3"
  },
  "language_info": {
   "codemirror_mode": {
    "name": "ipython",
    "version": 3
   },
   "file_extension": ".py",
   "mimetype": "text/x-python",
   "name": "python",
   "nbconvert_exporter": "python",
   "pygments_lexer": "ipython3",
   "version": "3.8.10"
  },
  "nbreset": "https://github.com/INRIA/scikit-learn-mooc/raw/master/notebooks/ensemble_random_forest.ipynb"
 },
 "nbformat": 4,
 "nbformat_minor": 5
}
