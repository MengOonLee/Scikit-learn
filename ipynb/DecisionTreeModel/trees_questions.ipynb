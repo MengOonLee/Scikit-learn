{
 "cells": [
  {
   "cell_type": "markdown",
   "metadata": {},
   "source": [
    "Open the dataset `house_prices.csv` with the following  command:"
   ]
  },
  {
   "cell_type": "code",
   "execution_count": 1,
   "metadata": {},
   "outputs": [],
   "source": [
    "import os\n",
    "\n",
    "os.makedirs(\"../../datasets\", exist_ok=True)"
   ]
  },
  {
   "cell_type": "code",
   "execution_count": 2,
   "metadata": {},
   "outputs": [],
   "source": [
    "%%bash\n",
    "\n",
    "wget -qO \"../../datasets/house_prices.csv\" \"https://github.com/INRIA/scikit-learn-mooc/raw/master/datasets/house_prices.csv\""
   ]
  },
  {
   "cell_type": "code",
   "execution_count": 3,
   "metadata": {},
   "outputs": [
    {
     "data": {
      "text/html": [
       "<div>\n",
       "<style scoped>\n",
       "    .dataframe tbody tr th:only-of-type {\n",
       "        vertical-align: middle;\n",
       "    }\n",
       "\n",
       "    .dataframe tbody tr th {\n",
       "        vertical-align: top;\n",
       "    }\n",
       "\n",
       "    .dataframe thead th {\n",
       "        text-align: right;\n",
       "    }\n",
       "</style>\n",
       "<table border=\"1\" class=\"dataframe\">\n",
       "  <thead>\n",
       "    <tr style=\"text-align: right;\">\n",
       "      <th></th>\n",
       "      <th>Id</th>\n",
       "      <th>MSSubClass</th>\n",
       "      <th>MSZoning</th>\n",
       "      <th>LotFrontage</th>\n",
       "      <th>LotArea</th>\n",
       "      <th>Street</th>\n",
       "      <th>Alley</th>\n",
       "      <th>LotShape</th>\n",
       "      <th>LandContour</th>\n",
       "      <th>Utilities</th>\n",
       "      <th>...</th>\n",
       "      <th>ScreenPorch</th>\n",
       "      <th>PoolArea</th>\n",
       "      <th>PoolQC</th>\n",
       "      <th>Fence</th>\n",
       "      <th>MiscFeature</th>\n",
       "      <th>MiscVal</th>\n",
       "      <th>MoSold</th>\n",
       "      <th>YrSold</th>\n",
       "      <th>SaleType</th>\n",
       "      <th>SaleCondition</th>\n",
       "    </tr>\n",
       "  </thead>\n",
       "  <tbody>\n",
       "    <tr>\n",
       "      <th>0</th>\n",
       "      <td>1</td>\n",
       "      <td>60</td>\n",
       "      <td>RL</td>\n",
       "      <td>65.0</td>\n",
       "      <td>8450</td>\n",
       "      <td>Pave</td>\n",
       "      <td>NaN</td>\n",
       "      <td>Reg</td>\n",
       "      <td>Lvl</td>\n",
       "      <td>AllPub</td>\n",
       "      <td>...</td>\n",
       "      <td>0</td>\n",
       "      <td>0</td>\n",
       "      <td>NaN</td>\n",
       "      <td>NaN</td>\n",
       "      <td>NaN</td>\n",
       "      <td>0</td>\n",
       "      <td>2</td>\n",
       "      <td>2008</td>\n",
       "      <td>WD</td>\n",
       "      <td>Normal</td>\n",
       "    </tr>\n",
       "    <tr>\n",
       "      <th>1</th>\n",
       "      <td>2</td>\n",
       "      <td>20</td>\n",
       "      <td>RL</td>\n",
       "      <td>80.0</td>\n",
       "      <td>9600</td>\n",
       "      <td>Pave</td>\n",
       "      <td>NaN</td>\n",
       "      <td>Reg</td>\n",
       "      <td>Lvl</td>\n",
       "      <td>AllPub</td>\n",
       "      <td>...</td>\n",
       "      <td>0</td>\n",
       "      <td>0</td>\n",
       "      <td>NaN</td>\n",
       "      <td>NaN</td>\n",
       "      <td>NaN</td>\n",
       "      <td>0</td>\n",
       "      <td>5</td>\n",
       "      <td>2007</td>\n",
       "      <td>WD</td>\n",
       "      <td>Normal</td>\n",
       "    </tr>\n",
       "    <tr>\n",
       "      <th>2</th>\n",
       "      <td>3</td>\n",
       "      <td>60</td>\n",
       "      <td>RL</td>\n",
       "      <td>68.0</td>\n",
       "      <td>11250</td>\n",
       "      <td>Pave</td>\n",
       "      <td>NaN</td>\n",
       "      <td>IR1</td>\n",
       "      <td>Lvl</td>\n",
       "      <td>AllPub</td>\n",
       "      <td>...</td>\n",
       "      <td>0</td>\n",
       "      <td>0</td>\n",
       "      <td>NaN</td>\n",
       "      <td>NaN</td>\n",
       "      <td>NaN</td>\n",
       "      <td>0</td>\n",
       "      <td>9</td>\n",
       "      <td>2008</td>\n",
       "      <td>WD</td>\n",
       "      <td>Normal</td>\n",
       "    </tr>\n",
       "    <tr>\n",
       "      <th>3</th>\n",
       "      <td>4</td>\n",
       "      <td>70</td>\n",
       "      <td>RL</td>\n",
       "      <td>60.0</td>\n",
       "      <td>9550</td>\n",
       "      <td>Pave</td>\n",
       "      <td>NaN</td>\n",
       "      <td>IR1</td>\n",
       "      <td>Lvl</td>\n",
       "      <td>AllPub</td>\n",
       "      <td>...</td>\n",
       "      <td>0</td>\n",
       "      <td>0</td>\n",
       "      <td>NaN</td>\n",
       "      <td>NaN</td>\n",
       "      <td>NaN</td>\n",
       "      <td>0</td>\n",
       "      <td>2</td>\n",
       "      <td>2006</td>\n",
       "      <td>WD</td>\n",
       "      <td>Abnorml</td>\n",
       "    </tr>\n",
       "    <tr>\n",
       "      <th>4</th>\n",
       "      <td>5</td>\n",
       "      <td>60</td>\n",
       "      <td>RL</td>\n",
       "      <td>84.0</td>\n",
       "      <td>14260</td>\n",
       "      <td>Pave</td>\n",
       "      <td>NaN</td>\n",
       "      <td>IR1</td>\n",
       "      <td>Lvl</td>\n",
       "      <td>AllPub</td>\n",
       "      <td>...</td>\n",
       "      <td>0</td>\n",
       "      <td>0</td>\n",
       "      <td>NaN</td>\n",
       "      <td>NaN</td>\n",
       "      <td>NaN</td>\n",
       "      <td>0</td>\n",
       "      <td>12</td>\n",
       "      <td>2008</td>\n",
       "      <td>WD</td>\n",
       "      <td>Normal</td>\n",
       "    </tr>\n",
       "  </tbody>\n",
       "</table>\n",
       "<p>5 rows × 80 columns</p>\n",
       "</div>"
      ],
      "text/plain": [
       "   Id  MSSubClass MSZoning  LotFrontage  LotArea Street Alley LotShape  \\\n",
       "0   1          60       RL         65.0     8450   Pave   NaN      Reg   \n",
       "1   2          20       RL         80.0     9600   Pave   NaN      Reg   \n",
       "2   3          60       RL         68.0    11250   Pave   NaN      IR1   \n",
       "3   4          70       RL         60.0     9550   Pave   NaN      IR1   \n",
       "4   5          60       RL         84.0    14260   Pave   NaN      IR1   \n",
       "\n",
       "  LandContour Utilities  ... ScreenPorch PoolArea PoolQC Fence MiscFeature  \\\n",
       "0         Lvl    AllPub  ...           0        0    NaN   NaN         NaN   \n",
       "1         Lvl    AllPub  ...           0        0    NaN   NaN         NaN   \n",
       "2         Lvl    AllPub  ...           0        0    NaN   NaN         NaN   \n",
       "3         Lvl    AllPub  ...           0        0    NaN   NaN         NaN   \n",
       "4         Lvl    AllPub  ...           0        0    NaN   NaN         NaN   \n",
       "\n",
       "  MiscVal MoSold  YrSold  SaleType  SaleCondition  \n",
       "0       0      2    2008        WD         Normal  \n",
       "1       0      5    2007        WD         Normal  \n",
       "2       0      9    2008        WD         Normal  \n",
       "3       0      2    2006        WD        Abnorml  \n",
       "4       0     12    2008        WD         Normal  \n",
       "\n",
       "[5 rows x 80 columns]"
      ]
     },
     "execution_count": 3,
     "metadata": {},
     "output_type": "execute_result"
    }
   ],
   "source": [
    "import pandas as pd\n",
    "\n",
    "ames_housing = pd.read_csv(\"../../datasets/house_prices.csv\", na_values=\"?\")\n",
    "target_name = \"SalePrice\"\n",
    "data = ames_housing.drop(columns=target_name)\n",
    "target = ames_housing[target_name]\n",
    "data.head()"
   ]
  },
  {
   "cell_type": "markdown",
   "metadata": {},
   "source": [
    "`ames_housing` is a pandas dataframe. The column \"SalePrice\" contains the target variable. Note that we instructed pandas to treat the character \"?\" as a marker for cells with missing values also known as \"null\" values.\n",
    "\n",
    "To simplify this exercise, we will only used the numerical features defined below:"
   ]
  },
  {
   "cell_type": "code",
   "execution_count": 4,
   "metadata": {},
   "outputs": [
    {
     "data": {
      "text/html": [
       "<div>\n",
       "<style scoped>\n",
       "    .dataframe tbody tr th:only-of-type {\n",
       "        vertical-align: middle;\n",
       "    }\n",
       "\n",
       "    .dataframe tbody tr th {\n",
       "        vertical-align: top;\n",
       "    }\n",
       "\n",
       "    .dataframe thead th {\n",
       "        text-align: right;\n",
       "    }\n",
       "</style>\n",
       "<table border=\"1\" class=\"dataframe\">\n",
       "  <thead>\n",
       "    <tr style=\"text-align: right;\">\n",
       "      <th></th>\n",
       "      <th>LotFrontage</th>\n",
       "      <th>LotArea</th>\n",
       "      <th>MasVnrArea</th>\n",
       "      <th>BsmtFinSF1</th>\n",
       "      <th>BsmtFinSF2</th>\n",
       "      <th>BsmtUnfSF</th>\n",
       "      <th>TotalBsmtSF</th>\n",
       "      <th>1stFlrSF</th>\n",
       "      <th>2ndFlrSF</th>\n",
       "      <th>LowQualFinSF</th>\n",
       "      <th>...</th>\n",
       "      <th>Fireplaces</th>\n",
       "      <th>GarageCars</th>\n",
       "      <th>GarageArea</th>\n",
       "      <th>WoodDeckSF</th>\n",
       "      <th>OpenPorchSF</th>\n",
       "      <th>EnclosedPorch</th>\n",
       "      <th>3SsnPorch</th>\n",
       "      <th>ScreenPorch</th>\n",
       "      <th>PoolArea</th>\n",
       "      <th>MiscVal</th>\n",
       "    </tr>\n",
       "  </thead>\n",
       "  <tbody>\n",
       "    <tr>\n",
       "      <th>0</th>\n",
       "      <td>65.0</td>\n",
       "      <td>8450</td>\n",
       "      <td>196.0</td>\n",
       "      <td>706</td>\n",
       "      <td>0</td>\n",
       "      <td>150</td>\n",
       "      <td>856</td>\n",
       "      <td>856</td>\n",
       "      <td>854</td>\n",
       "      <td>0</td>\n",
       "      <td>...</td>\n",
       "      <td>0</td>\n",
       "      <td>2</td>\n",
       "      <td>548</td>\n",
       "      <td>0</td>\n",
       "      <td>61</td>\n",
       "      <td>0</td>\n",
       "      <td>0</td>\n",
       "      <td>0</td>\n",
       "      <td>0</td>\n",
       "      <td>0</td>\n",
       "    </tr>\n",
       "    <tr>\n",
       "      <th>1</th>\n",
       "      <td>80.0</td>\n",
       "      <td>9600</td>\n",
       "      <td>0.0</td>\n",
       "      <td>978</td>\n",
       "      <td>0</td>\n",
       "      <td>284</td>\n",
       "      <td>1262</td>\n",
       "      <td>1262</td>\n",
       "      <td>0</td>\n",
       "      <td>0</td>\n",
       "      <td>...</td>\n",
       "      <td>1</td>\n",
       "      <td>2</td>\n",
       "      <td>460</td>\n",
       "      <td>298</td>\n",
       "      <td>0</td>\n",
       "      <td>0</td>\n",
       "      <td>0</td>\n",
       "      <td>0</td>\n",
       "      <td>0</td>\n",
       "      <td>0</td>\n",
       "    </tr>\n",
       "    <tr>\n",
       "      <th>2</th>\n",
       "      <td>68.0</td>\n",
       "      <td>11250</td>\n",
       "      <td>162.0</td>\n",
       "      <td>486</td>\n",
       "      <td>0</td>\n",
       "      <td>434</td>\n",
       "      <td>920</td>\n",
       "      <td>920</td>\n",
       "      <td>866</td>\n",
       "      <td>0</td>\n",
       "      <td>...</td>\n",
       "      <td>1</td>\n",
       "      <td>2</td>\n",
       "      <td>608</td>\n",
       "      <td>0</td>\n",
       "      <td>42</td>\n",
       "      <td>0</td>\n",
       "      <td>0</td>\n",
       "      <td>0</td>\n",
       "      <td>0</td>\n",
       "      <td>0</td>\n",
       "    </tr>\n",
       "    <tr>\n",
       "      <th>3</th>\n",
       "      <td>60.0</td>\n",
       "      <td>9550</td>\n",
       "      <td>0.0</td>\n",
       "      <td>216</td>\n",
       "      <td>0</td>\n",
       "      <td>540</td>\n",
       "      <td>756</td>\n",
       "      <td>961</td>\n",
       "      <td>756</td>\n",
       "      <td>0</td>\n",
       "      <td>...</td>\n",
       "      <td>1</td>\n",
       "      <td>3</td>\n",
       "      <td>642</td>\n",
       "      <td>0</td>\n",
       "      <td>35</td>\n",
       "      <td>272</td>\n",
       "      <td>0</td>\n",
       "      <td>0</td>\n",
       "      <td>0</td>\n",
       "      <td>0</td>\n",
       "    </tr>\n",
       "    <tr>\n",
       "      <th>4</th>\n",
       "      <td>84.0</td>\n",
       "      <td>14260</td>\n",
       "      <td>350.0</td>\n",
       "      <td>655</td>\n",
       "      <td>0</td>\n",
       "      <td>490</td>\n",
       "      <td>1145</td>\n",
       "      <td>1145</td>\n",
       "      <td>1053</td>\n",
       "      <td>0</td>\n",
       "      <td>...</td>\n",
       "      <td>1</td>\n",
       "      <td>3</td>\n",
       "      <td>836</td>\n",
       "      <td>192</td>\n",
       "      <td>84</td>\n",
       "      <td>0</td>\n",
       "      <td>0</td>\n",
       "      <td>0</td>\n",
       "      <td>0</td>\n",
       "      <td>0</td>\n",
       "    </tr>\n",
       "  </tbody>\n",
       "</table>\n",
       "<p>5 rows × 24 columns</p>\n",
       "</div>"
      ],
      "text/plain": [
       "   LotFrontage  LotArea  MasVnrArea  BsmtFinSF1  BsmtFinSF2  BsmtUnfSF  \\\n",
       "0         65.0     8450       196.0         706           0        150   \n",
       "1         80.0     9600         0.0         978           0        284   \n",
       "2         68.0    11250       162.0         486           0        434   \n",
       "3         60.0     9550         0.0         216           0        540   \n",
       "4         84.0    14260       350.0         655           0        490   \n",
       "\n",
       "   TotalBsmtSF  1stFlrSF  2ndFlrSF  LowQualFinSF  ...  Fireplaces  GarageCars  \\\n",
       "0          856       856       854             0  ...           0           2   \n",
       "1         1262      1262         0             0  ...           1           2   \n",
       "2          920       920       866             0  ...           1           2   \n",
       "3          756       961       756             0  ...           1           3   \n",
       "4         1145      1145      1053             0  ...           1           3   \n",
       "\n",
       "   GarageArea  WoodDeckSF  OpenPorchSF  EnclosedPorch  3SsnPorch  ScreenPorch  \\\n",
       "0         548           0           61              0          0            0   \n",
       "1         460         298            0              0          0            0   \n",
       "2         608           0           42              0          0            0   \n",
       "3         642           0           35            272          0            0   \n",
       "4         836         192           84              0          0            0   \n",
       "\n",
       "   PoolArea  MiscVal  \n",
       "0         0        0  \n",
       "1         0        0  \n",
       "2         0        0  \n",
       "3         0        0  \n",
       "4         0        0  \n",
       "\n",
       "[5 rows x 24 columns]"
      ]
     },
     "execution_count": 4,
     "metadata": {},
     "output_type": "execute_result"
    }
   ],
   "source": [
    "numerical_features = [\n",
    "    \"LotFrontage\", \"LotArea\", \"MasVnrArea\", \"BsmtFinSF1\", \"BsmtFinSF2\", \"BsmtUnfSF\", \n",
    "    \"TotalBsmtSF\", \"1stFlrSF\", \"2ndFlrSF\", \"LowQualFinSF\", \"GrLivArea\", \"BedroomAbvGr\", \n",
    "    \"KitchenAbvGr\", \"TotRmsAbvGrd\", \"Fireplaces\", \"GarageCars\", \"GarageArea\", \"WoodDeckSF\", \n",
    "    \"OpenPorchSF\", \"EnclosedPorch\", \"3SsnPorch\", \"ScreenPorch\", \"PoolArea\", \"MiscVal\",\n",
    "]\n",
    "\n",
    "data_numerical = data[numerical_features]\n",
    "data_numerical.head()"
   ]
  },
  {
   "cell_type": "markdown",
   "metadata": {},
   "source": [
    "We can display an interactive diagram with the following command:"
   ]
  },
  {
   "cell_type": "code",
   "execution_count": 5,
   "metadata": {},
   "outputs": [],
   "source": [
    "from sklearn import set_config\n",
    "set_config(display='diagram')"
   ]
  },
  {
   "cell_type": "markdown",
   "metadata": {},
   "source": [
    "We will compare the statistical performance of a decision tree and a linear regression. For this purpose, we will create two separate predictive models and evaluate them by 10-fold cross-validation.\n",
    "\n",
    "Thus, use `sklearn.linear_model.LinearRegression` and `sklearn.tree.DecisionTreeRegressor` to create the model. Use the default parameters for both models.\n",
    "\n",
    "**Note**: missing values should be handle with a scikit-learn `sklearn.impute.SimpleImputer` and the default strategy (\"`mean`\"). Be also aware that a linear model requires to scale the data. You can use a `sklearn.preprocessing.StandardScaler`."
   ]
  },
  {
   "cell_type": "markdown",
   "metadata": {},
   "source": [
    "The code to get an estimate of the statistical performance of a linear regression is shown below:"
   ]
  },
  {
   "cell_type": "code",
   "execution_count": 6,
   "metadata": {},
   "outputs": [
    {
     "data": {
      "text/html": [
       "<style>#sk-9b7ef797-9c08-4072-9222-4b4cda72faa5 {color: black;background-color: white;}#sk-9b7ef797-9c08-4072-9222-4b4cda72faa5 pre{padding: 0;}#sk-9b7ef797-9c08-4072-9222-4b4cda72faa5 div.sk-toggleable {background-color: white;}#sk-9b7ef797-9c08-4072-9222-4b4cda72faa5 label.sk-toggleable__label {cursor: pointer;display: block;width: 100%;margin-bottom: 0;padding: 0.2em 0.3em;box-sizing: border-box;text-align: center;}#sk-9b7ef797-9c08-4072-9222-4b4cda72faa5 div.sk-toggleable__content {max-height: 0;max-width: 0;overflow: hidden;text-align: left;background-color: #f0f8ff;}#sk-9b7ef797-9c08-4072-9222-4b4cda72faa5 div.sk-toggleable__content pre {margin: 0.2em;color: black;border-radius: 0.25em;background-color: #f0f8ff;}#sk-9b7ef797-9c08-4072-9222-4b4cda72faa5 input.sk-toggleable__control:checked~div.sk-toggleable__content {max-height: 200px;max-width: 100%;overflow: auto;}#sk-9b7ef797-9c08-4072-9222-4b4cda72faa5 div.sk-estimator input.sk-toggleable__control:checked~label.sk-toggleable__label {background-color: #d4ebff;}#sk-9b7ef797-9c08-4072-9222-4b4cda72faa5 div.sk-label input.sk-toggleable__control:checked~label.sk-toggleable__label {background-color: #d4ebff;}#sk-9b7ef797-9c08-4072-9222-4b4cda72faa5 input.sk-hidden--visually {border: 0;clip: rect(1px 1px 1px 1px);clip: rect(1px, 1px, 1px, 1px);height: 1px;margin: -1px;overflow: hidden;padding: 0;position: absolute;width: 1px;}#sk-9b7ef797-9c08-4072-9222-4b4cda72faa5 div.sk-estimator {font-family: monospace;background-color: #f0f8ff;margin: 0.25em 0.25em;border: 1px dotted black;border-radius: 0.25em;box-sizing: border-box;}#sk-9b7ef797-9c08-4072-9222-4b4cda72faa5 div.sk-estimator:hover {background-color: #d4ebff;}#sk-9b7ef797-9c08-4072-9222-4b4cda72faa5 div.sk-parallel-item::after {content: \"\";width: 100%;border-bottom: 1px solid gray;flex-grow: 1;}#sk-9b7ef797-9c08-4072-9222-4b4cda72faa5 div.sk-label:hover label.sk-toggleable__label {background-color: #d4ebff;}#sk-9b7ef797-9c08-4072-9222-4b4cda72faa5 div.sk-serial::before {content: \"\";position: absolute;border-left: 1px solid gray;box-sizing: border-box;top: 2em;bottom: 0;left: 50%;}#sk-9b7ef797-9c08-4072-9222-4b4cda72faa5 div.sk-serial {display: flex;flex-direction: column;align-items: center;background-color: white;}#sk-9b7ef797-9c08-4072-9222-4b4cda72faa5 div.sk-item {z-index: 1;}#sk-9b7ef797-9c08-4072-9222-4b4cda72faa5 div.sk-parallel {display: flex;align-items: stretch;justify-content: center;background-color: white;}#sk-9b7ef797-9c08-4072-9222-4b4cda72faa5 div.sk-parallel-item {display: flex;flex-direction: column;position: relative;background-color: white;}#sk-9b7ef797-9c08-4072-9222-4b4cda72faa5 div.sk-parallel-item:first-child::after {align-self: flex-end;width: 50%;}#sk-9b7ef797-9c08-4072-9222-4b4cda72faa5 div.sk-parallel-item:last-child::after {align-self: flex-start;width: 50%;}#sk-9b7ef797-9c08-4072-9222-4b4cda72faa5 div.sk-parallel-item:only-child::after {width: 0;}#sk-9b7ef797-9c08-4072-9222-4b4cda72faa5 div.sk-dashed-wrapped {border: 1px dashed gray;margin: 0.2em;box-sizing: border-box;padding-bottom: 0.1em;background-color: white;position: relative;}#sk-9b7ef797-9c08-4072-9222-4b4cda72faa5 div.sk-label label {font-family: monospace;font-weight: bold;background-color: white;display: inline-block;line-height: 1.2em;}#sk-9b7ef797-9c08-4072-9222-4b4cda72faa5 div.sk-label-container {position: relative;z-index: 2;text-align: center;}#sk-9b7ef797-9c08-4072-9222-4b4cda72faa5 div.sk-container {display: inline-block;position: relative;}</style><div id=\"sk-9b7ef797-9c08-4072-9222-4b4cda72faa5\" class\"sk-top-container\"><div class=\"sk-container\"><div class=\"sk-item sk-dashed-wrapped\"><div class=\"sk-label-container\"><div class=\"sk-label sk-toggleable\"><input class=\"sk-toggleable__control sk-hidden--visually\" id=\"1f5527d2-e391-4eb4-9cf0-575fa532cca7\" type=\"checkbox\" ><label class=\"sk-toggleable__label\" for=\"1f5527d2-e391-4eb4-9cf0-575fa532cca7\">Pipeline</label><div class=\"sk-toggleable__content\"><pre>Pipeline(steps=[('standardscaler', StandardScaler()),\n",
       "                ('simpleimputer', SimpleImputer()),\n",
       "                ('linearregression', LinearRegression())])</pre></div></div></div><div class=\"sk-serial\"><div class=\"sk-item\"><div class=\"sk-estimator sk-toggleable\"><input class=\"sk-toggleable__control sk-hidden--visually\" id=\"def242f3-79c8-4b57-baf7-6e066159d85b\" type=\"checkbox\" ><label class=\"sk-toggleable__label\" for=\"def242f3-79c8-4b57-baf7-6e066159d85b\">StandardScaler</label><div class=\"sk-toggleable__content\"><pre>StandardScaler()</pre></div></div></div><div class=\"sk-item\"><div class=\"sk-estimator sk-toggleable\"><input class=\"sk-toggleable__control sk-hidden--visually\" id=\"d0e55e37-5823-475e-9924-1a2869a0d068\" type=\"checkbox\" ><label class=\"sk-toggleable__label\" for=\"d0e55e37-5823-475e-9924-1a2869a0d068\">SimpleImputer</label><div class=\"sk-toggleable__content\"><pre>SimpleImputer()</pre></div></div></div><div class=\"sk-item\"><div class=\"sk-estimator sk-toggleable\"><input class=\"sk-toggleable__control sk-hidden--visually\" id=\"f0fe8741-92b8-489c-a906-7859e03ead7d\" type=\"checkbox\" ><label class=\"sk-toggleable__label\" for=\"f0fe8741-92b8-489c-a906-7859e03ead7d\">LinearRegression</label><div class=\"sk-toggleable__content\"><pre>LinearRegression()</pre></div></div></div></div></div></div></div>"
      ],
      "text/plain": [
       "Pipeline(steps=[('standardscaler', StandardScaler()),\n",
       "                ('simpleimputer', SimpleImputer()),\n",
       "                ('linearregression', LinearRegression())])"
      ]
     },
     "execution_count": 6,
     "metadata": {},
     "output_type": "execute_result"
    }
   ],
   "source": [
    "from sklearn.pipeline import make_pipeline\n",
    "from sklearn.preprocessing import StandardScaler\n",
    "from sklearn.impute import SimpleImputer\n",
    "from sklearn.linear_model import LinearRegression\n",
    "\n",
    "linear_regression = make_pipeline(StandardScaler(), SimpleImputer(strategy='mean'), \n",
    "    LinearRegression())\n",
    "linear_regression"
   ]
  },
  {
   "cell_type": "code",
   "execution_count": 7,
   "metadata": {},
   "outputs": [
    {
     "name": "stdout",
     "output_type": "stream",
     "text": [
      "Average R2 score of linear regression:\n",
      "0.721 +/- 0.134\n",
      "CPU times: user 36 ms, sys: 27.4 ms, total: 63.4 ms\n",
      "Wall time: 771 ms\n"
     ]
    }
   ],
   "source": [
    "%%time\n",
    "from sklearn.model_selection import cross_validate\n",
    "\n",
    "cv_results_linear_regression = cross_validate(\n",
    "    linear_regression, data_numerical, target, \n",
    "    cv=10, scoring='r2', return_estimator=True, n_jobs=2)\n",
    "print(f\"Average R2 score of linear regression:\\n\"\n",
    "    f\"{cv_results_linear_regression['test_score'].mean():.3f} +/- \"\n",
    "    f\"{cv_results_linear_regression['test_score'].std():.3f}\")"
   ]
  },
  {
   "cell_type": "markdown",
   "metadata": {},
   "source": [
    "We need to preprocess the data with a `StandardScaler` and a `SimpleImputer` to scale and impute the missing value before to train the linear regressor. The statistical performance obtained are ~0.72 in terms of $R^2$ score.\n",
    "\n",
    "When dealing with decision tree, it is unnecessary to scale the data. So only the `SimpleImputer` is required in the preprocessing steps. The code below shows how to evaluate a decision tree regressor on our regression problem."
   ]
  },
  {
   "cell_type": "code",
   "execution_count": 8,
   "metadata": {},
   "outputs": [
    {
     "data": {
      "text/html": [
       "<style>#sk-832c95d2-4130-43b6-9c22-fe1056d6ac28 {color: black;background-color: white;}#sk-832c95d2-4130-43b6-9c22-fe1056d6ac28 pre{padding: 0;}#sk-832c95d2-4130-43b6-9c22-fe1056d6ac28 div.sk-toggleable {background-color: white;}#sk-832c95d2-4130-43b6-9c22-fe1056d6ac28 label.sk-toggleable__label {cursor: pointer;display: block;width: 100%;margin-bottom: 0;padding: 0.2em 0.3em;box-sizing: border-box;text-align: center;}#sk-832c95d2-4130-43b6-9c22-fe1056d6ac28 div.sk-toggleable__content {max-height: 0;max-width: 0;overflow: hidden;text-align: left;background-color: #f0f8ff;}#sk-832c95d2-4130-43b6-9c22-fe1056d6ac28 div.sk-toggleable__content pre {margin: 0.2em;color: black;border-radius: 0.25em;background-color: #f0f8ff;}#sk-832c95d2-4130-43b6-9c22-fe1056d6ac28 input.sk-toggleable__control:checked~div.sk-toggleable__content {max-height: 200px;max-width: 100%;overflow: auto;}#sk-832c95d2-4130-43b6-9c22-fe1056d6ac28 div.sk-estimator input.sk-toggleable__control:checked~label.sk-toggleable__label {background-color: #d4ebff;}#sk-832c95d2-4130-43b6-9c22-fe1056d6ac28 div.sk-label input.sk-toggleable__control:checked~label.sk-toggleable__label {background-color: #d4ebff;}#sk-832c95d2-4130-43b6-9c22-fe1056d6ac28 input.sk-hidden--visually {border: 0;clip: rect(1px 1px 1px 1px);clip: rect(1px, 1px, 1px, 1px);height: 1px;margin: -1px;overflow: hidden;padding: 0;position: absolute;width: 1px;}#sk-832c95d2-4130-43b6-9c22-fe1056d6ac28 div.sk-estimator {font-family: monospace;background-color: #f0f8ff;margin: 0.25em 0.25em;border: 1px dotted black;border-radius: 0.25em;box-sizing: border-box;}#sk-832c95d2-4130-43b6-9c22-fe1056d6ac28 div.sk-estimator:hover {background-color: #d4ebff;}#sk-832c95d2-4130-43b6-9c22-fe1056d6ac28 div.sk-parallel-item::after {content: \"\";width: 100%;border-bottom: 1px solid gray;flex-grow: 1;}#sk-832c95d2-4130-43b6-9c22-fe1056d6ac28 div.sk-label:hover label.sk-toggleable__label {background-color: #d4ebff;}#sk-832c95d2-4130-43b6-9c22-fe1056d6ac28 div.sk-serial::before {content: \"\";position: absolute;border-left: 1px solid gray;box-sizing: border-box;top: 2em;bottom: 0;left: 50%;}#sk-832c95d2-4130-43b6-9c22-fe1056d6ac28 div.sk-serial {display: flex;flex-direction: column;align-items: center;background-color: white;}#sk-832c95d2-4130-43b6-9c22-fe1056d6ac28 div.sk-item {z-index: 1;}#sk-832c95d2-4130-43b6-9c22-fe1056d6ac28 div.sk-parallel {display: flex;align-items: stretch;justify-content: center;background-color: white;}#sk-832c95d2-4130-43b6-9c22-fe1056d6ac28 div.sk-parallel-item {display: flex;flex-direction: column;position: relative;background-color: white;}#sk-832c95d2-4130-43b6-9c22-fe1056d6ac28 div.sk-parallel-item:first-child::after {align-self: flex-end;width: 50%;}#sk-832c95d2-4130-43b6-9c22-fe1056d6ac28 div.sk-parallel-item:last-child::after {align-self: flex-start;width: 50%;}#sk-832c95d2-4130-43b6-9c22-fe1056d6ac28 div.sk-parallel-item:only-child::after {width: 0;}#sk-832c95d2-4130-43b6-9c22-fe1056d6ac28 div.sk-dashed-wrapped {border: 1px dashed gray;margin: 0.2em;box-sizing: border-box;padding-bottom: 0.1em;background-color: white;position: relative;}#sk-832c95d2-4130-43b6-9c22-fe1056d6ac28 div.sk-label label {font-family: monospace;font-weight: bold;background-color: white;display: inline-block;line-height: 1.2em;}#sk-832c95d2-4130-43b6-9c22-fe1056d6ac28 div.sk-label-container {position: relative;z-index: 2;text-align: center;}#sk-832c95d2-4130-43b6-9c22-fe1056d6ac28 div.sk-container {display: inline-block;position: relative;}</style><div id=\"sk-832c95d2-4130-43b6-9c22-fe1056d6ac28\" class\"sk-top-container\"><div class=\"sk-container\"><div class=\"sk-item sk-dashed-wrapped\"><div class=\"sk-label-container\"><div class=\"sk-label sk-toggleable\"><input class=\"sk-toggleable__control sk-hidden--visually\" id=\"18ae4436-2b41-4550-9d75-9ba6463f8eb6\" type=\"checkbox\" ><label class=\"sk-toggleable__label\" for=\"18ae4436-2b41-4550-9d75-9ba6463f8eb6\">Pipeline</label><div class=\"sk-toggleable__content\"><pre>Pipeline(steps=[('simpleimputer', SimpleImputer()),\n",
       "                ('decisiontreeregressor',\n",
       "                 DecisionTreeRegressor(random_state=0))])</pre></div></div></div><div class=\"sk-serial\"><div class=\"sk-item\"><div class=\"sk-estimator sk-toggleable\"><input class=\"sk-toggleable__control sk-hidden--visually\" id=\"387d581e-601c-4034-a759-56d1ee5b350c\" type=\"checkbox\" ><label class=\"sk-toggleable__label\" for=\"387d581e-601c-4034-a759-56d1ee5b350c\">SimpleImputer</label><div class=\"sk-toggleable__content\"><pre>SimpleImputer()</pre></div></div></div><div class=\"sk-item\"><div class=\"sk-estimator sk-toggleable\"><input class=\"sk-toggleable__control sk-hidden--visually\" id=\"21141da9-eca8-4b5b-8622-0e5e0499c009\" type=\"checkbox\" ><label class=\"sk-toggleable__label\" for=\"21141da9-eca8-4b5b-8622-0e5e0499c009\">DecisionTreeRegressor</label><div class=\"sk-toggleable__content\"><pre>DecisionTreeRegressor(random_state=0)</pre></div></div></div></div></div></div></div>"
      ],
      "text/plain": [
       "Pipeline(steps=[('simpleimputer', SimpleImputer()),\n",
       "                ('decisiontreeregressor',\n",
       "                 DecisionTreeRegressor(random_state=0))])"
      ]
     },
     "execution_count": 8,
     "metadata": {},
     "output_type": "execute_result"
    }
   ],
   "source": [
    "from sklearn.tree import DecisionTreeRegressor\n",
    "\n",
    "tree = make_pipeline(SimpleImputer(strategy='mean'), \n",
    "    DecisionTreeRegressor(random_state=0))\n",
    "tree"
   ]
  },
  {
   "cell_type": "code",
   "execution_count": 9,
   "metadata": {},
   "outputs": [
    {
     "name": "stdout",
     "output_type": "stream",
     "text": [
      "Average R2 score of decision tree regression:\n",
      "0.622 +/- 0.074\n",
      "CPU times: user 20.1 ms, sys: 729 µs, total: 20.8 ms\n",
      "Wall time: 141 ms\n"
     ]
    }
   ],
   "source": [
    "%%time\n",
    "cv_results_tree = cross_validate(tree, data_numerical, target, cv=10,\n",
    "    scoring='r2', n_jobs=2)\n",
    "print(f\"Average R2 score of decision tree regression:\\n\"\n",
    "    f\"{cv_results_tree['test_score'].mean():.3f} +/- \"\n",
    "    f\"{cv_results_tree['test_score'].std():.3f}\")"
   ]
  },
  {
   "cell_type": "markdown",
   "metadata": {},
   "source": [
    "The average $R^2$ score during cross-validation is ~0.62.\n",
    "\n",
    "Instead of using the default parameter for decision tree regressor, we will optimize the depth of the tree. Using a grid-search (`sklearn.model_selection.GridSearchCV`) with a 10-fold cross-validation, vary the `max_depth` from 1 level up to 15 levels."
   ]
  },
  {
   "cell_type": "markdown",
   "metadata": {},
   "source": [
    "In general, `get_params()` returns a dict whose keys are the parameter names."
   ]
  },
  {
   "cell_type": "code",
   "execution_count": 10,
   "metadata": {},
   "outputs": [
    {
     "data": {
      "text/plain": [
       "dict_keys(['memory', 'steps', 'verbose', 'simpleimputer', 'decisiontreeregressor', 'simpleimputer__add_indicator', 'simpleimputer__copy', 'simpleimputer__fill_value', 'simpleimputer__missing_values', 'simpleimputer__strategy', 'simpleimputer__verbose', 'decisiontreeregressor__ccp_alpha', 'decisiontreeregressor__criterion', 'decisiontreeregressor__max_depth', 'decisiontreeregressor__max_features', 'decisiontreeregressor__max_leaf_nodes', 'decisiontreeregressor__min_impurity_decrease', 'decisiontreeregressor__min_impurity_split', 'decisiontreeregressor__min_samples_leaf', 'decisiontreeregressor__min_samples_split', 'decisiontreeregressor__min_weight_fraction_leaf', 'decisiontreeregressor__random_state', 'decisiontreeregressor__splitter'])"
      ]
     },
     "execution_count": 10,
     "metadata": {},
     "output_type": "execute_result"
    }
   ],
   "source": [
    "tree.get_params().keys()"
   ]
  },
  {
   "cell_type": "markdown",
   "metadata": {},
   "source": [
    "We need to use a `GridSearchCV` and pass a `DecisionTreeRegressor`. In addition, we should pass an array with the different values of `max_depth` to evaluate."
   ]
  },
  {
   "cell_type": "code",
   "execution_count": 11,
   "metadata": {},
   "outputs": [
    {
     "data": {
      "text/html": [
       "<style>#sk-72c0ed3d-d0f4-4b7e-a325-cc2bd1388403 {color: black;background-color: white;}#sk-72c0ed3d-d0f4-4b7e-a325-cc2bd1388403 pre{padding: 0;}#sk-72c0ed3d-d0f4-4b7e-a325-cc2bd1388403 div.sk-toggleable {background-color: white;}#sk-72c0ed3d-d0f4-4b7e-a325-cc2bd1388403 label.sk-toggleable__label {cursor: pointer;display: block;width: 100%;margin-bottom: 0;padding: 0.2em 0.3em;box-sizing: border-box;text-align: center;}#sk-72c0ed3d-d0f4-4b7e-a325-cc2bd1388403 div.sk-toggleable__content {max-height: 0;max-width: 0;overflow: hidden;text-align: left;background-color: #f0f8ff;}#sk-72c0ed3d-d0f4-4b7e-a325-cc2bd1388403 div.sk-toggleable__content pre {margin: 0.2em;color: black;border-radius: 0.25em;background-color: #f0f8ff;}#sk-72c0ed3d-d0f4-4b7e-a325-cc2bd1388403 input.sk-toggleable__control:checked~div.sk-toggleable__content {max-height: 200px;max-width: 100%;overflow: auto;}#sk-72c0ed3d-d0f4-4b7e-a325-cc2bd1388403 div.sk-estimator input.sk-toggleable__control:checked~label.sk-toggleable__label {background-color: #d4ebff;}#sk-72c0ed3d-d0f4-4b7e-a325-cc2bd1388403 div.sk-label input.sk-toggleable__control:checked~label.sk-toggleable__label {background-color: #d4ebff;}#sk-72c0ed3d-d0f4-4b7e-a325-cc2bd1388403 input.sk-hidden--visually {border: 0;clip: rect(1px 1px 1px 1px);clip: rect(1px, 1px, 1px, 1px);height: 1px;margin: -1px;overflow: hidden;padding: 0;position: absolute;width: 1px;}#sk-72c0ed3d-d0f4-4b7e-a325-cc2bd1388403 div.sk-estimator {font-family: monospace;background-color: #f0f8ff;margin: 0.25em 0.25em;border: 1px dotted black;border-radius: 0.25em;box-sizing: border-box;}#sk-72c0ed3d-d0f4-4b7e-a325-cc2bd1388403 div.sk-estimator:hover {background-color: #d4ebff;}#sk-72c0ed3d-d0f4-4b7e-a325-cc2bd1388403 div.sk-parallel-item::after {content: \"\";width: 100%;border-bottom: 1px solid gray;flex-grow: 1;}#sk-72c0ed3d-d0f4-4b7e-a325-cc2bd1388403 div.sk-label:hover label.sk-toggleable__label {background-color: #d4ebff;}#sk-72c0ed3d-d0f4-4b7e-a325-cc2bd1388403 div.sk-serial::before {content: \"\";position: absolute;border-left: 1px solid gray;box-sizing: border-box;top: 2em;bottom: 0;left: 50%;}#sk-72c0ed3d-d0f4-4b7e-a325-cc2bd1388403 div.sk-serial {display: flex;flex-direction: column;align-items: center;background-color: white;}#sk-72c0ed3d-d0f4-4b7e-a325-cc2bd1388403 div.sk-item {z-index: 1;}#sk-72c0ed3d-d0f4-4b7e-a325-cc2bd1388403 div.sk-parallel {display: flex;align-items: stretch;justify-content: center;background-color: white;}#sk-72c0ed3d-d0f4-4b7e-a325-cc2bd1388403 div.sk-parallel-item {display: flex;flex-direction: column;position: relative;background-color: white;}#sk-72c0ed3d-d0f4-4b7e-a325-cc2bd1388403 div.sk-parallel-item:first-child::after {align-self: flex-end;width: 50%;}#sk-72c0ed3d-d0f4-4b7e-a325-cc2bd1388403 div.sk-parallel-item:last-child::after {align-self: flex-start;width: 50%;}#sk-72c0ed3d-d0f4-4b7e-a325-cc2bd1388403 div.sk-parallel-item:only-child::after {width: 0;}#sk-72c0ed3d-d0f4-4b7e-a325-cc2bd1388403 div.sk-dashed-wrapped {border: 1px dashed gray;margin: 0.2em;box-sizing: border-box;padding-bottom: 0.1em;background-color: white;position: relative;}#sk-72c0ed3d-d0f4-4b7e-a325-cc2bd1388403 div.sk-label label {font-family: monospace;font-weight: bold;background-color: white;display: inline-block;line-height: 1.2em;}#sk-72c0ed3d-d0f4-4b7e-a325-cc2bd1388403 div.sk-label-container {position: relative;z-index: 2;text-align: center;}#sk-72c0ed3d-d0f4-4b7e-a325-cc2bd1388403 div.sk-container {display: inline-block;position: relative;}</style><div id=\"sk-72c0ed3d-d0f4-4b7e-a325-cc2bd1388403\" class\"sk-top-container\"><div class=\"sk-container\"><div class=\"sk-item sk-dashed-wrapped\"><div class=\"sk-label-container\"><div class=\"sk-label sk-toggleable\"><input class=\"sk-toggleable__control sk-hidden--visually\" id=\"872795f5-83c4-44c1-aa21-0c662cd57715\" type=\"checkbox\" ><label class=\"sk-toggleable__label\" for=\"872795f5-83c4-44c1-aa21-0c662cd57715\">GridSearchCV</label><div class=\"sk-toggleable__content\"><pre>GridSearchCV(cv=10,\n",
       "             estimator=Pipeline(steps=[('simpleimputer', SimpleImputer()),\n",
       "                                       ('decisiontreeregressor',\n",
       "                                        DecisionTreeRegressor(random_state=0))]),\n",
       "             param_grid={'decisiontreeregressor__max_depth': array([ 1,  2,  3,  4,  5,  6,  7,  8,  9, 10, 11, 12, 13, 14])})</pre></div></div></div><div class=\"sk-parallel\"><div class=\"sk-parallel-item\"><div class=\"sk-item\"><div class=\"sk-serial\"><div class=\"sk-item\"><div class=\"sk-serial\"><div class=\"sk-item\"><div class=\"sk-estimator sk-toggleable\"><input class=\"sk-toggleable__control sk-hidden--visually\" id=\"5b4d8b3b-1243-4e63-bb38-94fe12328dde\" type=\"checkbox\" ><label class=\"sk-toggleable__label\" for=\"5b4d8b3b-1243-4e63-bb38-94fe12328dde\">SimpleImputer</label><div class=\"sk-toggleable__content\"><pre>SimpleImputer()</pre></div></div></div><div class=\"sk-item\"><div class=\"sk-estimator sk-toggleable\"><input class=\"sk-toggleable__control sk-hidden--visually\" id=\"88f4b497-58ef-485b-b97b-cf78be0fb6f1\" type=\"checkbox\" ><label class=\"sk-toggleable__label\" for=\"88f4b497-58ef-485b-b97b-cf78be0fb6f1\">DecisionTreeRegressor</label><div class=\"sk-toggleable__content\"><pre>DecisionTreeRegressor(random_state=0)</pre></div></div></div></div></div></div></div></div></div></div></div></div>"
      ],
      "text/plain": [
       "GridSearchCV(cv=10,\n",
       "             estimator=Pipeline(steps=[('simpleimputer', SimpleImputer()),\n",
       "                                       ('decisiontreeregressor',\n",
       "                                        DecisionTreeRegressor(random_state=0))]),\n",
       "             param_grid={'decisiontreeregressor__max_depth': array([ 1,  2,  3,  4,  5,  6,  7,  8,  9, 10, 11, 12, 13, 14])})"
      ]
     },
     "execution_count": 11,
     "metadata": {},
     "output_type": "execute_result"
    }
   ],
   "source": [
    "import numpy as np\n",
    "from sklearn.model_selection import GridSearchCV\n",
    "\n",
    "params = {\"decisiontreeregressor__max_depth\": np.arange(1, 15)}\n",
    "search = GridSearchCV(tree, param_grid=params, cv=10)\n",
    "search"
   ]
  },
  {
   "cell_type": "code",
   "execution_count": 12,
   "metadata": {},
   "outputs": [
    {
     "name": "stdout",
     "output_type": "stream",
     "text": [
      "Average R2 score of optimal decision tree regression:\n",
      "0.698 +/- 0.051\n",
      "CPU times: user 45.7 ms, sys: 4.55 ms, total: 50.2 ms\n",
      "Wall time: 8.93 s\n"
     ]
    }
   ],
   "source": [
    "%%time\n",
    "cv_results_tree_optimal_depth = cross_validate(\n",
    "    search, data_numerical, target, cv=10, \n",
    "    scoring='r2', return_estimator=True, n_jobs=2)\n",
    "print(f\"Average R2 score of optimal decision tree regression:\\n\"\n",
    "    f\"{cv_results_tree_optimal_depth['test_score'].mean():.3f} +/- \"\n",
    "    f\"{cv_results_tree_optimal_depth['test_score'].std():.3f}\")"
   ]
  },
  {
   "cell_type": "markdown",
   "metadata": {},
   "source": [
    "The results obtained are around ~0.7 in terms of $R^2$ score. We can inspect the trees trained during the cross-validation to find what was the values of the `max_depth` parameter."
   ]
  },
  {
   "cell_type": "code",
   "execution_count": 13,
   "metadata": {},
   "outputs": [
    {
     "data": {
      "image/png": "[encoded data removed]",
      "text/plain": [
       "<Figure size 432x288 with 1 Axes>"
      ]
     },
     "metadata": {
      "needs_background": "light"
     },
     "output_type": "display_data"
    }
   ],
   "source": [
    "import seaborn as sns\n",
    "sns.set_context(\"talk\")\n",
    "\n",
    "max_depth = [estimator.best_params_['decisiontreeregressor__max_depth']\n",
    "    for estimator in cv_results_tree_optimal_depth['estimator']]\n",
    "max_depth = pd.Series(max_depth, name='max depth')\n",
    "_ = sns.swarmplot(x=max_depth)"
   ]
  },
  {
   "cell_type": "markdown",
   "metadata": {},
   "source": [
    "Most of the time `max_depth` was in the range 5 to 8.\n",
    "\n",
    "From the result above, optimized decision tree gives an $R^2$ of ~0.7 in average while the linear regression gives an average of ~0.72.\n",
    "\n",
    "Instead of using only the numerical dataset (which was the variable `data_numerical`), use the entire dataset available in the variable `data`.\n",
    "\n",
    "Create a preprocessor by dealing separately with the numerical and categorical columns. For the sake of simplicity, we will define the categorical columns as the columns with an `object` data type.\n",
    "\n",
    "**Do not optimize the `max_depth` parameter.**\n",
    "\n",
    "The code to create the predictive model to handle both categorical and numerical columns is the following:"
   ]
  },
  {
   "cell_type": "code",
   "execution_count": 14,
   "metadata": {},
   "outputs": [
    {
     "data": {
      "text/html": [
       "<style>#sk-cd6d1e89-04d6-4e91-8089-8fcff6f7e656 {color: black;background-color: white;}#sk-cd6d1e89-04d6-4e91-8089-8fcff6f7e656 pre{padding: 0;}#sk-cd6d1e89-04d6-4e91-8089-8fcff6f7e656 div.sk-toggleable {background-color: white;}#sk-cd6d1e89-04d6-4e91-8089-8fcff6f7e656 label.sk-toggleable__label {cursor: pointer;display: block;width: 100%;margin-bottom: 0;padding: 0.2em 0.3em;box-sizing: border-box;text-align: center;}#sk-cd6d1e89-04d6-4e91-8089-8fcff6f7e656 div.sk-toggleable__content {max-height: 0;max-width: 0;overflow: hidden;text-align: left;background-color: #f0f8ff;}#sk-cd6d1e89-04d6-4e91-8089-8fcff6f7e656 div.sk-toggleable__content pre {margin: 0.2em;color: black;border-radius: 0.25em;background-color: #f0f8ff;}#sk-cd6d1e89-04d6-4e91-8089-8fcff6f7e656 input.sk-toggleable__control:checked~div.sk-toggleable__content {max-height: 200px;max-width: 100%;overflow: auto;}#sk-cd6d1e89-04d6-4e91-8089-8fcff6f7e656 div.sk-estimator input.sk-toggleable__control:checked~label.sk-toggleable__label {background-color: #d4ebff;}#sk-cd6d1e89-04d6-4e91-8089-8fcff6f7e656 div.sk-label input.sk-toggleable__control:checked~label.sk-toggleable__label {background-color: #d4ebff;}#sk-cd6d1e89-04d6-4e91-8089-8fcff6f7e656 input.sk-hidden--visually {border: 0;clip: rect(1px 1px 1px 1px);clip: rect(1px, 1px, 1px, 1px);height: 1px;margin: -1px;overflow: hidden;padding: 0;position: absolute;width: 1px;}#sk-cd6d1e89-04d6-4e91-8089-8fcff6f7e656 div.sk-estimator {font-family: monospace;background-color: #f0f8ff;margin: 0.25em 0.25em;border: 1px dotted black;border-radius: 0.25em;box-sizing: border-box;}#sk-cd6d1e89-04d6-4e91-8089-8fcff6f7e656 div.sk-estimator:hover {background-color: #d4ebff;}#sk-cd6d1e89-04d6-4e91-8089-8fcff6f7e656 div.sk-parallel-item::after {content: \"\";width: 100%;border-bottom: 1px solid gray;flex-grow: 1;}#sk-cd6d1e89-04d6-4e91-8089-8fcff6f7e656 div.sk-label:hover label.sk-toggleable__label {background-color: #d4ebff;}#sk-cd6d1e89-04d6-4e91-8089-8fcff6f7e656 div.sk-serial::before {content: \"\";position: absolute;border-left: 1px solid gray;box-sizing: border-box;top: 2em;bottom: 0;left: 50%;}#sk-cd6d1e89-04d6-4e91-8089-8fcff6f7e656 div.sk-serial {display: flex;flex-direction: column;align-items: center;background-color: white;}#sk-cd6d1e89-04d6-4e91-8089-8fcff6f7e656 div.sk-item {z-index: 1;}#sk-cd6d1e89-04d6-4e91-8089-8fcff6f7e656 div.sk-parallel {display: flex;align-items: stretch;justify-content: center;background-color: white;}#sk-cd6d1e89-04d6-4e91-8089-8fcff6f7e656 div.sk-parallel-item {display: flex;flex-direction: column;position: relative;background-color: white;}#sk-cd6d1e89-04d6-4e91-8089-8fcff6f7e656 div.sk-parallel-item:first-child::after {align-self: flex-end;width: 50%;}#sk-cd6d1e89-04d6-4e91-8089-8fcff6f7e656 div.sk-parallel-item:last-child::after {align-self: flex-start;width: 50%;}#sk-cd6d1e89-04d6-4e91-8089-8fcff6f7e656 div.sk-parallel-item:only-child::after {width: 0;}#sk-cd6d1e89-04d6-4e91-8089-8fcff6f7e656 div.sk-dashed-wrapped {border: 1px dashed gray;margin: 0.2em;box-sizing: border-box;padding-bottom: 0.1em;background-color: white;position: relative;}#sk-cd6d1e89-04d6-4e91-8089-8fcff6f7e656 div.sk-label label {font-family: monospace;font-weight: bold;background-color: white;display: inline-block;line-height: 1.2em;}#sk-cd6d1e89-04d6-4e91-8089-8fcff6f7e656 div.sk-label-container {position: relative;z-index: 2;text-align: center;}#sk-cd6d1e89-04d6-4e91-8089-8fcff6f7e656 div.sk-container {display: inline-block;position: relative;}</style><div id=\"sk-cd6d1e89-04d6-4e91-8089-8fcff6f7e656\" class\"sk-top-container\"><div class=\"sk-container\"><div class=\"sk-item sk-dashed-wrapped\"><div class=\"sk-label-container\"><div class=\"sk-label sk-toggleable\"><input class=\"sk-toggleable__control sk-hidden--visually\" id=\"216370e5-16e8-44dd-b759-f30fe406679c\" type=\"checkbox\" ><label class=\"sk-toggleable__label\" for=\"216370e5-16e8-44dd-b759-f30fe406679c\">Pipeline</label><div class=\"sk-toggleable__content\"><pre>Pipeline(steps=[('columntransformer',\n",
       "                 ColumnTransformer(transformers=[('simpleimputer',\n",
       "                                                  SimpleImputer(),\n",
       "                                                  <sklearn.compose._column_transformer.make_column_selector object at 0x7f591f6f0550>),\n",
       "                                                 ('pipeline',\n",
       "                                                  Pipeline(steps=[('simpleimputer',\n",
       "                                                                   SimpleImputer(fill_value='missing',\n",
       "                                                                                 strategy='most_frequent')),\n",
       "                                                                  ('ordinalencoder',\n",
       "                                                                   OrdinalEncoder(handle_unknown='use_encoded_value',\n",
       "                                                                                  unknown_value=-1))]),\n",
       "                                                  <sklearn.compose._column_transformer.make_column_selector object at 0x7f591f6e24c0>)])),\n",
       "                ('decisiontreeregressor',\n",
       "                 DecisionTreeRegressor(random_state=0))])</pre></div></div></div><div class=\"sk-serial\"><div class=\"sk-item sk-dashed-wrapped\"><div class=\"sk-label-container\"><div class=\"sk-label sk-toggleable\"><input class=\"sk-toggleable__control sk-hidden--visually\" id=\"03595b16-b68b-41bd-9d8a-ffbfbea2c898\" type=\"checkbox\" ><label class=\"sk-toggleable__label\" for=\"03595b16-b68b-41bd-9d8a-ffbfbea2c898\">columntransformer: ColumnTransformer</label><div class=\"sk-toggleable__content\"><pre>ColumnTransformer(transformers=[('simpleimputer', SimpleImputer(),\n",
       "                                 <sklearn.compose._column_transformer.make_column_selector object at 0x7f591f6f0550>),\n",
       "                                ('pipeline',\n",
       "                                 Pipeline(steps=[('simpleimputer',\n",
       "                                                  SimpleImputer(fill_value='missing',\n",
       "                                                                strategy='most_frequent')),\n",
       "                                                 ('ordinalencoder',\n",
       "                                                  OrdinalEncoder(handle_unknown='use_encoded_value',\n",
       "                                                                 unknown_value=-1))]),\n",
       "                                 <sklearn.compose._column_transformer.make_column_selector object at 0x7f591f6e24c0>)])</pre></div></div></div><div class=\"sk-parallel\"><div class=\"sk-parallel-item\"><div class=\"sk-item\"><div class=\"sk-label-container\"><div class=\"sk-label sk-toggleable\"><input class=\"sk-toggleable__control sk-hidden--visually\" id=\"300fa473-07f8-4590-8953-dd7d30dd771a\" type=\"checkbox\" ><label class=\"sk-toggleable__label\" for=\"300fa473-07f8-4590-8953-dd7d30dd771a\">simpleimputer</label><div class=\"sk-toggleable__content\"><pre><sklearn.compose._column_transformer.make_column_selector object at 0x7f591f6f0550></pre></div></div></div><div class=\"sk-serial\"><div class=\"sk-item\"><div class=\"sk-estimator sk-toggleable\"><input class=\"sk-toggleable__control sk-hidden--visually\" id=\"46cc433a-edc3-417e-b734-27ed03e04af1\" type=\"checkbox\" ><label class=\"sk-toggleable__label\" for=\"46cc433a-edc3-417e-b734-27ed03e04af1\">SimpleImputer</label><div class=\"sk-toggleable__content\"><pre>SimpleImputer()</pre></div></div></div></div></div></div><div class=\"sk-parallel-item\"><div class=\"sk-item\"><div class=\"sk-label-container\"><div class=\"sk-label sk-toggleable\"><input class=\"sk-toggleable__control sk-hidden--visually\" id=\"986656a2-cc70-41bd-8936-acfa5240e6a6\" type=\"checkbox\" ><label class=\"sk-toggleable__label\" for=\"986656a2-cc70-41bd-8936-acfa5240e6a6\">pipeline</label><div class=\"sk-toggleable__content\"><pre><sklearn.compose._column_transformer.make_column_selector object at 0x7f591f6e24c0></pre></div></div></div><div class=\"sk-serial\"><div class=\"sk-item\"><div class=\"sk-serial\"><div class=\"sk-item\"><div class=\"sk-estimator sk-toggleable\"><input class=\"sk-toggleable__control sk-hidden--visually\" id=\"11b14650-9631-4b2a-9e04-aaa9e5425211\" type=\"checkbox\" ><label class=\"sk-toggleable__label\" for=\"11b14650-9631-4b2a-9e04-aaa9e5425211\">SimpleImputer</label><div class=\"sk-toggleable__content\"><pre>SimpleImputer(fill_value='missing', strategy='most_frequent')</pre></div></div></div><div class=\"sk-item\"><div class=\"sk-estimator sk-toggleable\"><input class=\"sk-toggleable__control sk-hidden--visually\" id=\"c9ef66ae-b0c0-412e-a9b5-83593170788f\" type=\"checkbox\" ><label class=\"sk-toggleable__label\" for=\"c9ef66ae-b0c0-412e-a9b5-83593170788f\">OrdinalEncoder</label><div class=\"sk-toggleable__content\"><pre>OrdinalEncoder(handle_unknown='use_encoded_value', unknown_value=-1)</pre></div></div></div></div></div></div></div></div></div></div><div class=\"sk-item\"><div class=\"sk-estimator sk-toggleable\"><input class=\"sk-toggleable__control sk-hidden--visually\" id=\"5be0a2a6-2808-4c84-8e9c-b6041bda531b\" type=\"checkbox\" ><label class=\"sk-toggleable__label\" for=\"5be0a2a6-2808-4c84-8e9c-b6041bda531b\">DecisionTreeRegressor</label><div class=\"sk-toggleable__content\"><pre>DecisionTreeRegressor(random_state=0)</pre></div></div></div></div></div></div></div>"
      ],
      "text/plain": [
       "Pipeline(steps=[('columntransformer',\n",
       "                 ColumnTransformer(transformers=[('simpleimputer',\n",
       "                                                  SimpleImputer(),\n",
       "                                                  <sklearn.compose._column_transformer.make_column_selector object at 0x7f591f6f0550>),\n",
       "                                                 ('pipeline',\n",
       "                                                  Pipeline(steps=[('simpleimputer',\n",
       "                                                                   SimpleImputer(fill_value='missing',\n",
       "                                                                                 strategy='most_frequent')),\n",
       "                                                                  ('ordinalencoder',\n",
       "                                                                   OrdinalEncoder(handle_unknown='use_encoded_value',\n",
       "                                                                                  unknown_value=-1))]),\n",
       "                                                  <sklearn.compose._column_transformer.make_column_selector object at 0x7f591f6e24c0>)])),\n",
       "                ('decisiontreeregressor',\n",
       "                 DecisionTreeRegressor(random_state=0))])"
      ]
     },
     "execution_count": 14,
     "metadata": {},
     "output_type": "execute_result"
    }
   ],
   "source": [
    "from sklearn.compose import make_column_transformer\n",
    "from sklearn.compose import make_column_selector as selector\n",
    "from sklearn.preprocessing import OrdinalEncoder\n",
    "\n",
    "numerical_processor = SimpleImputer(strategy='mean')\n",
    "categorical_processor = make_pipeline(\n",
    "    SimpleImputer(strategy='most_frequent', fill_value='missing'),\n",
    "    OrdinalEncoder(handle_unknown='use_encoded_value', unknown_value=-1)\n",
    ")\n",
    "preprocessor = make_column_transformer(\n",
    "    (numerical_processor, selector(dtype_exclude=object)),\n",
    "    (categorical_processor, selector(dtype_include=object))\n",
    ")\n",
    "tree = make_pipeline(preprocessor, \n",
    "    DecisionTreeRegressor(random_state=0))\n",
    "tree"
   ]
  },
  {
   "cell_type": "markdown",
   "metadata": {},
   "source": [
    "Then, we can evaluate this tree using cross-validatation:"
   ]
  },
  {
   "cell_type": "code",
   "execution_count": 15,
   "metadata": {},
   "outputs": [
    {
     "name": "stdout",
     "output_type": "stream",
     "text": [
      "Average R2 score of decision tree regression:\n",
      "0.750 +/- 0.088\n",
      "CPU times: user 85 ms, sys: 505 µs, total: 85.5 ms\n",
      "Wall time: 404 ms\n"
     ]
    }
   ],
   "source": [
    "%%time\n",
    "cv_results = cross_validate(tree, data, target, cv=10, \n",
    "    scoring='r2', return_estimator=True, n_jobs=2)\n",
    "print(f\"Average R2 score of decision tree regression:\\n\"\n",
    "    f\"{cv_results['test_score'].mean():.3f} +/- \"\n",
    "    f\"{cv_results['test_score'].std():.3f}\")"
   ]
  },
  {
   "cell_type": "markdown",
   "metadata": {},
   "source": [
    "The score obtained is ~0.75 for the performance in terms of $R^2$ better by incorporating the categorical features in comparison with the previous tree with optimal depth."
   ]
  }
 ],
 "metadata": {
  "kernelspec": {
   "display_name": "Python 3",
   "language": "python",
   "name": "python3"
  },
  "language_info": {
   "codemirror_mode": {
    "name": "ipython",
    "version": 3
   },
   "file_extension": ".py",
   "mimetype": "text/x-python",
   "name": "python",
   "nbconvert_exporter": "python",
   "pygments_lexer": "ipython3",
   "version": "3.8.10"
  }
 },
 "nbformat": 4,
 "nbformat_minor": 4
}
