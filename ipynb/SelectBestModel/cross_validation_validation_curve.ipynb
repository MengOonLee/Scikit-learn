{
 "cells": [
  {
   "cell_type": "markdown",
   "id": "364832ba",
   "metadata": {},
   "source": [
    "# Overfit-generalization-underfit\n",
    "\n",
    "In the previous notebook, we presented the general cross-validation framework\n",
    "and how it helps us quantify the training and testing errors as well\n",
    "as their fluctuations.\n",
    "\n",
    "In this notebook, we will put these two errors into perspective and show how\n",
    "they can help us know if our model generalizes, overfit, or underfit.\n",
    "\n",
    "Let's first load the data and create the same model as in the previous\n",
    "notebook."
   ]
  },
  {
   "cell_type": "code",
   "execution_count": 1,
   "id": "20c6b898",
   "metadata": {},
   "outputs": [],
   "source": [
    "from sklearn.datasets import fetch_california_housing\n",
    "\n",
    "housing = fetch_california_housing(as_frame=True)\n",
    "data, target = housing.data, housing.target\n",
    "target *= 100  # rescale the target in k$"
   ]
  },
  {
   "cell_type": "markdown",
   "id": "4fe7c06f",
   "metadata": {},
   "source": [
    "<div class=\"admonition note alert alert-info\">\n",
    "<p class=\"first admonition-title\" style=\"font-weight: bold;\">Note</p>\n",
    "<p class=\"last\">If you want a deeper overview regarding this dataset, you can refer to the\n",
    "Appendix - Datasets description section at the end of this MOOC.</p>\n",
    "</div>"
   ]
  },
  {
   "cell_type": "code",
   "execution_count": 2,
   "id": "1d486c07",
   "metadata": {},
   "outputs": [],
   "source": [
    "from sklearn.tree import DecisionTreeRegressor\n",
    "\n",
    "regressor = DecisionTreeRegressor()"
   ]
  },
  {
   "cell_type": "markdown",
   "id": "e439df78",
   "metadata": {},
   "source": [
    "## Overfitting vs. underfitting\n",
    "\n",
    "To better understand the statistical performance of our model and maybe find\n",
    "insights on how to improve it, we will compare the testing error with the\n",
    "training error. Thus, we need to compute the error on the training set,\n",
    "which is possible using the `cross_validate` function."
   ]
  },
  {
   "cell_type": "code",
   "execution_count": 3,
   "id": "45155f5a",
   "metadata": {},
   "outputs": [
    {
     "data": {
      "text/html": [
       "<div>\n",
       "<style scoped>\n",
       "    .dataframe tbody tr th:only-of-type {\n",
       "        vertical-align: middle;\n",
       "    }\n",
       "\n",
       "    .dataframe tbody tr th {\n",
       "        vertical-align: top;\n",
       "    }\n",
       "\n",
       "    .dataframe thead th {\n",
       "        text-align: right;\n",
       "    }\n",
       "</style>\n",
       "<table border=\"1\" class=\"dataframe\">\n",
       "  <thead>\n",
       "    <tr style=\"text-align: right;\">\n",
       "      <th></th>\n",
       "      <th>fit_time</th>\n",
       "      <th>score_time</th>\n",
       "      <th>test_score</th>\n",
       "      <th>train_score</th>\n",
       "    </tr>\n",
       "  </thead>\n",
       "  <tbody>\n",
       "    <tr>\n",
       "      <th>0</th>\n",
       "      <td>0.148100</td>\n",
       "      <td>0.002514</td>\n",
       "      <td>-47.510920</td>\n",
       "      <td>-1.179418e-14</td>\n",
       "    </tr>\n",
       "    <tr>\n",
       "      <th>1</th>\n",
       "      <td>0.144265</td>\n",
       "      <td>0.002582</td>\n",
       "      <td>-47.641291</td>\n",
       "      <td>-3.514846e-15</td>\n",
       "    </tr>\n",
       "    <tr>\n",
       "      <th>2</th>\n",
       "      <td>0.146299</td>\n",
       "      <td>0.002492</td>\n",
       "      <td>-46.695758</td>\n",
       "      <td>-3.535501e-15</td>\n",
       "    </tr>\n",
       "    <tr>\n",
       "      <th>3</th>\n",
       "      <td>0.146292</td>\n",
       "      <td>0.002502</td>\n",
       "      <td>-46.638513</td>\n",
       "      <td>-1.507838e-14</td>\n",
       "    </tr>\n",
       "    <tr>\n",
       "      <th>4</th>\n",
       "      <td>0.145192</td>\n",
       "      <td>0.002534</td>\n",
       "      <td>-45.507863</td>\n",
       "      <td>-8.179504e-15</td>\n",
       "    </tr>\n",
       "  </tbody>\n",
       "</table>\n",
       "</div>"
      ],
      "text/plain": [
       "   fit_time  score_time  test_score   train_score\n",
       "0  0.148100    0.002514  -47.510920 -1.179418e-14\n",
       "1  0.144265    0.002582  -47.641291 -3.514846e-15\n",
       "2  0.146299    0.002492  -46.695758 -3.535501e-15\n",
       "3  0.146292    0.002502  -46.638513 -1.507838e-14\n",
       "4  0.145192    0.002534  -45.507863 -8.179504e-15"
      ]
     },
     "execution_count": 3,
     "metadata": {},
     "output_type": "execute_result"
    }
   ],
   "source": [
    "import pandas as pd\n",
    "from sklearn.model_selection import cross_validate, ShuffleSplit\n",
    "\n",
    "cv = ShuffleSplit(n_splits=30, test_size=0.2)\n",
    "cv_results = cross_validate(regressor, data, target, cv=cv, \n",
    "    scoring=\"neg_mean_absolute_error\",\n",
    "    return_train_score=True, n_jobs=2)\n",
    "cv_results = pd.DataFrame(cv_results)\n",
    "cv_results.head()"
   ]
  },
  {
   "cell_type": "markdown",
   "id": "341c4160",
   "metadata": {},
   "source": [
    "The cross-validation used the negative mean absolute error. We transform\n",
    "the negative mean absolute error into a positive mean absolute error."
   ]
  },
  {
   "cell_type": "code",
   "execution_count": 4,
   "id": "2f9e59c9",
   "metadata": {},
   "outputs": [
    {
     "data": {
      "text/html": [
       "<div>\n",
       "<style scoped>\n",
       "    .dataframe tbody tr th:only-of-type {\n",
       "        vertical-align: middle;\n",
       "    }\n",
       "\n",
       "    .dataframe tbody tr th {\n",
       "        vertical-align: top;\n",
       "    }\n",
       "\n",
       "    .dataframe thead th {\n",
       "        text-align: right;\n",
       "    }\n",
       "</style>\n",
       "<table border=\"1\" class=\"dataframe\">\n",
       "  <thead>\n",
       "    <tr style=\"text-align: right;\">\n",
       "      <th></th>\n",
       "      <th>train error</th>\n",
       "      <th>test error</th>\n",
       "    </tr>\n",
       "  </thead>\n",
       "  <tbody>\n",
       "    <tr>\n",
       "      <th>0</th>\n",
       "      <td>1.179418e-14</td>\n",
       "      <td>47.510920</td>\n",
       "    </tr>\n",
       "    <tr>\n",
       "      <th>1</th>\n",
       "      <td>3.514846e-15</td>\n",
       "      <td>47.641291</td>\n",
       "    </tr>\n",
       "    <tr>\n",
       "      <th>2</th>\n",
       "      <td>3.535501e-15</td>\n",
       "      <td>46.695758</td>\n",
       "    </tr>\n",
       "    <tr>\n",
       "      <th>3</th>\n",
       "      <td>1.507838e-14</td>\n",
       "      <td>46.638513</td>\n",
       "    </tr>\n",
       "    <tr>\n",
       "      <th>4</th>\n",
       "      <td>8.179504e-15</td>\n",
       "      <td>45.507863</td>\n",
       "    </tr>\n",
       "  </tbody>\n",
       "</table>\n",
       "</div>"
      ],
      "text/plain": [
       "    train error  test error\n",
       "0  1.179418e-14   47.510920\n",
       "1  3.514846e-15   47.641291\n",
       "2  3.535501e-15   46.695758\n",
       "3  1.507838e-14   46.638513\n",
       "4  8.179504e-15   45.507863"
      ]
     },
     "execution_count": 4,
     "metadata": {},
     "output_type": "execute_result"
    }
   ],
   "source": [
    "scores = pd.DataFrame()\n",
    "scores[[\"train error\", \"test error\"]] = -cv_results[\n",
    "    [\"train_score\", \"test_score\"]]\n",
    "scores.head()"
   ]
  },
  {
   "cell_type": "code",
   "execution_count": 5,
   "id": "cf75b45f",
   "metadata": {},
   "outputs": [
    {
     "data": {
      "image/png": "[encoded data removed]",
      "text/plain": [
       "<Figure size 432x288 with 1 Axes>"
      ]
     },
     "metadata": {
      "needs_background": "light"
     },
     "output_type": "display_data"
    }
   ],
   "source": [
    "import matplotlib.pyplot as plt\n",
    "\n",
    "scores.plot.hist(bins=50, edgecolor=\"black\", density=True)\n",
    "plt.xlabel(\"Mean absolute error (k$)\")\n",
    "_ = plt.title(\"Train and test errors distribution via cross-validation\")"
   ]
  },
  {
   "cell_type": "markdown",
   "id": "0f76fd3b",
   "metadata": {},
   "source": [
    "By plotting the distribution of the training and testing errors, we\n",
    "get information about whether our model is over-fitting, under-fitting (or\n",
    "both at the same time).\n",
    "\n",
    "Here, we observe a **small training error** (actually zero), meaning that\n",
    "the model is **not under-fitting**: it is flexible enough to capture any\n",
    "variations present in the training set.\n",
    "\n",
    "However the **significantly larger testing error** tells us that the\n",
    "model is **over-fitting**: the model has memorized many variations of the\n",
    "training set that could be considered \"noisy\" because they do not generalize\n",
    "to help us make good prediction on the test set.\n",
    "\n",
    "## Validation curve\n",
    "\n",
    "Some model hyperparameters are usually the key to go from a model that\n",
    "underfits to a model that overfits, hopefully going through a region were we\n",
    "can get a good balance between the two. We can acquire knowledge by plotting\n",
    "a curve called the validation curve. This curve can also be applied to the\n",
    "above experiment and varies the value of a hyperparameter.\n",
    "\n",
    "For the decision tree, the `max_depth` parameter is used to control the\n",
    "tradeoff between under-fitting and over-fitting."
   ]
  },
  {
   "cell_type": "code",
   "execution_count": 6,
   "id": "39b07dd4",
   "metadata": {},
   "outputs": [
    {
     "name": "stdout",
     "output_type": "stream",
     "text": [
      "CPU times: user 361 ms, sys: 59.1 ms, total: 420 ms\n",
      "Wall time: 9.88 s\n"
     ]
    }
   ],
   "source": [
    "%%time\n",
    "from sklearn.model_selection import validation_curve\n",
    "\n",
    "max_depth = [1, 5, 10, 15, 20, 25]\n",
    "train_scores, test_scores = validation_curve(\n",
    "    regressor, data, target, param_name=\"max_depth\", param_range=max_depth,\n",
    "    cv=cv, scoring=\"neg_mean_absolute_error\", n_jobs=2)\n",
    "train_errors, test_errors = -train_scores, -test_scores"
   ]
  },
  {
   "cell_type": "markdown",
   "id": "a629b0a1",
   "metadata": {},
   "source": [
    "Now that we collected the results, we will show the validation curve by\n",
    "plotting the training and testing errors (as well as their deviations)."
   ]
  },
  {
   "cell_type": "code",
   "execution_count": 7,
   "id": "4cd5800b",
   "metadata": {},
   "outputs": [
    {
     "data": {
      "image/png": "[encoded data removed]",
      "text/plain": [
       "<Figure size 432x288 with 1 Axes>"
      ]
     },
     "metadata": {
      "needs_background": "light"
     },
     "output_type": "display_data"
    }
   ],
   "source": [
    "plt.plot(max_depth, train_errors.mean(axis=1), label=\"Training error\")\n",
    "plt.plot(max_depth, test_errors.mean(axis=1), label=\"Testing error\")\n",
    "plt.legend()\n",
    "\n",
    "plt.xlabel(\"Maximum depth of decision tree\")\n",
    "plt.ylabel(\"Mean absolute error (k$)\")\n",
    "_ = plt.title(\"Validation curve for decision tree\")"
   ]
  },
  {
   "cell_type": "markdown",
   "id": "82d71412",
   "metadata": {},
   "source": [
    "The validation curve can be divided into three areas:\n",
    "\n",
    "- For `max_depth < 10`, the decision tree underfits. The training error and\n",
    "  therefore the testing error are both high. The model is too\n",
    "  constrained and cannot capture much of the variability of the target\n",
    "  variable.\n",
    "\n",
    "- The region around `max_depth = 10` corresponds to the parameter for which\n",
    "  the decision tree generalizes the best. It is flexible enough to capture a\n",
    "  fraction of the variability of the target that generalizes, while not\n",
    "  memorizing all of the noise in the target.\n",
    "\n",
    "- For `max_depth > 10`, the decision tree overfits. The training error\n",
    "  becomes very small, while the testing error increases. In this\n",
    "  region, the models create decisions specifically for noisy samples harming\n",
    "  its ability to generalize to test data.\n",
    "\n",
    "Note that for `max_depth = 10`, the model overfits a bit as there is a gap\n",
    "between the training error and the testing error. It can also\n",
    "potentially underfit also a bit at the same time, because the training error\n",
    "is still far from zero (more than 30 k\\\\$), meaning that the model might\n",
    "still be too constrained to model interesting parts of the data. However, the\n",
    "testing error is minimal, and this is what really matters. This is the\n",
    "best compromise we could reach by just tuning this parameter.\n",
    "\n",
    "Be aware that looking at the mean errors is quite limiting. We should also\n",
    "look at the standard deviation to assess the dispersion of the score. We\n",
    "can repeat the same plot as before but this time, we will add some\n",
    "information to show the standard deviation of the errors as well."
   ]
  },
  {
   "cell_type": "code",
   "execution_count": 8,
   "id": "f2c1e738",
   "metadata": {},
   "outputs": [
    {
     "data": {
      "image/png": "[encoded data removed]",
      "text/plain": [
       "<Figure size 432x288 with 1 Axes>"
      ]
     },
     "metadata": {
      "needs_background": "light"
     },
     "output_type": "display_data"
    }
   ],
   "source": [
    "plt.errorbar(max_depth, train_errors.mean(axis=1),\n",
    "             yerr=train_errors.std(axis=1), label='Training error')\n",
    "plt.errorbar(max_depth, test_errors.mean(axis=1),\n",
    "             yerr=test_errors.std(axis=1), label='Testing error')\n",
    "plt.legend()\n",
    "\n",
    "plt.xlabel(\"Maximum depth of decision tree\")\n",
    "plt.ylabel(\"Mean absolute error (k$)\")\n",
    "_ = plt.title(\"Validation curve for decision tree\")"
   ]
  },
  {
   "cell_type": "markdown",
   "id": "5f9797dd",
   "metadata": {},
   "source": [
    "We were lucky that the variance of the errors was small compared to their\n",
    "respective values, and therefore the conclusions above are quite clear. This\n",
    "is not necessarily always the case."
   ]
  },
  {
   "cell_type": "markdown",
   "id": "722b140a",
   "metadata": {},
   "source": [
    "## Summary:\n",
    "\n",
    "In this notebook, we saw:\n",
    "\n",
    "* how to identify whether a model is generalizing, overfitting, or\n",
    "  underfitting;\n",
    "* how to check influence of a hyperparameter on the tradeoff\n",
    "  underfit/overfit."
   ]
  }
 ],
 "metadata": {
  "jupytext": {
   "cell_metadata_filter": "-all",
   "main_language": "python",
   "notebook_metadata_filter": "-all"
  },
  "kernelspec": {
   "display_name": "env",
   "language": "python",
   "name": "env"
  },
  "language_info": {
   "codemirror_mode": {
    "name": "ipython",
    "version": 3
   },
   "file_extension": ".py",
   "mimetype": "text/x-python",
   "name": "python",
   "nbconvert_exporter": "python",
   "pygments_lexer": "ipython3",
   "version": "3.8.5"
  },
  "nbreset": "https://github.com/INRIA/scikit-learn-mooc/raw/master/notebooks/cross_validation_validation_curve.ipynb"
 },
 "nbformat": 4,
 "nbformat_minor": 5
}
