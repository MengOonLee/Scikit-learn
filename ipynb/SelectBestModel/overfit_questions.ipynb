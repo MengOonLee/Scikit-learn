{
 "cells": [
  {
   "cell_type": "code",
   "execution_count": null,
   "metadata": {},
   "outputs": [],
   "source": [
    "%%bash\n",
    "\n",
    "wget -qO \"../../datasets/blood_transfusion.csv\" \"https://github.com/INRIA/scikit-learn-mooc/raw/master/datasets/blood_transfusion.csv\""
   ]
  },
  {
   "cell_type": "code",
   "execution_count": 1,
   "metadata": {},
   "outputs": [],
   "source": [
    "import pandas as pd\n",
    "\n",
    "blood_transfusion = pd.read_csv(\"../../datasets/blood_transfusion.csv\")\n",
    "target_name = \"Class\"\n",
    "data = blood_transfusion.drop(columns=target_name)\n",
    "target = blood_transfusion[target_name]"
   ]
  },
  {
   "cell_type": "markdown",
   "metadata": {},
   "source": [
    "We can have a look to the target variable:"
   ]
  },
  {
   "cell_type": "code",
   "execution_count": 2,
   "metadata": {},
   "outputs": [
    {
     "data": {
      "text/plain": [
       "0        donated\n",
       "1        donated\n",
       "2        donated\n",
       "3        donated\n",
       "4    not donated\n",
       "Name: Class, dtype: object"
      ]
     },
     "execution_count": 2,
     "metadata": {},
     "output_type": "execute_result"
    }
   ],
   "source": [
    "target.head()"
   ]
  },
  {
   "cell_type": "markdown",
   "metadata": {},
   "source": [
    "Since the target has categorical values, it is a classification problem. We can check how many classes are present to know if we have a binary or a multiclass classification problem."
   ]
  },
  {
   "cell_type": "code",
   "execution_count": 3,
   "metadata": {},
   "outputs": [
    {
     "data": {
      "text/plain": [
       "array(['donated', 'not donated'], dtype=object)"
      ]
     },
     "execution_count": 3,
     "metadata": {},
     "output_type": "execute_result"
    }
   ],
   "source": [
    "target.unique()"
   ]
  },
  {
   "cell_type": "markdown",
   "metadata": {},
   "source": [
    "We see that the problem is a binary classification with 2 classes, namely `donated` and `not donated`. Now, we should check the number of samples in each of the class to know the ratio of the class counts."
   ]
  },
  {
   "cell_type": "code",
   "execution_count": 4,
   "metadata": {},
   "outputs": [
    {
     "data": {
      "text/plain": [
       "not donated    0.762032\n",
       "donated        0.237968\n",
       "Name: Class, dtype: float64"
      ]
     },
     "execution_count": 4,
     "metadata": {},
     "output_type": "execute_result"
    }
   ],
   "source": [
    "target.value_counts(normalize=True)"
   ]
  },
  {
   "cell_type": "markdown",
   "metadata": {},
   "source": [
    "~75% of the samples belong to the class `not donated` while only ~25% of the samples belong to the class `donated`."
   ]
  },
  {
   "cell_type": "markdown",
   "metadata": {},
   "source": [
    "The code below allows to compute the average of the accuracy scores obtained by performing a 10-fold cross-validation."
   ]
  },
  {
   "cell_type": "code",
   "execution_count": 9,
   "metadata": {},
   "outputs": [
    {
     "name": "stdout",
     "output_type": "stream",
     "text": [
      "The mean cross-validation accuracy is: 0.762 +/- 0.004\n",
      "CPU times: user 19.9 ms, sys: 74 µs, total: 20 ms\n",
      "Wall time: 19.4 ms\n"
     ]
    }
   ],
   "source": [
    "%%time\n",
    "from sklearn.dummy import DummyClassifier\n",
    "from sklearn.model_selection import cross_val_score\n",
    "\n",
    "dummy = DummyClassifier(strategy='most_frequent')\n",
    "scores = cross_val_score(dummy, data, target, cv=10)\n",
    "print(\"The mean cross-validation accuracy is: \"\n",
    "    f\"{scores.mean():.3f} +/- {scores.std():.3f}\")"
   ]
  },
  {
   "cell_type": "markdown",
   "metadata": {},
   "source": [
    "This is not a surprise to get a score a high as ~75%. This is due to the class imbalanced nature of the dataset: always predicting `not donated` class will be correrct ~75% of the time since this the natural proportion of samples belonging to this class in the data."
   ]
  },
  {
   "cell_type": "markdown",
   "metadata": {},
   "source": [
    "The code to compute the balanced accuracy instead of the accuracy is the following:"
   ]
  },
  {
   "cell_type": "code",
   "execution_count": 10,
   "metadata": {},
   "outputs": [
    {
     "name": "stdout",
     "output_type": "stream",
     "text": [
      "The mean cross-validation accuracy is: 0.500 +/- 0.000\n",
      "CPU times: user 16.6 ms, sys: 7.79 ms, total: 24.4 ms\n",
      "Wall time: 22.1 ms\n"
     ]
    }
   ],
   "source": [
    "%%time\n",
    "dummy = DummyClassifier(strategy='most_frequent')\n",
    "scores = cross_val_score(dummy, data, target, cv=10, \n",
    "    scoring='balanced_accuracy')\n",
    "print(\"The mean cross-validation accuracy is: \"\n",
    "    f\"{scores.mean():.3f} +/- {scores.std():.3f}\")"
   ]
  },
  {
   "cell_type": "markdown",
   "metadata": {},
   "source": [
    "In this case, the score is corrected such that such a dummy approach will give a score of 50%. You can learn more about how balanced_accuracy is computed in the [`scikit-learn documentation`](https://scikit-learn.org/stable/modules/generated/sklearn.metrics.balanced_accuracy_score.html). `balanced_accuracy` therefore makes it easier to distingush good from bad classifier on imbalanced classification problems."
   ]
  },
  {
   "cell_type": "markdown",
   "metadata": {},
   "source": [
    "Why is it relevant to add a preprocessing step to scale the data using a `StandardScaler` when working with a `KNeighborsClassifier`?\n",
    "\n",
    "`k-nearest neighbors` is based on computing some distances. Features need to be normalized to contribute approximately equally to the distance computation.\n",
    "\n",
    "Computing distances on scaled or un-scaled data takes similar time but the resulting distance values could be very different and therefore ordering of which sample is closet neighbor to which sample also. For instance: if you have two variables A and B where A has values which vary between 0 and 1000000 (e.g. the price of a house in euros) and B is a variable that varies between 0 and 30 (e.g. the average outside air temperature in Celsius degrees), then computing distances between rows of such a database will be mostly impacted by the difference in values of the A column and the values of B column will be comparatively ignored. If one applies `StandardScaler` to such a database, both the values of A and B will be approximately between -3 and 3 and the neighbor structure will be impacted by both variables."
   ]
  },
  {
   "cell_type": "markdown",
   "metadata": {},
   "source": [
    "The code below allow to list all parameters that can be set in our scikit-learn pipeline."
   ]
  },
  {
   "cell_type": "code",
   "execution_count": 7,
   "metadata": {},
   "outputs": [
    {
     "data": {
      "text/plain": [
       "{'memory': None,\n",
       " 'steps': [('standardscaler', StandardScaler()),\n",
       "  ('kneighborsclassifier', KNeighborsClassifier())],\n",
       " 'verbose': False,\n",
       " 'standardscaler': StandardScaler(),\n",
       " 'kneighborsclassifier': KNeighborsClassifier(),\n",
       " 'standardscaler__copy': True,\n",
       " 'standardscaler__with_mean': True,\n",
       " 'standardscaler__with_std': True,\n",
       " 'kneighborsclassifier__algorithm': 'auto',\n",
       " 'kneighborsclassifier__leaf_size': 30,\n",
       " 'kneighborsclassifier__metric': 'minkowski',\n",
       " 'kneighborsclassifier__metric_params': None,\n",
       " 'kneighborsclassifier__n_jobs': None,\n",
       " 'kneighborsclassifier__n_neighbors': 5,\n",
       " 'kneighborsclassifier__p': 2,\n",
       " 'kneighborsclassifier__weights': 'uniform'}"
      ]
     },
     "execution_count": 7,
     "metadata": {},
     "output_type": "execute_result"
    }
   ],
   "source": [
    "from sklearn.pipeline import make_pipeline\n",
    "from sklearn.preprocessing import StandardScaler\n",
    "from sklearn.neighbors import KNeighborsClassifier\n",
    "\n",
    "model = make_pipeline(StandardScaler(), KNeighborsClassifier())\n",
    "model.get_params()"
   ]
  },
  {
   "cell_type": "markdown",
   "metadata": {},
   "source": [
    "In this case, the number of neighbors K is 5. This means that when the model has to predict the class of a given test sample, it will compute the distances between that test sample and all the samples of the training set, order them by ascending distances and return the class of the majority of the 5 closest neighbors."
   ]
  },
  {
   "cell_type": "markdown",
   "metadata": {},
   "source": [
    "Compute the average test score and the average train score and compare them. Make sure to pass `return_train_score=True` to the `cross_validate` function to also compute the train score."
   ]
  },
  {
   "cell_type": "code",
   "execution_count": 11,
   "metadata": {},
   "outputs": [
    {
     "name": "stdout",
     "output_type": "stream",
     "text": [
      "   fit_time  score_time  test_score  train_score\n",
      "0  0.005026    0.006075    0.373333     0.842496\n",
      "1  0.003603    0.003755    0.400000     0.815750\n",
      "2  0.003601    0.003574    0.560000     0.805349\n",
      "3  0.003515    0.003670    0.706667     0.827637\n",
      "4  0.003519    0.003572    0.733333     0.820208\n",
      "5  0.003409    0.003616    0.760000     0.827637\n",
      "6  0.003413    0.003620    0.680000     0.821694\n",
      "7  0.003374    0.003595    0.786667     0.812779\n",
      "8  0.003448    0.003633    0.743243     0.821958\n",
      "9  0.003340    0.003589    0.783784     0.817507\n",
      "CPU times: user 284 ms, sys: 489 µs, total: 284 ms\n",
      "Wall time: 282 ms\n"
     ]
    },
    {
     "data": {
      "text/plain": [
       "train_score    0.821302\n",
       "test_score     0.652703\n",
       "dtype: float64"
      ]
     },
     "execution_count": 11,
     "metadata": {},
     "output_type": "execute_result"
    }
   ],
   "source": [
    "%%time\n",
    "from sklearn.model_selection import cross_validate\n",
    "\n",
    "cv_results = cross_validate(model, data, target, cv=10, \n",
    "    return_train_score=True)\n",
    "cv_results = pd.DataFrame(cv_results)\n",
    "print(cv_results)\n",
    "cv_results[['train_score', 'test_score']].mean()"
   ]
  },
  {
   "cell_type": "markdown",
   "metadata": {},
   "source": [
    "We see that the gap between train and test scores is large. In addition, the average score of on the training sets is good while the average score on the testing sets is really bad. They are the signs of a overfitting model."
   ]
  },
  {
   "cell_type": "code",
   "execution_count": 15,
   "metadata": {},
   "outputs": [
    {
     "data": {
      "image/png": "[encoded data removed]",
      "text/plain": [
       "<Figure size 432x288 with 1 Axes>"
      ]
     },
     "metadata": {
      "needs_background": "light"
     },
     "output_type": "display_data"
    },
    {
     "name": "stdout",
     "output_type": "stream",
     "text": [
      "CPU times: user 348 ms, sys: 11.3 ms, total: 360 ms\n",
      "Wall time: 1.21 s\n"
     ]
    }
   ],
   "source": [
    "%%time\n",
    "from sklearn.model_selection import validation_curve\n",
    "import matplotlib.pyplot as plt\n",
    "\n",
    "param_range = [1, 2, 5, 10, 20, 50, 100, 200, 500]\n",
    "param_name = \"kneighborsclassifier__n_neighbors\"\n",
    "train_scores, test_scores = validation_curve(model, data, target, \n",
    "    param_name=param_name, param_range=param_range,\n",
    "    cv=5, scoring='balanced_accuracy', n_jobs=2)\n",
    "\n",
    "_, ax = plt.subplots()\n",
    "for name, scores in zip(\n",
    "    [\"Training score\", \"Testing score\"], [train_scores, test_scores]):\n",
    "    ax.plot(param_range, scores.mean(axis=1), linestyle=\"-\", \n",
    "        label=name, alpha=0.8)\n",
    "    ax.fill_between(param_range, scores.mean(axis=1) - scores.std(axis=1),\n",
    "        scores.mean(axis=1) + scores.std(axis=1), alpha=0.5, \n",
    "        label=f\"std.dev.{name.lower()}\")\n",
    "    \n",
    "ax.set_xticks(param_range)\n",
    "ax.set_xscale(\"log\")\n",
    "ax.set_xlabel(\"Value of hyperparameter n_neighbors\")\n",
    "ax.set_ylabel(\"Balanced accuracy score\")\n",
    "ax.set_title(\"Validation curve of K-Nearest Neighbors\")\n",
    "plt.show()"
   ]
  },
  {
   "cell_type": "markdown",
   "metadata": {},
   "source": [
    "Underfitting happens when the gap between train and test scores is low and that both scores are low. When `n_neighbors` is high, underfitting occurs. The model lacks expressivity because it always considers the majority class of a large number of data points. Its prediction tends to be always the same, irrespective of the test point of interest."
   ]
  },
  {
   "cell_type": "markdown",
   "metadata": {},
   "source": [
    "Overfitting happens when the gap between train and test scores is high and that the test score is low. When `n_neighbors` is low, the model looks at small number of data points around the test points of interest. In this case the model is too flexible: it is sensible to noise rather than the underlying structure of the data."
   ]
  },
  {
   "cell_type": "markdown",
   "metadata": {},
   "source": [
    "Generalization happens when the gap between train and test scores is relatively low and that the test scores is maximum. In our case, the range between 20 to 50 neighbors seems the best. Indeed, for 20 neighbors, the gap between train and test scores is larger than with 50 neighbors; however the test score is better with 20 neighbors.\n",
    "\n",
    "Considering an intermediate value for `n_neighbors` makes it possible to limit overfitting by averaging out the influence of a few noisy samples. On the other hand, the model can also avoid underfitting by focusing its decision on the details of a region of interest close to the test sample. The optimum value for `n_neighbors` is typically very dataset dependent and can be influenced by the choice of the distance metric, the scaling of the features, the presence of noisy sample, the balance between classes.\n",
    "\n",
    "Finally note while k-nearest neighbors is useful baseline, it can be to slow to predict on large datasets with many samples and features and practitioners would instead favor other models such as gradient boosted trees for instance. On the particular dataset used for this quiz, the best accuracy achieved by the nearest neighbors model does not seem to be high enough to make it useful."
   ]
  }
 ],
 "metadata": {
  "kernelspec": {
   "display_name": "Python 3",
   "language": "python",
   "name": "python3"
  },
  "language_info": {
   "codemirror_mode": {
    "name": "ipython",
    "version": 3
   },
   "file_extension": ".py",
   "mimetype": "text/x-python",
   "name": "python",
   "nbconvert_exporter": "python",
   "pygments_lexer": "ipython3",
   "version": "3.8.10"
  }
 },
 "nbformat": 4,
 "nbformat_minor": 4
}
