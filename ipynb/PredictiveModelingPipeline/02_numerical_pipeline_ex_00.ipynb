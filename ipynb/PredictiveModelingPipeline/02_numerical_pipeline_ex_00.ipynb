{
 "cells": [
  {
   "cell_type": "markdown",
   "id": "bc4130e9",
   "metadata": {},
   "source": [
    "# 📝 Exercise M1.02\n",
    "\n",
    "The goal of this exercise is to fit a similar model as in the previous\n",
    "notebook to get familiar with manipulating scikit-learn objects and in\n",
    "particular the `.fit/.predict/.score` API."
   ]
  },
  {
   "cell_type": "markdown",
   "id": "5900f7af",
   "metadata": {},
   "source": [
    "Let's load the adult census dataset with only numerical variables"
   ]
  },
  {
   "cell_type": "code",
   "execution_count": 1,
   "id": "9cf277c4",
   "metadata": {},
   "outputs": [],
   "source": [
    "import pandas as pd\n",
    "adult_census = pd.read_csv(\"../../datasets/adult-census-numeric.csv\")\n",
    "data = adult_census.drop(columns=\"class\")\n",
    "target = adult_census[\"class\"]"
   ]
  },
  {
   "cell_type": "markdown",
   "id": "e32e2071",
   "metadata": {},
   "source": [
    "In the previous notebook we used `model = KNeighborsClassifier()`. All\n",
    "scikit-learn models can be created without arguments, which means that you\n",
    "don't need to understand the details of the model to use it in scikit-learn.\n",
    "\n",
    "One of the `KNeighborsClassifier` parameters is `n_neighbors`. It controls\n",
    "the number of neighbors we are going to use to make a prediction for a new\n",
    "data point.\n",
    "\n",
    "What is the default value of the `n_neighbors` parameter? Hint: Look at the\n",
    "help inside your notebook `KNeighborsClassifier?` or on the [scikit-learn\n",
    "website](https://scikit-learn.org/stable/modules/generated/sklearn.neighbors.KNeighborsClassifier.html)\n",
    "\n",
    "The default value for `n_neighbors` is 5"
   ]
  },
  {
   "cell_type": "markdown",
   "id": "b3c34a11",
   "metadata": {},
   "source": [
    "Create a `KNeighborsClassifier` model with `n_neighbors=50`"
   ]
  },
  {
   "cell_type": "code",
   "execution_count": 3,
   "id": "500248f8",
   "metadata": {},
   "outputs": [],
   "source": [
    "from sklearn.neighbors import KNeighborsClassifier\n",
    "\n",
    "model = KNeighborsClassifier(n_neighbors=50)"
   ]
  },
  {
   "cell_type": "markdown",
   "id": "81c7ac49",
   "metadata": {},
   "source": [
    "Fit this model on the data and target loaded above"
   ]
  },
  {
   "cell_type": "code",
   "execution_count": 4,
   "id": "cb7a59f9",
   "metadata": {},
   "outputs": [
    {
     "data": {
      "text/plain": [
       "KNeighborsClassifier(n_neighbors=50)"
      ]
     },
     "execution_count": 4,
     "metadata": {},
     "output_type": "execute_result"
    }
   ],
   "source": [
    "model.fit(data, target)"
   ]
  },
  {
   "cell_type": "markdown",
   "id": "301242c0",
   "metadata": {},
   "source": [
    "Use your model to make predictions on the first 10 data points inside the\n",
    "data. Do they match the actual target values?"
   ]
  },
  {
   "cell_type": "code",
   "execution_count": 5,
   "id": "e85e4cca",
   "metadata": {},
   "outputs": [
    {
     "data": {
      "text/plain": [
       "array([' <=50K', ' <=50K', ' <=50K', ' <=50K', ' <=50K', ' <=50K',\n",
       "       ' <=50K', ' >50K', ' <=50K', ' <=50K'], dtype=object)"
      ]
     },
     "execution_count": 5,
     "metadata": {},
     "output_type": "execute_result"
    }
   ],
   "source": [
    "first_data_values = data.iloc[:10]\n",
    "first_predictions = model.predict(first_data_values)\n",
    "first_predictions"
   ]
  },
  {
   "cell_type": "code",
   "execution_count": 6,
   "id": "934315dc",
   "metadata": {},
   "outputs": [
    {
     "data": {
      "text/plain": [
       "0     <=50K\n",
       "1     <=50K\n",
       "2     <=50K\n",
       "3     <=50K\n",
       "4     <=50K\n",
       "5     <=50K\n",
       "6     <=50K\n",
       "7      >50K\n",
       "8     <=50K\n",
       "9      >50K\n",
       "Name: class, dtype: object"
      ]
     },
     "execution_count": 6,
     "metadata": {},
     "output_type": "execute_result"
    }
   ],
   "source": [
    "first_target_values = target.iloc[:10]\n",
    "first_target_values"
   ]
  },
  {
   "cell_type": "code",
   "execution_count": 7,
   "id": "3446286b",
   "metadata": {},
   "outputs": [
    {
     "name": "stdout",
     "output_type": "stream",
     "text": [
      "9/10 of predictions are correct\n"
     ]
    }
   ],
   "source": [
    "number_of_correct_predictions = (\n",
    "    first_predictions == first_target_values).sum()\n",
    "number_of_predictions = len(first_predictions)\n",
    "print(f\"{number_of_correct_predictions}/{number_of_predictions} \"\n",
    "    \"of predictions are correct\")"
   ]
  },
  {
   "cell_type": "markdown",
   "id": "43600cc2",
   "metadata": {},
   "source": [
    "Compute the accuracy on the training data."
   ]
  },
  {
   "cell_type": "code",
   "execution_count": 8,
   "id": "9f5f383e",
   "metadata": {},
   "outputs": [
    {
     "data": {
      "text/plain": [
       "0.8289867683566657"
      ]
     },
     "execution_count": 8,
     "metadata": {},
     "output_type": "execute_result"
    }
   ],
   "source": [
    "model.score(data, target)"
   ]
  },
  {
   "cell_type": "markdown",
   "id": "c7ee35ce",
   "metadata": {},
   "source": [
    "Now load the test data from `\"../datasets/adult-census-numeric-test.csv\"` and\n",
    "compute the accuracy on the test data."
   ]
  },
  {
   "cell_type": "code",
   "execution_count": 9,
   "id": "3e4d14ee",
   "metadata": {},
   "outputs": [
    {
     "data": {
      "text/plain": [
       "0.8182004299314157"
      ]
     },
     "execution_count": 9,
     "metadata": {},
     "output_type": "execute_result"
    }
   ],
   "source": [
    "adult_census_test = pd.read_csv(\"../datasets/adult-census-numeric-test.csv\")\n",
    "\n",
    "data_test = adult_census_test.drop(columns=\"class\")\n",
    "target_test = adult_census_test[\"class\"]\n",
    "\n",
    "model.score(data_test, target_test)"
   ]
  },
  {
   "cell_type": "markdown",
   "id": "a0c377a6",
   "metadata": {},
   "source": [
    "Looking at the previous notebook, the accuracy seems slightly higher with `n_neighbors=50` than with `n_neighbors=5` (the default values)."
   ]
  }
 ],
 "metadata": {
  "kernelspec": {
   "display_name": "env",
   "language": "python",
   "name": "env"
  },
  "language_info": {
   "codemirror_mode": {
    "name": "ipython",
    "version": 3
   },
   "file_extension": ".py",
   "mimetype": "text/x-python",
   "name": "python",
   "nbconvert_exporter": "python",
   "pygments_lexer": "ipython3",
   "version": "3.8.5"
  },
  "nbreset": "https://github.com/INRIA/scikit-learn-mooc/raw/master/notebooks/02_numerical_pipeline_ex_00.ipynb"
 },
 "nbformat": 4,
 "nbformat_minor": 5
}
