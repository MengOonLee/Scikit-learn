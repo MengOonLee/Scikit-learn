{
 "cells": [
  {
   "cell_type": "code",
   "execution_count": 1,
   "metadata": {},
   "outputs": [],
   "source": [
    "import os\n",
    "\n",
    "os.makedirs(\"../../datasets\", exist_ok=True)"
   ]
  },
  {
   "cell_type": "code",
   "execution_count": 2,
   "metadata": {},
   "outputs": [],
   "source": [
    "%%bash\n",
    "\n",
    "wget -qO \"../../datasets/penguins.csv\" \"https://github.com/INRIA/scikit-learn-mooc/raw/master/datasets/penguins.csv\""
   ]
  },
  {
   "cell_type": "markdown",
   "metadata": {},
   "source": [
    "Load the dataset file named `penguins.csv` with the following command:"
   ]
  },
  {
   "cell_type": "code",
   "execution_count": 3,
   "metadata": {},
   "outputs": [],
   "source": [
    "import pandas as pd\n",
    "\n",
    "penguins = pd.read_csv(\"../../datasets/penguins.csv\")\n",
    "\n",
    "columns = ['Body Mass (g)', 'Flipper Length (mm)', 'Culmen Length (mm)']\n",
    "target_name = 'Species'\n",
    "\n",
    "# Remove lines with missing values for the columns of interests\n",
    "penguins_non_missing = penguins[columns + [target_name]].dropna()\n",
    "\n",
    "data = penguins_non_missing[columns]\n",
    "target = penguins_non_missing[target_name]"
   ]
  },
  {
   "cell_type": "markdown",
   "metadata": {},
   "source": [
    "`penguins` is a pandas dataframe. The column \"Species\" contains the target variable. We extract through numerical columns that quantify various attributes of animals and our goal is try to predict the species fo the animal based on those attributes stored in the dataframe named `data`."
   ]
  },
  {
   "cell_type": "markdown",
   "metadata": {},
   "source": [
    "We can have a look to the target variable:"
   ]
  },
  {
   "cell_type": "code",
   "execution_count": 4,
   "metadata": {},
   "outputs": [
    {
     "data": {
      "text/plain": [
       "Adelie Penguin (Pygoscelis adeliae)          0.441520\n",
       "Gentoo penguin (Pygoscelis papua)            0.359649\n",
       "Chinstrap penguin (Pygoscelis antarctica)    0.198830\n",
       "Name: Species, dtype: float64"
      ]
     },
     "execution_count": 4,
     "metadata": {},
     "output_type": "execute_result"
    }
   ],
   "source": [
    "target.value_counts(normalize=True)"
   ]
  },
  {
   "cell_type": "markdown",
   "metadata": {},
   "source": [
    "We observe that there are 3 classes and that there are more than twice as many Adelie Penguins as there are Chinstrap penguins in this dataset.\n",
    "\n",
    "We can have a look at the scale of the input features with:"
   ]
  },
  {
   "cell_type": "code",
   "execution_count": 5,
   "metadata": {},
   "outputs": [
    {
     "data": {
      "text/html": [
       "<div>\n",
       "<style scoped>\n",
       "    .dataframe tbody tr th:only-of-type {\n",
       "        vertical-align: middle;\n",
       "    }\n",
       "\n",
       "    .dataframe tbody tr th {\n",
       "        vertical-align: top;\n",
       "    }\n",
       "\n",
       "    .dataframe thead th {\n",
       "        text-align: right;\n",
       "    }\n",
       "</style>\n",
       "<table border=\"1\" class=\"dataframe\">\n",
       "  <thead>\n",
       "    <tr style=\"text-align: right;\">\n",
       "      <th></th>\n",
       "      <th>Body Mass (g)</th>\n",
       "      <th>Flipper Length (mm)</th>\n",
       "      <th>Culmen Length (mm)</th>\n",
       "    </tr>\n",
       "  </thead>\n",
       "  <tbody>\n",
       "    <tr>\n",
       "      <th>count</th>\n",
       "      <td>342.000000</td>\n",
       "      <td>342.000000</td>\n",
       "      <td>342.000000</td>\n",
       "    </tr>\n",
       "    <tr>\n",
       "      <th>mean</th>\n",
       "      <td>4201.754386</td>\n",
       "      <td>200.915205</td>\n",
       "      <td>43.921930</td>\n",
       "    </tr>\n",
       "    <tr>\n",
       "      <th>std</th>\n",
       "      <td>801.954536</td>\n",
       "      <td>14.061714</td>\n",
       "      <td>5.459584</td>\n",
       "    </tr>\n",
       "    <tr>\n",
       "      <th>min</th>\n",
       "      <td>2700.000000</td>\n",
       "      <td>172.000000</td>\n",
       "      <td>32.100000</td>\n",
       "    </tr>\n",
       "    <tr>\n",
       "      <th>25%</th>\n",
       "      <td>3550.000000</td>\n",
       "      <td>190.000000</td>\n",
       "      <td>39.225000</td>\n",
       "    </tr>\n",
       "    <tr>\n",
       "      <th>50%</th>\n",
       "      <td>4050.000000</td>\n",
       "      <td>197.000000</td>\n",
       "      <td>44.450000</td>\n",
       "    </tr>\n",
       "    <tr>\n",
       "      <th>75%</th>\n",
       "      <td>4750.000000</td>\n",
       "      <td>213.000000</td>\n",
       "      <td>48.500000</td>\n",
       "    </tr>\n",
       "    <tr>\n",
       "      <th>max</th>\n",
       "      <td>6300.000000</td>\n",
       "      <td>231.000000</td>\n",
       "      <td>59.600000</td>\n",
       "    </tr>\n",
       "  </tbody>\n",
       "</table>\n",
       "</div>"
      ],
      "text/plain": [
       "       Body Mass (g)  Flipper Length (mm)  Culmen Length (mm)\n",
       "count     342.000000           342.000000          342.000000\n",
       "mean     4201.754386           200.915205           43.921930\n",
       "std       801.954536            14.061714            5.459584\n",
       "min      2700.000000           172.000000           32.100000\n",
       "25%      3550.000000           190.000000           39.225000\n",
       "50%      4050.000000           197.000000           44.450000\n",
       "75%      4750.000000           213.000000           48.500000\n",
       "max      6300.000000           231.000000           59.600000"
      ]
     },
     "execution_count": 5,
     "metadata": {},
     "output_type": "execute_result"
    }
   ],
   "source": [
    "data.describe()"
   ]
  },
  {
   "cell_type": "markdown",
   "metadata": {},
   "source": [
    "We observe that the body mass varies between 2700 g and 6300 g with a standard deviation of 801 g while the length of the culmen varies between 32.1 mm and 59.6 mm with a standard deviation of 5.4 mm. Therefore, if we use the default units, the features do not have the same dynamic range at all."
   ]
  },
  {
   "cell_type": "markdown",
   "metadata": {},
   "source": [
    "We can display an interactive diagram with the following command:"
   ]
  },
  {
   "cell_type": "code",
   "execution_count": 6,
   "metadata": {},
   "outputs": [],
   "source": [
    "from sklearn import set_config\n",
    "\n",
    "set_config(display='diagram')"
   ]
  },
  {
   "cell_type": "code",
   "execution_count": 7,
   "metadata": {},
   "outputs": [
    {
     "data": {
      "text/html": [
       "<style>#sk-85ea350d-5932-4aa7-ad84-573ebfeea9a7 {color: black;background-color: white;}#sk-85ea350d-5932-4aa7-ad84-573ebfeea9a7 pre{padding: 0;}#sk-85ea350d-5932-4aa7-ad84-573ebfeea9a7 div.sk-toggleable {background-color: white;}#sk-85ea350d-5932-4aa7-ad84-573ebfeea9a7 label.sk-toggleable__label {cursor: pointer;display: block;width: 100%;margin-bottom: 0;padding: 0.2em 0.3em;box-sizing: border-box;text-align: center;}#sk-85ea350d-5932-4aa7-ad84-573ebfeea9a7 div.sk-toggleable__content {max-height: 0;max-width: 0;overflow: hidden;text-align: left;background-color: #f0f8ff;}#sk-85ea350d-5932-4aa7-ad84-573ebfeea9a7 div.sk-toggleable__content pre {margin: 0.2em;color: black;border-radius: 0.25em;background-color: #f0f8ff;}#sk-85ea350d-5932-4aa7-ad84-573ebfeea9a7 input.sk-toggleable__control:checked~div.sk-toggleable__content {max-height: 200px;max-width: 100%;overflow: auto;}#sk-85ea350d-5932-4aa7-ad84-573ebfeea9a7 div.sk-estimator input.sk-toggleable__control:checked~label.sk-toggleable__label {background-color: #d4ebff;}#sk-85ea350d-5932-4aa7-ad84-573ebfeea9a7 div.sk-label input.sk-toggleable__control:checked~label.sk-toggleable__label {background-color: #d4ebff;}#sk-85ea350d-5932-4aa7-ad84-573ebfeea9a7 input.sk-hidden--visually {border: 0;clip: rect(1px 1px 1px 1px);clip: rect(1px, 1px, 1px, 1px);height: 1px;margin: -1px;overflow: hidden;padding: 0;position: absolute;width: 1px;}#sk-85ea350d-5932-4aa7-ad84-573ebfeea9a7 div.sk-estimator {font-family: monospace;background-color: #f0f8ff;margin: 0.25em 0.25em;border: 1px dotted black;border-radius: 0.25em;box-sizing: border-box;}#sk-85ea350d-5932-4aa7-ad84-573ebfeea9a7 div.sk-estimator:hover {background-color: #d4ebff;}#sk-85ea350d-5932-4aa7-ad84-573ebfeea9a7 div.sk-parallel-item::after {content: \"\";width: 100%;border-bottom: 1px solid gray;flex-grow: 1;}#sk-85ea350d-5932-4aa7-ad84-573ebfeea9a7 div.sk-label:hover label.sk-toggleable__label {background-color: #d4ebff;}#sk-85ea350d-5932-4aa7-ad84-573ebfeea9a7 div.sk-serial::before {content: \"\";position: absolute;border-left: 1px solid gray;box-sizing: border-box;top: 2em;bottom: 0;left: 50%;}#sk-85ea350d-5932-4aa7-ad84-573ebfeea9a7 div.sk-serial {display: flex;flex-direction: column;align-items: center;background-color: white;}#sk-85ea350d-5932-4aa7-ad84-573ebfeea9a7 div.sk-item {z-index: 1;}#sk-85ea350d-5932-4aa7-ad84-573ebfeea9a7 div.sk-parallel {display: flex;align-items: stretch;justify-content: center;background-color: white;}#sk-85ea350d-5932-4aa7-ad84-573ebfeea9a7 div.sk-parallel-item {display: flex;flex-direction: column;position: relative;background-color: white;}#sk-85ea350d-5932-4aa7-ad84-573ebfeea9a7 div.sk-parallel-item:first-child::after {align-self: flex-end;width: 50%;}#sk-85ea350d-5932-4aa7-ad84-573ebfeea9a7 div.sk-parallel-item:last-child::after {align-self: flex-start;width: 50%;}#sk-85ea350d-5932-4aa7-ad84-573ebfeea9a7 div.sk-parallel-item:only-child::after {width: 0;}#sk-85ea350d-5932-4aa7-ad84-573ebfeea9a7 div.sk-dashed-wrapped {border: 1px dashed gray;margin: 0.2em;box-sizing: border-box;padding-bottom: 0.1em;background-color: white;position: relative;}#sk-85ea350d-5932-4aa7-ad84-573ebfeea9a7 div.sk-label label {font-family: monospace;font-weight: bold;background-color: white;display: inline-block;line-height: 1.2em;}#sk-85ea350d-5932-4aa7-ad84-573ebfeea9a7 div.sk-label-container {position: relative;z-index: 2;text-align: center;}#sk-85ea350d-5932-4aa7-ad84-573ebfeea9a7 div.sk-container {display: inline-block;position: relative;}</style><div id=\"sk-85ea350d-5932-4aa7-ad84-573ebfeea9a7\" class\"sk-top-container\"><div class=\"sk-container\"><div class=\"sk-item sk-dashed-wrapped\"><div class=\"sk-label-container\"><div class=\"sk-label sk-toggleable\"><input class=\"sk-toggleable__control sk-hidden--visually\" id=\"c2cc9030-da0f-4dd7-987a-b7b5bc1a68ad\" type=\"checkbox\" ><label class=\"sk-toggleable__label\" for=\"c2cc9030-da0f-4dd7-987a-b7b5bc1a68ad\">Pipeline</label><div class=\"sk-toggleable__content\"><pre>Pipeline(steps=[('preprocessor', StandardScaler()),\n",
       "                ('classifier', KNeighborsClassifier())])</pre></div></div></div><div class=\"sk-serial\"><div class=\"sk-item\"><div class=\"sk-estimator sk-toggleable\"><input class=\"sk-toggleable__control sk-hidden--visually\" id=\"c7f9242a-2984-44e9-897e-f1d9e1d7af38\" type=\"checkbox\" ><label class=\"sk-toggleable__label\" for=\"c7f9242a-2984-44e9-897e-f1d9e1d7af38\">StandardScaler</label><div class=\"sk-toggleable__content\"><pre>StandardScaler()</pre></div></div></div><div class=\"sk-item\"><div class=\"sk-estimator sk-toggleable\"><input class=\"sk-toggleable__control sk-hidden--visually\" id=\"8cbf9e25-fbc4-46a9-b74d-448a65cb8fc8\" type=\"checkbox\" ><label class=\"sk-toggleable__label\" for=\"8cbf9e25-fbc4-46a9-b74d-448a65cb8fc8\">KNeighborsClassifier</label><div class=\"sk-toggleable__content\"><pre>KNeighborsClassifier()</pre></div></div></div></div></div></div></div>"
      ],
      "text/plain": [
       "Pipeline(steps=[('preprocessor', StandardScaler()),\n",
       "                ('classifier', KNeighborsClassifier())])"
      ]
     },
     "execution_count": 7,
     "metadata": {},
     "output_type": "execute_result"
    }
   ],
   "source": [
    "from sklearn.neighbors import KNeighborsClassifier\n",
    "from sklearn.preprocessing import StandardScaler\n",
    "from sklearn.pipeline import Pipeline\n",
    "model = Pipeline(steps=[\n",
    "    (\"preprocessor\", StandardScaler()),\n",
    "    (\"classifier\", KNeighborsClassifier(n_neighbors=5))\n",
    "])\n",
    "model"
   ]
  },
  {
   "cell_type": "markdown",
   "metadata": {},
   "source": [
    "Evaluate the pipeline using 10-fold cross-validation using the `balanced-accuracy` scoring metric. Use `sklearn.model_selection.cross_validate` with `scoring='balanced_accuracy'`."
   ]
  },
  {
   "cell_type": "markdown",
   "metadata": {},
   "source": [
    "The cross-validated scores can be computed with:"
   ]
  },
  {
   "cell_type": "code",
   "execution_count": 8,
   "metadata": {},
   "outputs": [
    {
     "name": "stdout",
     "output_type": "stream",
     "text": [
      "The average cross-validation scores:\n",
      "0.952 +/- 0.040\n",
      "CPU times: user 79 ms, sys: 0 ns, total: 79 ms\n",
      "Wall time: 77.3 ms\n"
     ]
    }
   ],
   "source": [
    "%%time\n",
    "from sklearn.model_selection import cross_validate\n",
    "\n",
    "cv_results = cross_validate(model, data, target, cv=10,\n",
    "    scoring='balanced_accuracy')\n",
    "scores = cv_results[\"test_score\"]\n",
    "print(f\"The average cross-validation scores:\\n\"\n",
    "    f\"{scores.mean():.3f} +/- {scores.std():.3f}\")"
   ]
  },
  {
   "cell_type": "markdown",
   "metadata": {},
   "source": [
    "which gives values between 0.9 and 1.0 with average close to 0.95."
   ]
  },
  {
   "cell_type": "markdown",
   "metadata": {},
   "source": [
    "Use `model.get_params()` to list the parameters of the pipeline and use `model.set_params(param_name=param_value)` to update them."
   ]
  },
  {
   "cell_type": "code",
   "execution_count": 9,
   "metadata": {
    "tags": []
   },
   "outputs": [
    {
     "name": "stdout",
     "output_type": "stream",
     "text": [
      "memory\n",
      "steps\n",
      "verbose\n",
      "preprocessor\n",
      "classifier\n",
      "preprocessor__copy\n",
      "preprocessor__with_mean\n",
      "preprocessor__with_std\n",
      "classifier__algorithm\n",
      "classifier__leaf_size\n",
      "classifier__metric\n",
      "classifier__metric_params\n",
      "classifier__n_jobs\n",
      "classifier__n_neighbors\n",
      "classifier__p\n",
      "classifier__weights\n"
     ]
    }
   ],
   "source": [
    "for parameter in model.get_params():\n",
    "    print(parameter)"
   ]
  },
  {
   "cell_type": "markdown",
   "metadata": {},
   "source": [
    "It is possible to change the pipeline parameters and rerun a cross-validation with: "
   ]
  },
  {
   "cell_type": "code",
   "execution_count": 10,
   "metadata": {},
   "outputs": [
    {
     "name": "stdout",
     "output_type": "stream",
     "text": [
      "The average cross-validation scores with n_neighbors=5:\n",
      "0.952 +/- 0.040\n",
      "The average cross-validation scores with n_neighbors=51:\n",
      "0.942 +/- 0.039\n",
      "CPU times: user 152 ms, sys: 127 µs, total: 152 ms\n",
      "Wall time: 151 ms\n"
     ]
    }
   ],
   "source": [
    "%%time\n",
    "for k in [5, 51]:\n",
    "    model.set_params(classifier__n_neighbors=k)\n",
    "    cv_results = cross_validate(model, data, target, cv=10,\n",
    "        scoring='balanced_accuracy')\n",
    "    scores = cv_results[\"test_score\"]\n",
    "    print(f\"The average cross-validation scores with n_neighbors={k}:\\n\"\n",
    "        f\"{scores.mean():.3f} +/- {scores.std():.3f}\")"
   ]
  },
  {
   "cell_type": "markdown",
   "metadata": {},
   "source": [
    "which gives slightly worse test scores but the difference is not necessarily significant: they overlap a lot.\n",
    "\n",
    "We can disable the preprocessor by setting `preprocessor` parameter to `None` (while resetting the number of neighbors to 5) as follows:"
   ]
  },
  {
   "cell_type": "code",
   "execution_count": 11,
   "metadata": {},
   "outputs": [
    {
     "name": "stdout",
     "output_type": "stream",
     "text": [
      "The average cross-validation scores:\n",
      "0.740 +/- 0.087\n",
      "CPU times: user 64.4 ms, sys: 191 µs, total: 64.6 ms\n",
      "Wall time: 63.1 ms\n"
     ]
    }
   ],
   "source": [
    "%%time\n",
    "model.set_params(preprocessor=None, classifier__n_neighbors=5)\n",
    "cv_results = cross_validate(model, data, target, cv=10,\n",
    "    scoring='balanced_accuracy')\n",
    "scores = cv_results[\"test_score\"]\n",
    "print(f\"The average cross-validation scores:\\n\"\n",
    "    f\"{scores.mean():.3f} +/- {scores.std():.3f}\")"
   ]
  },
  {
   "cell_type": "markdown",
   "metadata": {},
   "source": [
    "We will now study the impact of different preprocessors defined in the list below:"
   ]
  },
  {
   "cell_type": "code",
   "execution_count": 12,
   "metadata": {},
   "outputs": [],
   "source": [
    "from sklearn.preprocessing import MinMaxScaler\n",
    "from sklearn.preprocessing import QuantileTransformer\n",
    "from sklearn.preprocessing import PowerTransformer\n",
    "\n",
    "all_preprocessors = [\n",
    "    None,\n",
    "    StandardScaler(),\n",
    "    MinMaxScaler(),\n",
    "    QuantileTransformer(n_quantiles=100),\n",
    "    PowerTransformer(method='box-cox')\n",
    "]"
   ]
  },
  {
   "cell_type": "markdown",
   "metadata": {},
   "source": [
    "The [Box-Cox method](https://en.wikipedia.org/wiki/Power_transform#Box%E2%80%93Cox_transformation) is common preprocessing strategy for positive values. The other preprocessors work both for any kind of numerical features. If you are curious to read the details about those method, please feel free to read them up in the [preprocessing chapter](https://scikit-learn.org/stable/modules/preprocessing.html) of the scikit-learn user guide.\n",
    "\n",
    "Use `sklearn.model_selection.GridSearchCV` to study the impact of the choice of the preprocessor and the number of neighbors on the 10-fold cross-validated `balanced_accuracy` metric. We want to study the `n_neighbors` in the range `[5, 51, 101]` and `preprocessor` in the range `all_preprocessors`.\n",
    "\n",
    "Let us consider that a model is significantly better than another if the mean test score is better than the mean test score of the alternative by more than the standard deviation of its test score."
   ]
  },
  {
   "cell_type": "code",
   "execution_count": 13,
   "metadata": {
    "tags": []
   },
   "outputs": [
    {
     "name": "stdout",
     "output_type": "stream",
     "text": [
      "CPU times: user 1.13 s, sys: 13.4 ms, total: 1.15 s\n",
      "Wall time: 1.14 s\n"
     ]
    }
   ],
   "source": [
    "%%time\n",
    "from sklearn.model_selection import GridSearchCV\n",
    "\n",
    "param_grid = {\n",
    "    'preprocessor': all_preprocessors,\n",
    "    'classifier__n_neighbors': [5, 51, 101]\n",
    "}\n",
    "grid_search = GridSearchCV(model, param_grid=param_grid, \n",
    "    scoring='balanced_accuracy', cv=10)\\\n",
    "    .fit(data, target)"
   ]
  },
  {
   "cell_type": "markdown",
   "metadata": {},
   "source": [
    "We can sort the results and focus on the columns of interest with:"
   ]
  },
  {
   "cell_type": "code",
   "execution_count": 14,
   "metadata": {},
   "outputs": [
    {
     "data": {
      "text/html": [
       "<div>\n",
       "<style scoped>\n",
       "    .dataframe tbody tr th:only-of-type {\n",
       "        vertical-align: middle;\n",
       "    }\n",
       "\n",
       "    .dataframe tbody tr th {\n",
       "        vertical-align: top;\n",
       "    }\n",
       "\n",
       "    .dataframe thead th {\n",
       "        text-align: right;\n",
       "    }\n",
       "</style>\n",
       "<table border=\"1\" class=\"dataframe\">\n",
       "  <thead>\n",
       "    <tr style=\"text-align: right;\">\n",
       "      <th></th>\n",
       "      <th>mean_fit_time</th>\n",
       "      <th>std_fit_time</th>\n",
       "      <th>mean_score_time</th>\n",
       "      <th>std_score_time</th>\n",
       "      <th>param_classifier__n_neighbors</th>\n",
       "      <th>param_preprocessor</th>\n",
       "      <th>params</th>\n",
       "      <th>split0_test_score</th>\n",
       "      <th>split1_test_score</th>\n",
       "      <th>split2_test_score</th>\n",
       "      <th>split3_test_score</th>\n",
       "      <th>split4_test_score</th>\n",
       "      <th>split5_test_score</th>\n",
       "      <th>split6_test_score</th>\n",
       "      <th>split7_test_score</th>\n",
       "      <th>split8_test_score</th>\n",
       "      <th>split9_test_score</th>\n",
       "      <th>mean_test_score</th>\n",
       "      <th>std_test_score</th>\n",
       "      <th>rank_test_score</th>\n",
       "    </tr>\n",
       "  </thead>\n",
       "  <tbody>\n",
       "    <tr>\n",
       "      <th>1</th>\n",
       "      <td>0.003320</td>\n",
       "      <td>0.000114</td>\n",
       "      <td>0.002996</td>\n",
       "      <td>0.000119</td>\n",
       "      <td>5</td>\n",
       "      <td>StandardScaler()</td>\n",
       "      <td>{'classifier__n_neighbors': 5, 'preprocessor':...</td>\n",
       "      <td>1.000000</td>\n",
       "      <td>1.000000</td>\n",
       "      <td>1.0</td>\n",
       "      <td>0.918803</td>\n",
       "      <td>0.882540</td>\n",
       "      <td>0.952381</td>\n",
       "      <td>0.977778</td>\n",
       "      <td>0.930159</td>\n",
       "      <td>0.907937</td>\n",
       "      <td>0.952381</td>\n",
       "      <td>0.952198</td>\n",
       "      <td>0.039902</td>\n",
       "      <td>1</td>\n",
       "    </tr>\n",
       "    <tr>\n",
       "      <th>2</th>\n",
       "      <td>0.003158</td>\n",
       "      <td>0.000184</td>\n",
       "      <td>0.002944</td>\n",
       "      <td>0.000022</td>\n",
       "      <td>5</td>\n",
       "      <td>MinMaxScaler()</td>\n",
       "      <td>{'classifier__n_neighbors': 5, 'preprocessor':...</td>\n",
       "      <td>1.000000</td>\n",
       "      <td>0.952381</td>\n",
       "      <td>1.0</td>\n",
       "      <td>0.944444</td>\n",
       "      <td>0.882540</td>\n",
       "      <td>0.930159</td>\n",
       "      <td>0.955556</td>\n",
       "      <td>0.952381</td>\n",
       "      <td>0.907937</td>\n",
       "      <td>0.952381</td>\n",
       "      <td>0.947778</td>\n",
       "      <td>0.034268</td>\n",
       "      <td>2</td>\n",
       "    </tr>\n",
       "    <tr>\n",
       "      <th>3</th>\n",
       "      <td>0.004007</td>\n",
       "      <td>0.000144</td>\n",
       "      <td>0.003268</td>\n",
       "      <td>0.000229</td>\n",
       "      <td>5</td>\n",
       "      <td>QuantileTransformer(n_quantiles=100)</td>\n",
       "      <td>{'classifier__n_neighbors': 5, 'preprocessor':...</td>\n",
       "      <td>0.952381</td>\n",
       "      <td>0.926740</td>\n",
       "      <td>1.0</td>\n",
       "      <td>0.918803</td>\n",
       "      <td>0.904762</td>\n",
       "      <td>1.000000</td>\n",
       "      <td>0.977778</td>\n",
       "      <td>0.930159</td>\n",
       "      <td>0.907937</td>\n",
       "      <td>0.952381</td>\n",
       "      <td>0.947094</td>\n",
       "      <td>0.033797</td>\n",
       "      <td>3</td>\n",
       "    </tr>\n",
       "    <tr>\n",
       "      <th>4</th>\n",
       "      <td>0.006139</td>\n",
       "      <td>0.000420</td>\n",
       "      <td>0.003093</td>\n",
       "      <td>0.000044</td>\n",
       "      <td>5</td>\n",
       "      <td>PowerTransformer(method='box-cox')</td>\n",
       "      <td>{'classifier__n_neighbors': 5, 'preprocessor':...</td>\n",
       "      <td>1.000000</td>\n",
       "      <td>0.977778</td>\n",
       "      <td>1.0</td>\n",
       "      <td>0.863248</td>\n",
       "      <td>0.882540</td>\n",
       "      <td>0.952381</td>\n",
       "      <td>0.955556</td>\n",
       "      <td>0.930159</td>\n",
       "      <td>0.907937</td>\n",
       "      <td>1.000000</td>\n",
       "      <td>0.946960</td>\n",
       "      <td>0.047387</td>\n",
       "      <td>4</td>\n",
       "    </tr>\n",
       "    <tr>\n",
       "      <th>6</th>\n",
       "      <td>0.003255</td>\n",
       "      <td>0.000085</td>\n",
       "      <td>0.003108</td>\n",
       "      <td>0.000049</td>\n",
       "      <td>51</td>\n",
       "      <td>StandardScaler()</td>\n",
       "      <td>{'classifier__n_neighbors': 51, 'preprocessor'...</td>\n",
       "      <td>0.952381</td>\n",
       "      <td>0.977778</td>\n",
       "      <td>1.0</td>\n",
       "      <td>0.863248</td>\n",
       "      <td>0.882540</td>\n",
       "      <td>0.952381</td>\n",
       "      <td>0.955556</td>\n",
       "      <td>0.952381</td>\n",
       "      <td>0.930159</td>\n",
       "      <td>0.952381</td>\n",
       "      <td>0.941880</td>\n",
       "      <td>0.038905</td>\n",
       "      <td>5</td>\n",
       "    </tr>\n",
       "  </tbody>\n",
       "</table>\n",
       "</div>"
      ],
      "text/plain": [
       "   mean_fit_time  std_fit_time  mean_score_time  std_score_time  \\\n",
       "1       0.003320      0.000114         0.002996        0.000119   \n",
       "2       0.003158      0.000184         0.002944        0.000022   \n",
       "3       0.004007      0.000144         0.003268        0.000229   \n",
       "4       0.006139      0.000420         0.003093        0.000044   \n",
       "6       0.003255      0.000085         0.003108        0.000049   \n",
       "\n",
       "  param_classifier__n_neighbors                    param_preprocessor  \\\n",
       "1                             5                      StandardScaler()   \n",
       "2                             5                        MinMaxScaler()   \n",
       "3                             5  QuantileTransformer(n_quantiles=100)   \n",
       "4                             5    PowerTransformer(method='box-cox')   \n",
       "6                            51                      StandardScaler()   \n",
       "\n",
       "                                              params  split0_test_score  \\\n",
       "1  {'classifier__n_neighbors': 5, 'preprocessor':...           1.000000   \n",
       "2  {'classifier__n_neighbors': 5, 'preprocessor':...           1.000000   \n",
       "3  {'classifier__n_neighbors': 5, 'preprocessor':...           0.952381   \n",
       "4  {'classifier__n_neighbors': 5, 'preprocessor':...           1.000000   \n",
       "6  {'classifier__n_neighbors': 51, 'preprocessor'...           0.952381   \n",
       "\n",
       "   split1_test_score  split2_test_score  split3_test_score  split4_test_score  \\\n",
       "1           1.000000                1.0           0.918803           0.882540   \n",
       "2           0.952381                1.0           0.944444           0.882540   \n",
       "3           0.926740                1.0           0.918803           0.904762   \n",
       "4           0.977778                1.0           0.863248           0.882540   \n",
       "6           0.977778                1.0           0.863248           0.882540   \n",
       "\n",
       "   split5_test_score  split6_test_score  split7_test_score  split8_test_score  \\\n",
       "1           0.952381           0.977778           0.930159           0.907937   \n",
       "2           0.930159           0.955556           0.952381           0.907937   \n",
       "3           1.000000           0.977778           0.930159           0.907937   \n",
       "4           0.952381           0.955556           0.930159           0.907937   \n",
       "6           0.952381           0.955556           0.952381           0.930159   \n",
       "\n",
       "   split9_test_score  mean_test_score  std_test_score  rank_test_score  \n",
       "1           0.952381         0.952198        0.039902                1  \n",
       "2           0.952381         0.947778        0.034268                2  \n",
       "3           0.952381         0.947094        0.033797                3  \n",
       "4           1.000000         0.946960        0.047387                4  \n",
       "6           0.952381         0.941880        0.038905                5  "
      ]
     },
     "execution_count": 14,
     "metadata": {},
     "output_type": "execute_result"
    }
   ],
   "source": [
    "results = pd.DataFrame(grid_search.cv_results_)\\\n",
    "    .sort_values('mean_test_score', ascending=False)\n",
    "results.head()"
   ]
  },
  {
   "cell_type": "code",
   "execution_count": 15,
   "metadata": {},
   "outputs": [
    {
     "data": {
      "text/html": [
       "<div>\n",
       "<style scoped>\n",
       "    .dataframe tbody tr th:only-of-type {\n",
       "        vertical-align: middle;\n",
       "    }\n",
       "\n",
       "    .dataframe tbody tr th {\n",
       "        vertical-align: top;\n",
       "    }\n",
       "\n",
       "    .dataframe thead th {\n",
       "        text-align: right;\n",
       "    }\n",
       "</style>\n",
       "<table border=\"1\" class=\"dataframe\">\n",
       "  <thead>\n",
       "    <tr style=\"text-align: right;\">\n",
       "      <th></th>\n",
       "      <th>param_classifier__n_neighbors</th>\n",
       "      <th>param_preprocessor</th>\n",
       "      <th>mean_test_score</th>\n",
       "      <th>std_test_score</th>\n",
       "    </tr>\n",
       "  </thead>\n",
       "  <tbody>\n",
       "    <tr>\n",
       "      <th>1</th>\n",
       "      <td>5</td>\n",
       "      <td>StandardScaler()</td>\n",
       "      <td>0.952198</td>\n",
       "      <td>0.039902</td>\n",
       "    </tr>\n",
       "    <tr>\n",
       "      <th>2</th>\n",
       "      <td>5</td>\n",
       "      <td>MinMaxScaler()</td>\n",
       "      <td>0.947778</td>\n",
       "      <td>0.034268</td>\n",
       "    </tr>\n",
       "    <tr>\n",
       "      <th>3</th>\n",
       "      <td>5</td>\n",
       "      <td>QuantileTransformer(n_quantiles=100)</td>\n",
       "      <td>0.947094</td>\n",
       "      <td>0.033797</td>\n",
       "    </tr>\n",
       "    <tr>\n",
       "      <th>4</th>\n",
       "      <td>5</td>\n",
       "      <td>PowerTransformer(method='box-cox')</td>\n",
       "      <td>0.946960</td>\n",
       "      <td>0.047387</td>\n",
       "    </tr>\n",
       "    <tr>\n",
       "      <th>6</th>\n",
       "      <td>51</td>\n",
       "      <td>StandardScaler()</td>\n",
       "      <td>0.941880</td>\n",
       "      <td>0.038905</td>\n",
       "    </tr>\n",
       "    <tr>\n",
       "      <th>8</th>\n",
       "      <td>51</td>\n",
       "      <td>QuantileTransformer(n_quantiles=100)</td>\n",
       "      <td>0.927277</td>\n",
       "      <td>0.043759</td>\n",
       "    </tr>\n",
       "    <tr>\n",
       "      <th>9</th>\n",
       "      <td>51</td>\n",
       "      <td>PowerTransformer(method='box-cox')</td>\n",
       "      <td>0.922833</td>\n",
       "      <td>0.047883</td>\n",
       "    </tr>\n",
       "    <tr>\n",
       "      <th>7</th>\n",
       "      <td>51</td>\n",
       "      <td>MinMaxScaler()</td>\n",
       "      <td>0.920293</td>\n",
       "      <td>0.045516</td>\n",
       "    </tr>\n",
       "    <tr>\n",
       "      <th>11</th>\n",
       "      <td>101</td>\n",
       "      <td>StandardScaler()</td>\n",
       "      <td>0.876642</td>\n",
       "      <td>0.041618</td>\n",
       "    </tr>\n",
       "    <tr>\n",
       "      <th>12</th>\n",
       "      <td>101</td>\n",
       "      <td>MinMaxScaler()</td>\n",
       "      <td>0.862357</td>\n",
       "      <td>0.046244</td>\n",
       "    </tr>\n",
       "    <tr>\n",
       "      <th>14</th>\n",
       "      <td>101</td>\n",
       "      <td>PowerTransformer(method='box-cox')</td>\n",
       "      <td>0.857143</td>\n",
       "      <td>0.041000</td>\n",
       "    </tr>\n",
       "    <tr>\n",
       "      <th>13</th>\n",
       "      <td>101</td>\n",
       "      <td>QuantileTransformer(n_quantiles=100)</td>\n",
       "      <td>0.812991</td>\n",
       "      <td>0.044788</td>\n",
       "    </tr>\n",
       "    <tr>\n",
       "      <th>0</th>\n",
       "      <td>5</td>\n",
       "      <td>None</td>\n",
       "      <td>0.739838</td>\n",
       "      <td>0.086685</td>\n",
       "    </tr>\n",
       "    <tr>\n",
       "      <th>10</th>\n",
       "      <td>101</td>\n",
       "      <td>None</td>\n",
       "      <td>0.613857</td>\n",
       "      <td>0.031472</td>\n",
       "    </tr>\n",
       "    <tr>\n",
       "      <th>5</th>\n",
       "      <td>51</td>\n",
       "      <td>None</td>\n",
       "      <td>0.605182</td>\n",
       "      <td>0.036480</td>\n",
       "    </tr>\n",
       "  </tbody>\n",
       "</table>\n",
       "</div>"
      ],
      "text/plain": [
       "   param_classifier__n_neighbors                    param_preprocessor  \\\n",
       "1                              5                      StandardScaler()   \n",
       "2                              5                        MinMaxScaler()   \n",
       "3                              5  QuantileTransformer(n_quantiles=100)   \n",
       "4                              5    PowerTransformer(method='box-cox')   \n",
       "6                             51                      StandardScaler()   \n",
       "8                             51  QuantileTransformer(n_quantiles=100)   \n",
       "9                             51    PowerTransformer(method='box-cox')   \n",
       "7                             51                        MinMaxScaler()   \n",
       "11                           101                      StandardScaler()   \n",
       "12                           101                        MinMaxScaler()   \n",
       "14                           101    PowerTransformer(method='box-cox')   \n",
       "13                           101  QuantileTransformer(n_quantiles=100)   \n",
       "0                              5                                  None   \n",
       "10                           101                                  None   \n",
       "5                             51                                  None   \n",
       "\n",
       "    mean_test_score  std_test_score  \n",
       "1          0.952198        0.039902  \n",
       "2          0.947778        0.034268  \n",
       "3          0.947094        0.033797  \n",
       "4          0.946960        0.047387  \n",
       "6          0.941880        0.038905  \n",
       "8          0.927277        0.043759  \n",
       "9          0.922833        0.047883  \n",
       "7          0.920293        0.045516  \n",
       "11         0.876642        0.041618  \n",
       "12         0.862357        0.046244  \n",
       "14         0.857143        0.041000  \n",
       "13         0.812991        0.044788  \n",
       "0          0.739838        0.086685  \n",
       "10         0.613857        0.031472  \n",
       "5          0.605182        0.036480  "
      ]
     },
     "execution_count": 15,
     "metadata": {},
     "output_type": "execute_result"
    }
   ],
   "source": [
    "results = results[\n",
    "    [c for c in results.columns if c.startswith(\"param_\")]\n",
    "    + ['mean_test_score', 'std_test_score']\n",
    "]\n",
    "results"
   ]
  },
  {
   "cell_type": "markdown",
   "metadata": {},
   "source": [
    "We can observe that model with any scalers and `n_neighbors=5` perform typically the best but not necessarily significantly that better than with `n_neighbors=51`. For all those models, the mean test `balanced_accuracy` is above 0.92 while the best model is around 0.95 +/- 0.04.\n",
    "\n",
    "The models with no processor (`preprocessor=None`) are all below 0.75, even for `n_neighbors=5`.\n",
    "\n",
    "Models with any preprocessor and `n_neighbors=101` are in the range 0.80 to 0.88. They are significantly better than without preprocessor but also significantly worse than models with lower values for `n_neighbors`.\n",
    "\n",
    "The main reason that explains tha removing the preprocessor leads to bad performance, is the fact that the input features have very different dynamic ranges when using the default units (grams and millimeters).\n",
    "\n",
    "As usual, setting a too large value for `n_neighbors` cause under-fitting. Here the data is well structured and has not much noise: using low values for `n_neighbors` is as good or better than intermediate values as there is not much over-fitting possible. "
   ]
  }
 ],
 "metadata": {
  "kernelspec": {
   "display_name": "Python 3",
   "language": "python",
   "name": "python3"
  },
  "language_info": {
   "codemirror_mode": {
    "name": "ipython",
    "version": 3
   },
   "file_extension": ".py",
   "mimetype": "text/x-python",
   "name": "python",
   "nbconvert_exporter": "python",
   "pygments_lexer": "ipython3",
   "version": "3.9.2"
  }
 },
 "nbformat": 4,
 "nbformat_minor": 4
}
