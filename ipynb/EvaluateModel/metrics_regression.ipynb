{
 "cells": [
  {
   "cell_type": "markdown",
   "id": "f6c16a3f",
   "metadata": {},
   "source": [
    "# Regression\n",
    "\n",
    "In this notebook, we will present the metrics that can be used in regression.\n",
    "\n",
    "A set of metrics are dedicated to regression. Indeed, classification metrics\n",
    "cannot be used to evaluate the statistical performance of regression models\n",
    "because there is a fundamental difference between their target type `target`:\n",
    "it is a continuous variable in regression, while a discrete variable in\n",
    "classification.\n",
    "\n",
    "We will use the Ames housing dataset. The goal is to predict the price\n",
    "of houses in the city of Ames, Iowa. As with classification, we will only use\n",
    "a single train-test split to focus solely on the regression metrics."
   ]
  },
  {
   "cell_type": "code",
   "execution_count": 1,
   "id": "9a29c161-aff7-4da6-89f8-563e2b4cdc59",
   "metadata": {},
   "outputs": [],
   "source": [
    "import os\n",
    "\n",
    "os.makedirs(\"../../datasets\", exist_ok=True)"
   ]
  },
  {
   "cell_type": "code",
   "execution_count": 2,
   "id": "12585b79-9cbb-4311-b7a1-661061182250",
   "metadata": {},
   "outputs": [],
   "source": [
    "%%bash\n",
    "\n",
    "wget -qO \"../../datasets/house_prices.csv\" \"https://github.com/INRIA/scikit-learn-mooc/raw/master/datasets/house_prices.csv\""
   ]
  },
  {
   "cell_type": "code",
   "execution_count": 3,
   "id": "a40cb339",
   "metadata": {
    "tags": []
   },
   "outputs": [
    {
     "name": "stdout",
     "output_type": "stream",
     "text": [
      "<class 'pandas.core.frame.DataFrame'>\n",
      "RangeIndex: 1460 entries, 0 to 1459\n",
      "Data columns (total 34 columns):\n",
      " #   Column         Non-Null Count  Dtype\n",
      "---  ------         --------------  -----\n",
      " 0   Id             1460 non-null   int64\n",
      " 1   MSSubClass     1460 non-null   int64\n",
      " 2   LotArea        1460 non-null   int64\n",
      " 3   OverallQual    1460 non-null   int64\n",
      " 4   OverallCond    1460 non-null   int64\n",
      " 5   YearBuilt      1460 non-null   int64\n",
      " 6   YearRemodAdd   1460 non-null   int64\n",
      " 7   BsmtFinSF1     1460 non-null   int64\n",
      " 8   BsmtFinSF2     1460 non-null   int64\n",
      " 9   BsmtUnfSF      1460 non-null   int64\n",
      " 10  TotalBsmtSF    1460 non-null   int64\n",
      " 11  1stFlrSF       1460 non-null   int64\n",
      " 12  2ndFlrSF       1460 non-null   int64\n",
      " 13  LowQualFinSF   1460 non-null   int64\n",
      " 14  GrLivArea      1460 non-null   int64\n",
      " 15  BsmtFullBath   1460 non-null   int64\n",
      " 16  BsmtHalfBath   1460 non-null   int64\n",
      " 17  FullBath       1460 non-null   int64\n",
      " 18  HalfBath       1460 non-null   int64\n",
      " 19  BedroomAbvGr   1460 non-null   int64\n",
      " 20  KitchenAbvGr   1460 non-null   int64\n",
      " 21  TotRmsAbvGrd   1460 non-null   int64\n",
      " 22  Fireplaces     1460 non-null   int64\n",
      " 23  GarageCars     1460 non-null   int64\n",
      " 24  GarageArea     1460 non-null   int64\n",
      " 25  WoodDeckSF     1460 non-null   int64\n",
      " 26  OpenPorchSF    1460 non-null   int64\n",
      " 27  EnclosedPorch  1460 non-null   int64\n",
      " 28  3SsnPorch      1460 non-null   int64\n",
      " 29  ScreenPorch    1460 non-null   int64\n",
      " 30  PoolArea       1460 non-null   int64\n",
      " 31  MiscVal        1460 non-null   int64\n",
      " 32  MoSold         1460 non-null   int64\n",
      " 33  YrSold         1460 non-null   int64\n",
      "dtypes: int64(34)\n",
      "memory usage: 387.9 KB\n"
     ]
    }
   ],
   "source": [
    "import pandas as pd\n",
    "import numpy as np\n",
    "\n",
    "ames_housing = pd.read_csv(\"../../datasets/house_prices.csv\")\n",
    "data = ames_housing.drop(columns=\"SalePrice\")\n",
    "target = ames_housing[\"SalePrice\"]\n",
    "data = data.select_dtypes(np.number)\n",
    "target /= 1000\n",
    "data.info()"
   ]
  },
  {
   "cell_type": "markdown",
   "id": "a807ab54",
   "metadata": {
    "tags": []
   },
   "source": [
    "<div class=\"admonition note alert alert-info\">\n",
    "<p class=\"first admonition-title\" style=\"font-weight: bold;\">Note</p>\n",
    "<p class=\"last\">If you want a deeper overview regarding this dataset, you can refer to the\n",
    "Appendix - Datasets description section at the end of this MOOC.</p>\n",
    "</div>"
   ]
  },
  {
   "cell_type": "markdown",
   "id": "e342fe4b",
   "metadata": {},
   "source": [
    "Let's start by splitting our dataset intro a train and test set."
   ]
  },
  {
   "cell_type": "code",
   "execution_count": 4,
   "id": "6fbcc061",
   "metadata": {},
   "outputs": [],
   "source": [
    "from sklearn.model_selection import train_test_split\n",
    "\n",
    "data_train, data_test, target_train, target_test = train_test_split(\n",
    "    data, target, shuffle=True, random_state=0\n",
    ")"
   ]
  },
  {
   "cell_type": "markdown",
   "id": "c45b6181-639c-4e0e-a8c1-977d51eecb3e",
   "metadata": {},
   "source": [
    "We can display an interactive diagram with the following command:"
   ]
  },
  {
   "cell_type": "code",
   "execution_count": 5,
   "id": "32d927bc-7a2a-452d-b525-6deff8e7a0cd",
   "metadata": {},
   "outputs": [],
   "source": [
    "from sklearn import set_config\n",
    "set_config(display='diagram')"
   ]
  },
  {
   "cell_type": "markdown",
   "id": "a30d0f17",
   "metadata": {},
   "source": [
    "Some machine learning models are designed to be solved as an optimization\n",
    "problem: minimizing an error (also known as the loss function) using a\n",
    "training set.\n",
    "A basic loss function used in regression is the mean squared error (MSE).\n",
    "Thus, this metric is sometimes used to evaluate the model since it is\n",
    "optimized by said model.\n",
    "\n",
    "We will give an example using a linear regression model."
   ]
  },
  {
   "cell_type": "code",
   "execution_count": 6,
   "id": "6de47805",
   "metadata": {},
   "outputs": [
    {
     "name": "stdout",
     "output_type": "stream",
     "text": [
      "CPU times: user 28.8 ms, sys: 10.1 ms, total: 38.9 ms\n",
      "Wall time: 46.5 ms\n"
     ]
    },
    {
     "data": {
      "text/html": [
       "<style>#sk-cfb4b9c4-c194-466f-a458-6b4a9532e1d7 {color: black;background-color: white;}#sk-cfb4b9c4-c194-466f-a458-6b4a9532e1d7 pre{padding: 0;}#sk-cfb4b9c4-c194-466f-a458-6b4a9532e1d7 div.sk-toggleable {background-color: white;}#sk-cfb4b9c4-c194-466f-a458-6b4a9532e1d7 label.sk-toggleable__label {cursor: pointer;display: block;width: 100%;margin-bottom: 0;padding: 0.2em 0.3em;box-sizing: border-box;text-align: center;}#sk-cfb4b9c4-c194-466f-a458-6b4a9532e1d7 div.sk-toggleable__content {max-height: 0;max-width: 0;overflow: hidden;text-align: left;background-color: #f0f8ff;}#sk-cfb4b9c4-c194-466f-a458-6b4a9532e1d7 div.sk-toggleable__content pre {margin: 0.2em;color: black;border-radius: 0.25em;background-color: #f0f8ff;}#sk-cfb4b9c4-c194-466f-a458-6b4a9532e1d7 input.sk-toggleable__control:checked~div.sk-toggleable__content {max-height: 200px;max-width: 100%;overflow: auto;}#sk-cfb4b9c4-c194-466f-a458-6b4a9532e1d7 div.sk-estimator input.sk-toggleable__control:checked~label.sk-toggleable__label {background-color: #d4ebff;}#sk-cfb4b9c4-c194-466f-a458-6b4a9532e1d7 div.sk-label input.sk-toggleable__control:checked~label.sk-toggleable__label {background-color: #d4ebff;}#sk-cfb4b9c4-c194-466f-a458-6b4a9532e1d7 input.sk-hidden--visually {border: 0;clip: rect(1px 1px 1px 1px);clip: rect(1px, 1px, 1px, 1px);height: 1px;margin: -1px;overflow: hidden;padding: 0;position: absolute;width: 1px;}#sk-cfb4b9c4-c194-466f-a458-6b4a9532e1d7 div.sk-estimator {font-family: monospace;background-color: #f0f8ff;margin: 0.25em 0.25em;border: 1px dotted black;border-radius: 0.25em;box-sizing: border-box;}#sk-cfb4b9c4-c194-466f-a458-6b4a9532e1d7 div.sk-estimator:hover {background-color: #d4ebff;}#sk-cfb4b9c4-c194-466f-a458-6b4a9532e1d7 div.sk-parallel-item::after {content: \"\";width: 100%;border-bottom: 1px solid gray;flex-grow: 1;}#sk-cfb4b9c4-c194-466f-a458-6b4a9532e1d7 div.sk-label:hover label.sk-toggleable__label {background-color: #d4ebff;}#sk-cfb4b9c4-c194-466f-a458-6b4a9532e1d7 div.sk-serial::before {content: \"\";position: absolute;border-left: 1px solid gray;box-sizing: border-box;top: 2em;bottom: 0;left: 50%;}#sk-cfb4b9c4-c194-466f-a458-6b4a9532e1d7 div.sk-serial {display: flex;flex-direction: column;align-items: center;background-color: white;}#sk-cfb4b9c4-c194-466f-a458-6b4a9532e1d7 div.sk-item {z-index: 1;}#sk-cfb4b9c4-c194-466f-a458-6b4a9532e1d7 div.sk-parallel {display: flex;align-items: stretch;justify-content: center;background-color: white;}#sk-cfb4b9c4-c194-466f-a458-6b4a9532e1d7 div.sk-parallel-item {display: flex;flex-direction: column;position: relative;background-color: white;}#sk-cfb4b9c4-c194-466f-a458-6b4a9532e1d7 div.sk-parallel-item:first-child::after {align-self: flex-end;width: 50%;}#sk-cfb4b9c4-c194-466f-a458-6b4a9532e1d7 div.sk-parallel-item:last-child::after {align-self: flex-start;width: 50%;}#sk-cfb4b9c4-c194-466f-a458-6b4a9532e1d7 div.sk-parallel-item:only-child::after {width: 0;}#sk-cfb4b9c4-c194-466f-a458-6b4a9532e1d7 div.sk-dashed-wrapped {border: 1px dashed gray;margin: 0.2em;box-sizing: border-box;padding-bottom: 0.1em;background-color: white;position: relative;}#sk-cfb4b9c4-c194-466f-a458-6b4a9532e1d7 div.sk-label label {font-family: monospace;font-weight: bold;background-color: white;display: inline-block;line-height: 1.2em;}#sk-cfb4b9c4-c194-466f-a458-6b4a9532e1d7 div.sk-label-container {position: relative;z-index: 2;text-align: center;}#sk-cfb4b9c4-c194-466f-a458-6b4a9532e1d7 div.sk-container {display: inline-block;position: relative;}</style><div id=\"sk-cfb4b9c4-c194-466f-a458-6b4a9532e1d7\" class\"sk-top-container\"><div class=\"sk-container\"><div class=\"sk-item\"><div class=\"sk-estimator sk-toggleable\"><input class=\"sk-toggleable__control sk-hidden--visually\" id=\"87a55005-f9b8-4395-a7e7-9ae0796a11bc\" type=\"checkbox\" checked><label class=\"sk-toggleable__label\" for=\"87a55005-f9b8-4395-a7e7-9ae0796a11bc\">LinearRegression</label><div class=\"sk-toggleable__content\"><pre>LinearRegression()</pre></div></div></div></div></div>"
      ],
      "text/plain": [
       "LinearRegression()"
      ]
     },
     "execution_count": 6,
     "metadata": {},
     "output_type": "execute_result"
    }
   ],
   "source": [
    "%%time\n",
    "from sklearn.linear_model import LinearRegression\n",
    "\n",
    "regressor = LinearRegression()\n",
    "regressor.fit(data_train, target_train)"
   ]
  },
  {
   "cell_type": "code",
   "execution_count": 7,
   "id": "85858b37-b962-4f80-b488-2764b9d0c2cb",
   "metadata": {},
   "outputs": [
    {
     "name": "stdout",
     "output_type": "stream",
     "text": [
      "Mean squared error on the training set: 996.902\n",
      "CPU times: user 19.8 ms, sys: 0 ns, total: 19.8 ms\n",
      "Wall time: 3.19 ms\n"
     ]
    }
   ],
   "source": [
    "%%time\n",
    "from sklearn.metrics import mean_squared_error\n",
    "\n",
    "target_predicted = regressor.predict(data_train)\n",
    "\n",
    "print(f\"Mean squared error on the training set: \"\n",
    "    f\"{mean_squared_error(target_train, target_predicted):.3f}\")"
   ]
  },
  {
   "cell_type": "markdown",
   "id": "d70d4bb4",
   "metadata": {},
   "source": [
    "Our linear regression model is minimizing the mean squared error on the\n",
    "training set. It means that there is no other set of coefficients which\n",
    "will decrease the error.\n",
    "\n",
    "Then, we can compute the mean squared error on the test set."
   ]
  },
  {
   "cell_type": "code",
   "execution_count": 8,
   "id": "1078a46f",
   "metadata": {},
   "outputs": [
    {
     "name": "stdout",
     "output_type": "stream",
     "text": [
      "Mean squared error on the testing set: 2064.736\n",
      "CPU times: user 24.4 ms, sys: 1 µs, total: 24.4 ms\n",
      "Wall time: 4.12 ms\n"
     ]
    }
   ],
   "source": [
    "%%time\n",
    "target_predicted = regressor.predict(data_test)\n",
    "\n",
    "print(f\"Mean squared error on the testing set: \"\n",
    "    f\"{mean_squared_error(target_test, target_predicted):.3f}\")"
   ]
  },
  {
   "cell_type": "markdown",
   "id": "aa8104e1",
   "metadata": {},
   "source": [
    "The raw MSE can be difficult to interpret. One way is to rescale the MSE\n",
    "by the variance of the target. This score is known as the $R^2$ also called\n",
    "the coefficient of determination. Indeed, this is the default score used\n",
    "in scikit-learn by calling the method `score`."
   ]
  },
  {
   "cell_type": "code",
   "execution_count": 9,
   "id": "d238a510",
   "metadata": {},
   "outputs": [
    {
     "data": {
      "text/plain": [
       "0.6872520581075442"
      ]
     },
     "execution_count": 9,
     "metadata": {},
     "output_type": "execute_result"
    }
   ],
   "source": [
    "regressor.score(data_test, target_test)"
   ]
  },
  {
   "cell_type": "markdown",
   "id": "08e1e353",
   "metadata": {},
   "source": [
    "The $R^2$ score represents the proportion of variance of the target that is\n",
    "explained by the independent variables in the model. The best score possible\n",
    "is 1 but there is no lower bound. However, a model that predicts the expected\n",
    "value of the target would get a score of 0."
   ]
  },
  {
   "cell_type": "code",
   "execution_count": 10,
   "id": "e86c1939",
   "metadata": {},
   "outputs": [
    {
     "data": {
      "text/html": [
       "<style>#sk-644af7a7-8255-4575-a721-6ce9f258b306 {color: black;background-color: white;}#sk-644af7a7-8255-4575-a721-6ce9f258b306 pre{padding: 0;}#sk-644af7a7-8255-4575-a721-6ce9f258b306 div.sk-toggleable {background-color: white;}#sk-644af7a7-8255-4575-a721-6ce9f258b306 label.sk-toggleable__label {cursor: pointer;display: block;width: 100%;margin-bottom: 0;padding: 0.2em 0.3em;box-sizing: border-box;text-align: center;}#sk-644af7a7-8255-4575-a721-6ce9f258b306 div.sk-toggleable__content {max-height: 0;max-width: 0;overflow: hidden;text-align: left;background-color: #f0f8ff;}#sk-644af7a7-8255-4575-a721-6ce9f258b306 div.sk-toggleable__content pre {margin: 0.2em;color: black;border-radius: 0.25em;background-color: #f0f8ff;}#sk-644af7a7-8255-4575-a721-6ce9f258b306 input.sk-toggleable__control:checked~div.sk-toggleable__content {max-height: 200px;max-width: 100%;overflow: auto;}#sk-644af7a7-8255-4575-a721-6ce9f258b306 div.sk-estimator input.sk-toggleable__control:checked~label.sk-toggleable__label {background-color: #d4ebff;}#sk-644af7a7-8255-4575-a721-6ce9f258b306 div.sk-label input.sk-toggleable__control:checked~label.sk-toggleable__label {background-color: #d4ebff;}#sk-644af7a7-8255-4575-a721-6ce9f258b306 input.sk-hidden--visually {border: 0;clip: rect(1px 1px 1px 1px);clip: rect(1px, 1px, 1px, 1px);height: 1px;margin: -1px;overflow: hidden;padding: 0;position: absolute;width: 1px;}#sk-644af7a7-8255-4575-a721-6ce9f258b306 div.sk-estimator {font-family: monospace;background-color: #f0f8ff;margin: 0.25em 0.25em;border: 1px dotted black;border-radius: 0.25em;box-sizing: border-box;}#sk-644af7a7-8255-4575-a721-6ce9f258b306 div.sk-estimator:hover {background-color: #d4ebff;}#sk-644af7a7-8255-4575-a721-6ce9f258b306 div.sk-parallel-item::after {content: \"\";width: 100%;border-bottom: 1px solid gray;flex-grow: 1;}#sk-644af7a7-8255-4575-a721-6ce9f258b306 div.sk-label:hover label.sk-toggleable__label {background-color: #d4ebff;}#sk-644af7a7-8255-4575-a721-6ce9f258b306 div.sk-serial::before {content: \"\";position: absolute;border-left: 1px solid gray;box-sizing: border-box;top: 2em;bottom: 0;left: 50%;}#sk-644af7a7-8255-4575-a721-6ce9f258b306 div.sk-serial {display: flex;flex-direction: column;align-items: center;background-color: white;}#sk-644af7a7-8255-4575-a721-6ce9f258b306 div.sk-item {z-index: 1;}#sk-644af7a7-8255-4575-a721-6ce9f258b306 div.sk-parallel {display: flex;align-items: stretch;justify-content: center;background-color: white;}#sk-644af7a7-8255-4575-a721-6ce9f258b306 div.sk-parallel-item {display: flex;flex-direction: column;position: relative;background-color: white;}#sk-644af7a7-8255-4575-a721-6ce9f258b306 div.sk-parallel-item:first-child::after {align-self: flex-end;width: 50%;}#sk-644af7a7-8255-4575-a721-6ce9f258b306 div.sk-parallel-item:last-child::after {align-self: flex-start;width: 50%;}#sk-644af7a7-8255-4575-a721-6ce9f258b306 div.sk-parallel-item:only-child::after {width: 0;}#sk-644af7a7-8255-4575-a721-6ce9f258b306 div.sk-dashed-wrapped {border: 1px dashed gray;margin: 0.2em;box-sizing: border-box;padding-bottom: 0.1em;background-color: white;position: relative;}#sk-644af7a7-8255-4575-a721-6ce9f258b306 div.sk-label label {font-family: monospace;font-weight: bold;background-color: white;display: inline-block;line-height: 1.2em;}#sk-644af7a7-8255-4575-a721-6ce9f258b306 div.sk-label-container {position: relative;z-index: 2;text-align: center;}#sk-644af7a7-8255-4575-a721-6ce9f258b306 div.sk-container {display: inline-block;position: relative;}</style><div id=\"sk-644af7a7-8255-4575-a721-6ce9f258b306\" class\"sk-top-container\"><div class=\"sk-container\"><div class=\"sk-item\"><div class=\"sk-estimator sk-toggleable\"><input class=\"sk-toggleable__control sk-hidden--visually\" id=\"e180e153-4918-4a46-bf8b-7b93d027a3c2\" type=\"checkbox\" checked><label class=\"sk-toggleable__label\" for=\"e180e153-4918-4a46-bf8b-7b93d027a3c2\">DummyRegressor</label><div class=\"sk-toggleable__content\"><pre>DummyRegressor()</pre></div></div></div></div></div>"
      ],
      "text/plain": [
       "DummyRegressor()"
      ]
     },
     "execution_count": 10,
     "metadata": {},
     "output_type": "execute_result"
    }
   ],
   "source": [
    "from sklearn.dummy import DummyRegressor\n",
    "\n",
    "dummy_regressor = DummyRegressor(strategy=\"mean\")\n",
    "dummy_regressor.fit(data_train, target_train)"
   ]
  },
  {
   "cell_type": "code",
   "execution_count": 11,
   "id": "c7a6197f-9dca-43e1-a8c7-f0e35ba20561",
   "metadata": {},
   "outputs": [
    {
     "name": "stdout",
     "output_type": "stream",
     "text": [
      "R2 score for a regressor predicting the mean:-0.000\n",
      "CPU times: user 5.88 ms, sys: 1.87 ms, total: 7.75 ms\n",
      "Wall time: 1.31 ms\n"
     ]
    }
   ],
   "source": [
    "%%time\n",
    "print(f\"R2 score for a regressor predicting the mean:\"\n",
    "    f\"{dummy_regressor.score(data_test, target_test):.3f}\")"
   ]
  },
  {
   "cell_type": "markdown",
   "id": "3af60db3",
   "metadata": {},
   "source": [
    "The $R^2$ score gives insight into the quality of the model's fit. However,\n",
    "this score cannot be compared from one dataset to another and the value\n",
    "obtained does not have a meaningful interpretation relative the original unit\n",
    "of the target. If we wanted to get an interpretable score, we would be\n",
    "interested in the median or mean absolute error."
   ]
  },
  {
   "cell_type": "code",
   "execution_count": 12,
   "id": "edcacdeb",
   "metadata": {},
   "outputs": [
    {
     "name": "stdout",
     "output_type": "stream",
     "text": [
      "Mean absolute error: 22.608 k$\n",
      "CPU times: user 20.4 ms, sys: 2.93 ms, total: 23.4 ms\n",
      "Wall time: 3.9 ms\n"
     ]
    }
   ],
   "source": [
    "%%time\n",
    "from sklearn.metrics import mean_absolute_error\n",
    "\n",
    "target_predicted = regressor.predict(data_test)\n",
    "print(f\"Mean absolute error: \"\n",
    "    f\"{mean_absolute_error(target_test, target_predicted):.3f} k$\")"
   ]
  },
  {
   "cell_type": "markdown",
   "id": "aacb19d0",
   "metadata": {},
   "source": [
    "By computing the mean absolute error, we can interpret that our model is\n",
    "predicting on average 22.6 k$ away from the true house price. A disadvantage\n",
    "of this metric is that the mean can be impacted by large error. For some\n",
    "applications, we might not want these large errors to have such a big\n",
    "influence on our metric. In this case we can use the median absolute error."
   ]
  },
  {
   "cell_type": "code",
   "execution_count": 13,
   "id": "f6febdde",
   "metadata": {},
   "outputs": [
    {
     "name": "stdout",
     "output_type": "stream",
     "text": [
      "Median absolute error: 14.137 k$\n",
      "CPU times: user 4.98 ms, sys: 738 µs, total: 5.71 ms\n",
      "Wall time: 945 µs\n"
     ]
    }
   ],
   "source": [
    "%%time\n",
    "from sklearn.metrics import median_absolute_error\n",
    "\n",
    "print(f\"Median absolute error: \"\n",
    "    f\"{median_absolute_error(target_test, target_predicted):.3f} k$\")"
   ]
  },
  {
   "cell_type": "markdown",
   "id": "76a0d5e8",
   "metadata": {},
   "source": [
    "The mean absolute error (or median absolute error) still have a known\n",
    "limitation: committing an error of 50 k\\\\$ for an house valued at 50 k\\\\$ has the\n",
    "same impact than committing an error of 50 k\\\\$ for an house valued at 500 k\\\\$.\n",
    "Indeed, the mean absolute error is not relative.\n",
    "\n",
    "The mean absolute percentage error introduce this relative scaling."
   ]
  },
  {
   "cell_type": "code",
   "execution_count": 14,
   "id": "ae6b2e35",
   "metadata": {},
   "outputs": [
    {
     "name": "stdout",
     "output_type": "stream",
     "text": [
      "Mean absolute percentage error: 13.574 %\n",
      "CPU times: user 4.91 ms, sys: 719 µs, total: 5.63 ms\n",
      "Wall time: 923 µs\n"
     ]
    }
   ],
   "source": [
    "%%time\n",
    "from sklearn.metrics import mean_absolute_percentage_error\n",
    "\n",
    "print(f\"Mean absolute percentage error: \"\n",
    "    f\"{mean_absolute_percentage_error(target_test, target_predicted) * 100:.3f} %\")"
   ]
  },
  {
   "cell_type": "markdown",
   "id": "12fcfe60",
   "metadata": {},
   "source": [
    "In addition of metrics, we can visually represent the results by plotting\n",
    "the predicted values versus the true values."
   ]
  },
  {
   "cell_type": "code",
   "execution_count": 15,
   "id": "6f11170c",
   "metadata": {},
   "outputs": [
    {
     "data": {
      "text/html": [
       "<div>\n",
       "<style scoped>\n",
       "    .dataframe tbody tr th:only-of-type {\n",
       "        vertical-align: middle;\n",
       "    }\n",
       "\n",
       "    .dataframe tbody tr th {\n",
       "        vertical-align: top;\n",
       "    }\n",
       "\n",
       "    .dataframe thead th {\n",
       "        text-align: right;\n",
       "    }\n",
       "</style>\n",
       "<table border=\"1\" class=\"dataframe\">\n",
       "  <thead>\n",
       "    <tr style=\"text-align: right;\">\n",
       "      <th></th>\n",
       "      <th>True values (k$)</th>\n",
       "      <th>Predicted values (k$)</th>\n",
       "    </tr>\n",
       "  </thead>\n",
       "  <tbody>\n",
       "    <tr>\n",
       "      <th>529</th>\n",
       "      <td>200.624</td>\n",
       "      <td>264.222898</td>\n",
       "    </tr>\n",
       "    <tr>\n",
       "      <th>491</th>\n",
       "      <td>133.000</td>\n",
       "      <td>154.746966</td>\n",
       "    </tr>\n",
       "    <tr>\n",
       "      <th>459</th>\n",
       "      <td>110.000</td>\n",
       "      <td>97.997857</td>\n",
       "    </tr>\n",
       "    <tr>\n",
       "      <th>279</th>\n",
       "      <td>192.000</td>\n",
       "      <td>225.208535</td>\n",
       "    </tr>\n",
       "    <tr>\n",
       "      <th>655</th>\n",
       "      <td>88.000</td>\n",
       "      <td>96.967182</td>\n",
       "    </tr>\n",
       "  </tbody>\n",
       "</table>\n",
       "</div>"
      ],
      "text/plain": [
       "     True values (k$)  Predicted values (k$)\n",
       "529           200.624             264.222898\n",
       "491           133.000             154.746966\n",
       "459           110.000              97.997857\n",
       "279           192.000             225.208535\n",
       "655            88.000              96.967182"
      ]
     },
     "execution_count": 15,
     "metadata": {},
     "output_type": "execute_result"
    }
   ],
   "source": [
    "predicted_actual = {\n",
    "    \"True values (k$)\": target_test, \n",
    "    \"Predicted values (k$)\": target_predicted\n",
    "}\n",
    "predicted_actual = pd.DataFrame(predicted_actual)\n",
    "predicted_actual.head()"
   ]
  },
  {
   "cell_type": "code",
   "execution_count": 16,
   "id": "9a96fa30",
   "metadata": {},
   "outputs": [
    {
     "data": {
      "image/png": "[encoded data removed]",
      "text/plain": [
       "<Figure size 432x288 with 1 Axes>"
      ]
     },
     "metadata": {
      "needs_background": "light"
     },
     "output_type": "display_data"
    }
   ],
   "source": [
    "import matplotlib.pyplot as plt\n",
    "import seaborn as sns\n",
    "\n",
    "sns.scatterplot(data=predicted_actual,\n",
    "    x=\"True values (k$)\", y=\"Predicted values (k$)\",\n",
    "    color=\"black\", alpha=0.5\n",
    ")\n",
    "plt.axline((0, 0), slope=1, label=\"Perfect fit\")\n",
    "plt.axis('square')\n",
    "plt.legend()\n",
    "_ = plt.title(\"Regression using a model without \\n \"\n",
    "    \"target transformation\")"
   ]
  },
  {
   "cell_type": "markdown",
   "id": "e085fdfe",
   "metadata": {},
   "source": [
    "On this plot, correct predictions would lie on the diagonal line. This plot\n",
    "allows us to detect if the model makes errors in a consistent way, i.e.\n",
    "has some bias.\n",
    "\n",
    "On this plot, we see that for the large True price values, our model tends to\n",
    "under-estimate the price of the house. Typically, this issue arises when the\n",
    "target to predict does not follow a normal distribution. In this case the\n",
    "model would benefit from target transformation."
   ]
  },
  {
   "cell_type": "code",
   "execution_count": 17,
   "id": "07b04beb",
   "metadata": {},
   "outputs": [
    {
     "data": {
      "text/html": [
       "<style>#sk-2f757e2c-ebd5-4d1c-8aec-fcd677e7aa1f {color: black;background-color: white;}#sk-2f757e2c-ebd5-4d1c-8aec-fcd677e7aa1f pre{padding: 0;}#sk-2f757e2c-ebd5-4d1c-8aec-fcd677e7aa1f div.sk-toggleable {background-color: white;}#sk-2f757e2c-ebd5-4d1c-8aec-fcd677e7aa1f label.sk-toggleable__label {cursor: pointer;display: block;width: 100%;margin-bottom: 0;padding: 0.2em 0.3em;box-sizing: border-box;text-align: center;}#sk-2f757e2c-ebd5-4d1c-8aec-fcd677e7aa1f div.sk-toggleable__content {max-height: 0;max-width: 0;overflow: hidden;text-align: left;background-color: #f0f8ff;}#sk-2f757e2c-ebd5-4d1c-8aec-fcd677e7aa1f div.sk-toggleable__content pre {margin: 0.2em;color: black;border-radius: 0.25em;background-color: #f0f8ff;}#sk-2f757e2c-ebd5-4d1c-8aec-fcd677e7aa1f input.sk-toggleable__control:checked~div.sk-toggleable__content {max-height: 200px;max-width: 100%;overflow: auto;}#sk-2f757e2c-ebd5-4d1c-8aec-fcd677e7aa1f div.sk-estimator input.sk-toggleable__control:checked~label.sk-toggleable__label {background-color: #d4ebff;}#sk-2f757e2c-ebd5-4d1c-8aec-fcd677e7aa1f div.sk-label input.sk-toggleable__control:checked~label.sk-toggleable__label {background-color: #d4ebff;}#sk-2f757e2c-ebd5-4d1c-8aec-fcd677e7aa1f input.sk-hidden--visually {border: 0;clip: rect(1px 1px 1px 1px);clip: rect(1px, 1px, 1px, 1px);height: 1px;margin: -1px;overflow: hidden;padding: 0;position: absolute;width: 1px;}#sk-2f757e2c-ebd5-4d1c-8aec-fcd677e7aa1f div.sk-estimator {font-family: monospace;background-color: #f0f8ff;margin: 0.25em 0.25em;border: 1px dotted black;border-radius: 0.25em;box-sizing: border-box;}#sk-2f757e2c-ebd5-4d1c-8aec-fcd677e7aa1f div.sk-estimator:hover {background-color: #d4ebff;}#sk-2f757e2c-ebd5-4d1c-8aec-fcd677e7aa1f div.sk-parallel-item::after {content: \"\";width: 100%;border-bottom: 1px solid gray;flex-grow: 1;}#sk-2f757e2c-ebd5-4d1c-8aec-fcd677e7aa1f div.sk-label:hover label.sk-toggleable__label {background-color: #d4ebff;}#sk-2f757e2c-ebd5-4d1c-8aec-fcd677e7aa1f div.sk-serial::before {content: \"\";position: absolute;border-left: 1px solid gray;box-sizing: border-box;top: 2em;bottom: 0;left: 50%;}#sk-2f757e2c-ebd5-4d1c-8aec-fcd677e7aa1f div.sk-serial {display: flex;flex-direction: column;align-items: center;background-color: white;}#sk-2f757e2c-ebd5-4d1c-8aec-fcd677e7aa1f div.sk-item {z-index: 1;}#sk-2f757e2c-ebd5-4d1c-8aec-fcd677e7aa1f div.sk-parallel {display: flex;align-items: stretch;justify-content: center;background-color: white;}#sk-2f757e2c-ebd5-4d1c-8aec-fcd677e7aa1f div.sk-parallel-item {display: flex;flex-direction: column;position: relative;background-color: white;}#sk-2f757e2c-ebd5-4d1c-8aec-fcd677e7aa1f div.sk-parallel-item:first-child::after {align-self: flex-end;width: 50%;}#sk-2f757e2c-ebd5-4d1c-8aec-fcd677e7aa1f div.sk-parallel-item:last-child::after {align-self: flex-start;width: 50%;}#sk-2f757e2c-ebd5-4d1c-8aec-fcd677e7aa1f div.sk-parallel-item:only-child::after {width: 0;}#sk-2f757e2c-ebd5-4d1c-8aec-fcd677e7aa1f div.sk-dashed-wrapped {border: 1px dashed gray;margin: 0.2em;box-sizing: border-box;padding-bottom: 0.1em;background-color: white;position: relative;}#sk-2f757e2c-ebd5-4d1c-8aec-fcd677e7aa1f div.sk-label label {font-family: monospace;font-weight: bold;background-color: white;display: inline-block;line-height: 1.2em;}#sk-2f757e2c-ebd5-4d1c-8aec-fcd677e7aa1f div.sk-label-container {position: relative;z-index: 2;text-align: center;}#sk-2f757e2c-ebd5-4d1c-8aec-fcd677e7aa1f div.sk-container {display: inline-block;position: relative;}</style><div id=\"sk-2f757e2c-ebd5-4d1c-8aec-fcd677e7aa1f\" class\"sk-top-container\"><div class=\"sk-container\"><div class=\"sk-item sk-dashed-wrapped\"><div class=\"sk-label-container\"><div class=\"sk-label sk-toggleable\"><input class=\"sk-toggleable__control sk-hidden--visually\" id=\"3f8bbf51-a396-4df7-822c-81a7b745ce2a\" type=\"checkbox\" ><label class=\"sk-toggleable__label\" for=\"3f8bbf51-a396-4df7-822c-81a7b745ce2a\">TransformedTargetRegressor</label><div class=\"sk-toggleable__content\"><pre>TransformedTargetRegressor(regressor=LinearRegression(),\n",
       "                           transformer=QuantileTransformer(n_quantiles=900,\n",
       "                                                           output_distribution='normal'))</pre></div></div></div><div class=\"sk-parallel\"><div class=\"sk-parallel-item\"><div class=\"sk-item\"><div class=\"sk-serial\"><div class=\"sk-item\"><div class=\"sk-estimator sk-toggleable\"><input class=\"sk-toggleable__control sk-hidden--visually\" id=\"b54bcc3e-889a-41af-8657-3fe46da2b2af\" type=\"checkbox\" ><label class=\"sk-toggleable__label\" for=\"b54bcc3e-889a-41af-8657-3fe46da2b2af\">LinearRegression</label><div class=\"sk-toggleable__content\"><pre>LinearRegression()</pre></div></div></div></div></div></div><div class=\"sk-parallel-item\"><div class=\"sk-item\"><div class=\"sk-serial\"><div class=\"sk-item\"><div class=\"sk-estimator sk-toggleable\"><input class=\"sk-toggleable__control sk-hidden--visually\" id=\"ca24497f-6f41-4c6c-b166-63e5d1d140cf\" type=\"checkbox\" ><label class=\"sk-toggleable__label\" for=\"ca24497f-6f41-4c6c-b166-63e5d1d140cf\">QuantileTransformer</label><div class=\"sk-toggleable__content\"><pre>QuantileTransformer(n_quantiles=900, output_distribution='normal')</pre></div></div></div></div></div></div></div></div></div></div>"
      ],
      "text/plain": [
       "TransformedTargetRegressor(regressor=LinearRegression(),\n",
       "                           transformer=QuantileTransformer(n_quantiles=900,\n",
       "                                                           output_distribution='normal'))"
      ]
     },
     "execution_count": 17,
     "metadata": {},
     "output_type": "execute_result"
    }
   ],
   "source": [
    "from sklearn.preprocessing import QuantileTransformer\n",
    "from sklearn.compose import TransformedTargetRegressor\n",
    "\n",
    "transformer = QuantileTransformer(\n",
    "    n_quantiles=900, output_distribution=\"normal\")\n",
    "model_transformed_target = TransformedTargetRegressor(\n",
    "    regressor=regressor, transformer=transformer)\n",
    "model_transformed_target.fit(data_train, target_train)"
   ]
  },
  {
   "cell_type": "code",
   "execution_count": 18,
   "id": "8c532592",
   "metadata": {},
   "outputs": [
    {
     "name": "stdout",
     "output_type": "stream",
     "text": [
      "CPU times: user 33.6 ms, sys: 1.49 ms, total: 35.1 ms\n",
      "Wall time: 5.97 ms\n"
     ]
    },
    {
     "data": {
      "text/html": [
       "<div>\n",
       "<style scoped>\n",
       "    .dataframe tbody tr th:only-of-type {\n",
       "        vertical-align: middle;\n",
       "    }\n",
       "\n",
       "    .dataframe tbody tr th {\n",
       "        vertical-align: top;\n",
       "    }\n",
       "\n",
       "    .dataframe thead th {\n",
       "        text-align: right;\n",
       "    }\n",
       "</style>\n",
       "<table border=\"1\" class=\"dataframe\">\n",
       "  <thead>\n",
       "    <tr style=\"text-align: right;\">\n",
       "      <th></th>\n",
       "      <th>True values (k$)</th>\n",
       "      <th>Predicted values (k$)</th>\n",
       "    </tr>\n",
       "  </thead>\n",
       "  <tbody>\n",
       "    <tr>\n",
       "      <th>529</th>\n",
       "      <td>200.624</td>\n",
       "      <td>246.828849</td>\n",
       "    </tr>\n",
       "    <tr>\n",
       "      <th>491</th>\n",
       "      <td>133.000</td>\n",
       "      <td>148.000000</td>\n",
       "    </tr>\n",
       "    <tr>\n",
       "      <th>459</th>\n",
       "      <td>110.000</td>\n",
       "      <td>114.752980</td>\n",
       "    </tr>\n",
       "    <tr>\n",
       "      <th>279</th>\n",
       "      <td>192.000</td>\n",
       "      <td>205.000000</td>\n",
       "    </tr>\n",
       "    <tr>\n",
       "      <th>655</th>\n",
       "      <td>88.000</td>\n",
       "      <td>113.000000</td>\n",
       "    </tr>\n",
       "  </tbody>\n",
       "</table>\n",
       "</div>"
      ],
      "text/plain": [
       "     True values (k$)  Predicted values (k$)\n",
       "529           200.624             246.828849\n",
       "491           133.000             148.000000\n",
       "459           110.000             114.752980\n",
       "279           192.000             205.000000\n",
       "655            88.000             113.000000"
      ]
     },
     "execution_count": 18,
     "metadata": {},
     "output_type": "execute_result"
    }
   ],
   "source": [
    "%%time\n",
    "target_predicted = model_transformed_target.predict(data_test)\n",
    "predicted_actual = {\n",
    "    \"True values (k$)\": target_test, \n",
    "    \"Predicted values (k$)\": target_predicted\n",
    "}\n",
    "predicted_actual = pd.DataFrame(predicted_actual)\n",
    "predicted_actual.head()"
   ]
  },
  {
   "cell_type": "code",
   "execution_count": 19,
   "id": "03007a8d",
   "metadata": {},
   "outputs": [
    {
     "data": {
      "image/png": "[encoded data removed]",
      "text/plain": [
       "<Figure size 432x288 with 1 Axes>"
      ]
     },
     "metadata": {
      "needs_background": "light"
     },
     "output_type": "display_data"
    }
   ],
   "source": [
    "sns.scatterplot(data=predicted_actual,\n",
    "    x=\"True values (k$)\", y=\"Predicted values (k$)\",\n",
    "    color=\"black\", alpha=0.5\n",
    ")\n",
    "plt.axline((0, 0), slope=1, label=\"Perfect fit\")\n",
    "plt.axis('square')\n",
    "plt.legend()\n",
    "_ = plt.title(\"Regression using a model that \\n\"\n",
    "    \"transform the target before fitting\")"
   ]
  },
  {
   "cell_type": "markdown",
   "id": "2c2acd4d",
   "metadata": {},
   "source": [
    "Thus, once we transformed the target, we see that we corrected some of the\n",
    "high values."
   ]
  }
 ],
 "metadata": {
  "jupytext": {
   "cell_metadata_filter": "-all",
   "main_language": "python",
   "notebook_metadata_filter": "-all"
  },
  "kernelspec": {
   "display_name": "Python 3",
   "language": "python",
   "name": "python3"
  },
  "language_info": {
   "codemirror_mode": {
    "name": "ipython",
    "version": 3
   },
   "file_extension": ".py",
   "mimetype": "text/x-python",
   "name": "python",
   "nbconvert_exporter": "python",
   "pygments_lexer": "ipython3",
   "version": "3.8.10"
  },
  "nbreset": "https://github.com/INRIA/scikit-learn-mooc/raw/master/notebooks/metrics_regression.ipynb"
 },
 "nbformat": 4,
 "nbformat_minor": 5
}
