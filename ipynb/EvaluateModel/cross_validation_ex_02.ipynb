{
 "cells": [
  {
   "cell_type": "markdown",
   "id": "7a1d9f1a",
   "metadata": {},
   "source": [
    "# 📝 Exercise M7.01\n",
    "\n",
    "This notebook aims at building baseline classifiers, which we'll use to\n",
    "compare our predictive model. Besides, we will check the differences with\n",
    "the baselines that we saw in regression.\n",
    "\n",
    "We will use the adult census dataset, using only the numerical features."
   ]
  },
  {
   "cell_type": "code",
   "execution_count": 1,
   "id": "87834b10-24f7-46b3-a63a-27f471a3b748",
   "metadata": {},
   "outputs": [],
   "source": [
    "import os\n",
    "\n",
    "os.makedirs(\"../../datasets\", exist_ok=True)"
   ]
  },
  {
   "cell_type": "code",
   "execution_count": 2,
   "id": "ccb01c45-1996-4d2a-90b8-c83e1651bfc3",
   "metadata": {},
   "outputs": [],
   "source": [
    "%%bash\n",
    "\n",
    "wget -qO \"../../datasets/adult-census-numeric-all.csv\" \"https://github.com/INRIA/scikit-learn-mooc/raw/master/datasets/adult-census-numeric-all.csv\""
   ]
  },
  {
   "cell_type": "code",
   "execution_count": 3,
   "id": "57c98efd",
   "metadata": {},
   "outputs": [
    {
     "name": "stdout",
     "output_type": "stream",
     "text": [
      "<class 'pandas.core.frame.DataFrame'>\n",
      "RangeIndex: 48842 entries, 0 to 48841\n",
      "Data columns (total 6 columns):\n",
      " #   Column          Non-Null Count  Dtype \n",
      "---  ------          --------------  ----- \n",
      " 0   age             48842 non-null  int64 \n",
      " 1   education-num   48842 non-null  int64 \n",
      " 2   capital-gain    48842 non-null  int64 \n",
      " 3   capital-loss    48842 non-null  int64 \n",
      " 4   hours-per-week  48842 non-null  int64 \n",
      " 5   class           48842 non-null  object\n",
      "dtypes: int64(5), object(1)\n",
      "memory usage: 2.2+ MB\n"
     ]
    }
   ],
   "source": [
    "import pandas as pd\n",
    "\n",
    "adult_census = pd.read_csv(\"../../datasets/adult-census-numeric-all.csv\")\n",
    "data, target = adult_census.drop(columns=\"class\"), adult_census[\"class\"]\n",
    "adult_census.info()"
   ]
  },
  {
   "cell_type": "markdown",
   "id": "ad3dfbdc",
   "metadata": {},
   "source": [
    "First, define a `ShuffleSplit` cross-validation strategy taking half of the\n",
    "sample as a testing at each round."
   ]
  },
  {
   "cell_type": "code",
   "execution_count": 4,
   "id": "41a0dd1a",
   "metadata": {},
   "outputs": [],
   "source": [
    "from sklearn.model_selection import ShuffleSplit\n",
    "\n",
    "cv = ShuffleSplit(n_splits=10, test_size=0.5, random_state=0)"
   ]
  },
  {
   "cell_type": "markdown",
   "id": "ada820a1-aa90-4e5c-9d15-8cc13c436421",
   "metadata": {},
   "source": [
    "We can display an interactive diagram with the following command:"
   ]
  },
  {
   "cell_type": "code",
   "execution_count": 6,
   "id": "7e2ef8f3-9d60-47a9-b863-8ca443a37059",
   "metadata": {},
   "outputs": [],
   "source": [
    "from sklearn import set_config\n",
    "set_config(display='diagram')"
   ]
  },
  {
   "cell_type": "markdown",
   "id": "4a506b9c",
   "metadata": {},
   "source": [
    "Next, create a machine learning pipeline composed of a transformer to\n",
    "standardize the data followed by a logistic regression."
   ]
  },
  {
   "cell_type": "code",
   "execution_count": 7,
   "id": "f6604033",
   "metadata": {},
   "outputs": [
    {
     "data": {
      "text/html": [
       "<style>#sk-34042e4a-4f65-40a6-802d-95c86ab3e153 {color: black;background-color: white;}#sk-34042e4a-4f65-40a6-802d-95c86ab3e153 pre{padding: 0;}#sk-34042e4a-4f65-40a6-802d-95c86ab3e153 div.sk-toggleable {background-color: white;}#sk-34042e4a-4f65-40a6-802d-95c86ab3e153 label.sk-toggleable__label {cursor: pointer;display: block;width: 100%;margin-bottom: 0;padding: 0.2em 0.3em;box-sizing: border-box;text-align: center;}#sk-34042e4a-4f65-40a6-802d-95c86ab3e153 div.sk-toggleable__content {max-height: 0;max-width: 0;overflow: hidden;text-align: left;background-color: #f0f8ff;}#sk-34042e4a-4f65-40a6-802d-95c86ab3e153 div.sk-toggleable__content pre {margin: 0.2em;color: black;border-radius: 0.25em;background-color: #f0f8ff;}#sk-34042e4a-4f65-40a6-802d-95c86ab3e153 input.sk-toggleable__control:checked~div.sk-toggleable__content {max-height: 200px;max-width: 100%;overflow: auto;}#sk-34042e4a-4f65-40a6-802d-95c86ab3e153 div.sk-estimator input.sk-toggleable__control:checked~label.sk-toggleable__label {background-color: #d4ebff;}#sk-34042e4a-4f65-40a6-802d-95c86ab3e153 div.sk-label input.sk-toggleable__control:checked~label.sk-toggleable__label {background-color: #d4ebff;}#sk-34042e4a-4f65-40a6-802d-95c86ab3e153 input.sk-hidden--visually {border: 0;clip: rect(1px 1px 1px 1px);clip: rect(1px, 1px, 1px, 1px);height: 1px;margin: -1px;overflow: hidden;padding: 0;position: absolute;width: 1px;}#sk-34042e4a-4f65-40a6-802d-95c86ab3e153 div.sk-estimator {font-family: monospace;background-color: #f0f8ff;margin: 0.25em 0.25em;border: 1px dotted black;border-radius: 0.25em;box-sizing: border-box;}#sk-34042e4a-4f65-40a6-802d-95c86ab3e153 div.sk-estimator:hover {background-color: #d4ebff;}#sk-34042e4a-4f65-40a6-802d-95c86ab3e153 div.sk-parallel-item::after {content: \"\";width: 100%;border-bottom: 1px solid gray;flex-grow: 1;}#sk-34042e4a-4f65-40a6-802d-95c86ab3e153 div.sk-label:hover label.sk-toggleable__label {background-color: #d4ebff;}#sk-34042e4a-4f65-40a6-802d-95c86ab3e153 div.sk-serial::before {content: \"\";position: absolute;border-left: 1px solid gray;box-sizing: border-box;top: 2em;bottom: 0;left: 50%;}#sk-34042e4a-4f65-40a6-802d-95c86ab3e153 div.sk-serial {display: flex;flex-direction: column;align-items: center;background-color: white;}#sk-34042e4a-4f65-40a6-802d-95c86ab3e153 div.sk-item {z-index: 1;}#sk-34042e4a-4f65-40a6-802d-95c86ab3e153 div.sk-parallel {display: flex;align-items: stretch;justify-content: center;background-color: white;}#sk-34042e4a-4f65-40a6-802d-95c86ab3e153 div.sk-parallel-item {display: flex;flex-direction: column;position: relative;background-color: white;}#sk-34042e4a-4f65-40a6-802d-95c86ab3e153 div.sk-parallel-item:first-child::after {align-self: flex-end;width: 50%;}#sk-34042e4a-4f65-40a6-802d-95c86ab3e153 div.sk-parallel-item:last-child::after {align-self: flex-start;width: 50%;}#sk-34042e4a-4f65-40a6-802d-95c86ab3e153 div.sk-parallel-item:only-child::after {width: 0;}#sk-34042e4a-4f65-40a6-802d-95c86ab3e153 div.sk-dashed-wrapped {border: 1px dashed gray;margin: 0.2em;box-sizing: border-box;padding-bottom: 0.1em;background-color: white;position: relative;}#sk-34042e4a-4f65-40a6-802d-95c86ab3e153 div.sk-label label {font-family: monospace;font-weight: bold;background-color: white;display: inline-block;line-height: 1.2em;}#sk-34042e4a-4f65-40a6-802d-95c86ab3e153 div.sk-label-container {position: relative;z-index: 2;text-align: center;}#sk-34042e4a-4f65-40a6-802d-95c86ab3e153 div.sk-container {display: inline-block;position: relative;}</style><div id=\"sk-34042e4a-4f65-40a6-802d-95c86ab3e153\" class\"sk-top-container\"><div class=\"sk-container\"><div class=\"sk-item sk-dashed-wrapped\"><div class=\"sk-label-container\"><div class=\"sk-label sk-toggleable\"><input class=\"sk-toggleable__control sk-hidden--visually\" id=\"d249fbe2-5d9a-478a-8746-34a57e600366\" type=\"checkbox\" ><label class=\"sk-toggleable__label\" for=\"d249fbe2-5d9a-478a-8746-34a57e600366\">Pipeline</label><div class=\"sk-toggleable__content\"><pre>Pipeline(steps=[('standardscaler', StandardScaler()),\n",
       "                ('logisticregression', LogisticRegression())])</pre></div></div></div><div class=\"sk-serial\"><div class=\"sk-item\"><div class=\"sk-estimator sk-toggleable\"><input class=\"sk-toggleable__control sk-hidden--visually\" id=\"3f947ebf-9164-4cf4-814b-7cae8d28c8fd\" type=\"checkbox\" ><label class=\"sk-toggleable__label\" for=\"3f947ebf-9164-4cf4-814b-7cae8d28c8fd\">StandardScaler</label><div class=\"sk-toggleable__content\"><pre>StandardScaler()</pre></div></div></div><div class=\"sk-item\"><div class=\"sk-estimator sk-toggleable\"><input class=\"sk-toggleable__control sk-hidden--visually\" id=\"48544885-353b-4c24-b503-dedb432f818d\" type=\"checkbox\" ><label class=\"sk-toggleable__label\" for=\"48544885-353b-4c24-b503-dedb432f818d\">LogisticRegression</label><div class=\"sk-toggleable__content\"><pre>LogisticRegression()</pre></div></div></div></div></div></div></div>"
      ],
      "text/plain": [
       "Pipeline(steps=[('standardscaler', StandardScaler()),\n",
       "                ('logisticregression', LogisticRegression())])"
      ]
     },
     "execution_count": 7,
     "metadata": {},
     "output_type": "execute_result"
    }
   ],
   "source": [
    "from sklearn.pipeline import make_pipeline\n",
    "from sklearn.preprocessing import StandardScaler\n",
    "from sklearn.linear_model import LogisticRegression\n",
    "\n",
    "classifier = make_pipeline(StandardScaler(),\n",
    "    LogisticRegression())\n",
    "classifier"
   ]
  },
  {
   "cell_type": "markdown",
   "id": "36877514",
   "metadata": {},
   "source": [
    "Get the test score by using the model, the data, and the cross-validation\n",
    "strategy that you defined above."
   ]
  },
  {
   "cell_type": "code",
   "execution_count": 9,
   "id": "80c5ac13",
   "metadata": {},
   "outputs": [
    {
     "data": {
      "text/plain": [
       "0    0.815937\n",
       "1    0.813849\n",
       "2    0.815036\n",
       "3    0.815569\n",
       "4    0.810982\n",
       "Name: Classfier score, dtype: float64"
      ]
     },
     "execution_count": 9,
     "metadata": {},
     "output_type": "execute_result"
    }
   ],
   "source": [
    "from sklearn.model_selection import cross_validate\n",
    "\n",
    "result_classifier = cross_validate(classifier, data, target,\n",
    "    cv=cv, n_jobs=2)\n",
    "test_score_classifier = pd.Series(result_classifier['test_score'],\n",
    "    name='Classfier score')\n",
    "test_score_classifier.head()"
   ]
  },
  {
   "cell_type": "markdown",
   "id": "f699541b",
   "metadata": {},
   "source": [
    "Using the `sklearn.model_selection.permutation_test_score` function,\n",
    "check the chance level of the previous model."
   ]
  },
  {
   "cell_type": "code",
   "execution_count": 10,
   "id": "31cb5ef8",
   "metadata": {},
   "outputs": [
    {
     "data": {
      "text/plain": [
       "0    0.760112\n",
       "1    0.761238\n",
       "2    0.760550\n",
       "3    0.761398\n",
       "4    0.761001\n",
       "Name: Permuted score, dtype: float64"
      ]
     },
     "execution_count": 10,
     "metadata": {},
     "output_type": "execute_result"
    }
   ],
   "source": [
    "from sklearn.model_selection import permutation_test_score\n",
    "\n",
    "score, permutation_score, pvalue = permutation_test_score(\n",
    "    classifier, data, target, cv=cv, n_jobs=2, n_permutations=10)\n",
    "test_score_permutation = pd.Series(permutation_score, \n",
    "    name=\"Permuted score\")\n",
    "test_score_permutation.head()"
   ]
  },
  {
   "cell_type": "markdown",
   "id": "4072a93e",
   "metadata": {},
   "source": [
    "Finally, compute the test score of a dummy classifier which would predict\n",
    "the most frequent class from the training set. You can look at the\n",
    "`sklearn.dummy.DummyClassifier` class."
   ]
  },
  {
   "cell_type": "code",
   "execution_count": 12,
   "id": "8e980487",
   "metadata": {},
   "outputs": [
    {
     "data": {
      "text/plain": [
       "0    0.760329\n",
       "1    0.756808\n",
       "2    0.759142\n",
       "3    0.760739\n",
       "4    0.761681\n",
       "Name: Dummy score, dtype: float64"
      ]
     },
     "execution_count": 12,
     "metadata": {},
     "output_type": "execute_result"
    }
   ],
   "source": [
    "from sklearn.dummy import DummyClassifier\n",
    "\n",
    "dummy = DummyClassifier(strategy='most_frequent')\n",
    "result_dummy = cross_validate(dummy, data, target,\n",
    "    cv=cv, n_jobs=2)\n",
    "test_score_dummy = pd.Series(result_dummy['test_score'], \n",
    "    name='Dummy score')\n",
    "test_score_dummy.head()"
   ]
  },
  {
   "cell_type": "markdown",
   "id": "86655245",
   "metadata": {},
   "source": [
    "Now that we collected the results from the baselines and the model, plot\n",
    "the distributions of the different test scores."
   ]
  },
  {
   "cell_type": "markdown",
   "id": "f7fc8df2",
   "metadata": {},
   "source": [
    "We concatenate the different test score in the same pandas dataframe."
   ]
  },
  {
   "cell_type": "code",
   "execution_count": 13,
   "id": "60948c98",
   "metadata": {},
   "outputs": [
    {
     "name": "stdout",
     "output_type": "stream",
     "text": [
      "<class 'pandas.core.frame.DataFrame'>\n",
      "RangeIndex: 10 entries, 0 to 9\n",
      "Data columns (total 3 columns):\n",
      " #   Column           Non-Null Count  Dtype  \n",
      "---  ------           --------------  -----  \n",
      " 0   Classfier score  10 non-null     float64\n",
      " 1   Permuted score   10 non-null     float64\n",
      " 2   Dummy score      10 non-null     float64\n",
      "dtypes: float64(3)\n",
      "memory usage: 368.0 bytes\n"
     ]
    }
   ],
   "source": [
    "final_test_scores = pd.concat([test_score_classifier, \n",
    "    test_score_permutation, test_score_dummy], axis=1)\n",
    "final_test_scores.info()"
   ]
  },
  {
   "cell_type": "markdown",
   "id": "e247a128",
   "metadata": {},
   "source": [
    "Next, plot the distributions of the test scores."
   ]
  },
  {
   "cell_type": "code",
   "execution_count": 15,
   "id": "11314cdc",
   "metadata": {},
   "outputs": [
    {
     "data": {
      "image/png": "[encoded data removed]",
      "text/plain": [
       "<Figure size 432x288 with 1 Axes>"
      ]
     },
     "metadata": {
      "needs_background": "light"
     },
     "output_type": "display_data"
    }
   ],
   "source": [
    "import matplotlib.pyplot as plt\n",
    "\n",
    "final_test_scores.plot.hist(bins=50, density=True, edgecolor='black')\n",
    "plt.legend(bbox_to_anchor=(1.05, 0.8), loc='upper left')\n",
    "plt.xlabel(\"Accuracy (%)\")\n",
    "_ = plt.title(\"Distribution of the test scores\")"
   ]
  },
  {
   "cell_type": "markdown",
   "id": "49278cf7",
   "metadata": {},
   "source": [
    "We observe that the dummy classifier with the strategy `most_frequent` is equivalent to the permutation score. We can also conclude that our model is better than the other baseline.\n",
    "\n",
    "Change the strategy of the dummy classifier to `stratified`, compute the\n",
    "results and plot the distribution together with the other results. Explain\n",
    "why the results get worse."
   ]
  },
  {
   "cell_type": "code",
   "execution_count": 16,
   "id": "6c1c9a5b",
   "metadata": {},
   "outputs": [
    {
     "data": {
      "text/plain": [
       "0    0.636133\n",
       "1    0.639163\n",
       "2    0.637607\n",
       "3    0.633144\n",
       "4    0.634904\n",
       "Name: Dummy 'stratify' score, dtype: float64"
      ]
     },
     "execution_count": 16,
     "metadata": {},
     "output_type": "execute_result"
    }
   ],
   "source": [
    "dummy = DummyClassifier(strategy='stratified')\n",
    "result_dummy_stratify = cross_validate(dummy, data, target,\n",
    "    cv=cv, n_jobs=2)\n",
    "test_score_dummy_stratify = pd.Series(\n",
    "    result_dummy_stratify['test_score'], \n",
    "    name=\"Dummy 'stratify' score\")\n",
    "test_score_dummy_stratify.head()"
   ]
  },
  {
   "cell_type": "code",
   "execution_count": 17,
   "id": "0031d36a-8140-4805-a445-dd68047a7a38",
   "metadata": {},
   "outputs": [
    {
     "name": "stdout",
     "output_type": "stream",
     "text": [
      "<class 'pandas.core.frame.DataFrame'>\n",
      "RangeIndex: 10 entries, 0 to 9\n",
      "Data columns (total 4 columns):\n",
      " #   Column                  Non-Null Count  Dtype  \n",
      "---  ------                  --------------  -----  \n",
      " 0   Classfier score         10 non-null     float64\n",
      " 1   Permuted score          10 non-null     float64\n",
      " 2   Dummy score             10 non-null     float64\n",
      " 3   Dummy 'stratify' score  10 non-null     float64\n",
      "dtypes: float64(4)\n",
      "memory usage: 448.0 bytes\n"
     ]
    }
   ],
   "source": [
    "final_test_scores = pd.concat([\n",
    "    test_score_classifier, \n",
    "    test_score_permutation, \n",
    "    test_score_dummy, \n",
    "    test_score_dummy_stratify\n",
    "    ], axis=1)\n",
    "final_test_scores.info()"
   ]
  },
  {
   "cell_type": "code",
   "execution_count": 18,
   "id": "e6f42699-a73d-4513-ba04-c8c6f3f5381b",
   "metadata": {},
   "outputs": [
    {
     "data": {
      "image/png": "[encoded data removed]",
      "text/plain": [
       "<Figure size 432x288 with 1 Axes>"
      ]
     },
     "metadata": {
      "needs_background": "light"
     },
     "output_type": "display_data"
    }
   ],
   "source": [
    "final_test_scores.plot.hist(bins=50, density=True, edgecolor='black')\n",
    "plt.legend(bbox_to_anchor=(1.05, 0.8), loc='upper left')\n",
    "plt.xlabel(\"Accuracy (%)\")\n",
    "_ = plt.title(\"Distribution of the test scores\")"
   ]
  },
  {
   "cell_type": "markdown",
   "id": "33a1ac42-545a-438d-902a-49dca5af1d0d",
   "metadata": {},
   "source": [
    "We see that using `strategy=\"stratified\"`, the results are much worse than with the `most_frequent` strategy. Since the classes are imbalanced, predicting the most frequent involves that we will be right for the proportion of this class (~75% of the samples). However, by using the `stratified` strategy, wrong predictions will be made even for the most frequent class, hence we obtain a lower accuracy."
   ]
  }
 ],
 "metadata": {
  "jupytext": {
   "cell_metadata_filter": "-all",
   "main_language": "python",
   "notebook_metadata_filter": "-all"
  },
  "kernelspec": {
   "display_name": "Python 3",
   "language": "python",
   "name": "python3"
  },
  "language_info": {
   "codemirror_mode": {
    "name": "ipython",
    "version": 3
   },
   "file_extension": ".py",
   "mimetype": "text/x-python",
   "name": "python",
   "nbconvert_exporter": "python",
   "pygments_lexer": "ipython3",
   "version": "3.8.10"
  },
  "nbreset": "https://github.com/INRIA/scikit-learn-mooc/raw/master/notebooks/cross_validation_ex_02.ipynb"
 },
 "nbformat": 4,
 "nbformat_minor": 5
}
