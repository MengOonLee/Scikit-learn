{
 "cells": [
  {
   "cell_type": "markdown",
   "id": "0ecbb709",
   "metadata": {},
   "source": [
    "# 📝 Introductory exercise regarding stratification\n",
    "\n",
    "The goal of this exercise is to highlight one limitation of\n",
    "applying blindly a k-fold cross-validation.\n",
    "\n",
    "In this exercise we will use the iris dataset."
   ]
  },
  {
   "cell_type": "code",
   "execution_count": 1,
   "id": "d3e79cae",
   "metadata": {},
   "outputs": [
    {
     "name": "stdout",
     "output_type": "stream",
     "text": [
      "<class 'pandas.core.frame.DataFrame'>\n",
      "RangeIndex: 150 entries, 0 to 149\n",
      "Data columns (total 4 columns):\n",
      " #   Column             Non-Null Count  Dtype  \n",
      "---  ------             --------------  -----  \n",
      " 0   sepal length (cm)  150 non-null    float64\n",
      " 1   sepal width (cm)   150 non-null    float64\n",
      " 2   petal length (cm)  150 non-null    float64\n",
      " 3   petal width (cm)   150 non-null    float64\n",
      "dtypes: float64(4)\n",
      "memory usage: 4.8 KB\n"
     ]
    }
   ],
   "source": [
    "from sklearn.datasets import load_iris\n",
    "\n",
    "data, target = load_iris(return_X_y=True, as_frame=True)\n",
    "data.info()"
   ]
  },
  {
   "cell_type": "markdown",
   "id": "53eb3fbe-e133-4a21-9453-1c3558e3c949",
   "metadata": {},
   "source": [
    "We can display an interactive diagram with the following command:"
   ]
  },
  {
   "cell_type": "code",
   "execution_count": 2,
   "id": "e46a8266-7965-425c-875d-023e3fde03f5",
   "metadata": {},
   "outputs": [],
   "source": [
    "from sklearn import set_config\n",
    "set_config(display='diagram')"
   ]
  },
  {
   "cell_type": "markdown",
   "id": "dd973e58",
   "metadata": {},
   "source": [
    "Create a decision tree classifier that we will use in the next experiments."
   ]
  },
  {
   "cell_type": "code",
   "execution_count": 3,
   "id": "375d0eb3",
   "metadata": {},
   "outputs": [
    {
     "data": {
      "text/html": [
       "<style>#sk-7692370c-edbf-4d51-9fa5-27bc254d56b0 {color: black;background-color: white;}#sk-7692370c-edbf-4d51-9fa5-27bc254d56b0 pre{padding: 0;}#sk-7692370c-edbf-4d51-9fa5-27bc254d56b0 div.sk-toggleable {background-color: white;}#sk-7692370c-edbf-4d51-9fa5-27bc254d56b0 label.sk-toggleable__label {cursor: pointer;display: block;width: 100%;margin-bottom: 0;padding: 0.2em 0.3em;box-sizing: border-box;text-align: center;}#sk-7692370c-edbf-4d51-9fa5-27bc254d56b0 div.sk-toggleable__content {max-height: 0;max-width: 0;overflow: hidden;text-align: left;background-color: #f0f8ff;}#sk-7692370c-edbf-4d51-9fa5-27bc254d56b0 div.sk-toggleable__content pre {margin: 0.2em;color: black;border-radius: 0.25em;background-color: #f0f8ff;}#sk-7692370c-edbf-4d51-9fa5-27bc254d56b0 input.sk-toggleable__control:checked~div.sk-toggleable__content {max-height: 200px;max-width: 100%;overflow: auto;}#sk-7692370c-edbf-4d51-9fa5-27bc254d56b0 div.sk-estimator input.sk-toggleable__control:checked~label.sk-toggleable__label {background-color: #d4ebff;}#sk-7692370c-edbf-4d51-9fa5-27bc254d56b0 div.sk-label input.sk-toggleable__control:checked~label.sk-toggleable__label {background-color: #d4ebff;}#sk-7692370c-edbf-4d51-9fa5-27bc254d56b0 input.sk-hidden--visually {border: 0;clip: rect(1px 1px 1px 1px);clip: rect(1px, 1px, 1px, 1px);height: 1px;margin: -1px;overflow: hidden;padding: 0;position: absolute;width: 1px;}#sk-7692370c-edbf-4d51-9fa5-27bc254d56b0 div.sk-estimator {font-family: monospace;background-color: #f0f8ff;margin: 0.25em 0.25em;border: 1px dotted black;border-radius: 0.25em;box-sizing: border-box;}#sk-7692370c-edbf-4d51-9fa5-27bc254d56b0 div.sk-estimator:hover {background-color: #d4ebff;}#sk-7692370c-edbf-4d51-9fa5-27bc254d56b0 div.sk-parallel-item::after {content: \"\";width: 100%;border-bottom: 1px solid gray;flex-grow: 1;}#sk-7692370c-edbf-4d51-9fa5-27bc254d56b0 div.sk-label:hover label.sk-toggleable__label {background-color: #d4ebff;}#sk-7692370c-edbf-4d51-9fa5-27bc254d56b0 div.sk-serial::before {content: \"\";position: absolute;border-left: 1px solid gray;box-sizing: border-box;top: 2em;bottom: 0;left: 50%;}#sk-7692370c-edbf-4d51-9fa5-27bc254d56b0 div.sk-serial {display: flex;flex-direction: column;align-items: center;background-color: white;}#sk-7692370c-edbf-4d51-9fa5-27bc254d56b0 div.sk-item {z-index: 1;}#sk-7692370c-edbf-4d51-9fa5-27bc254d56b0 div.sk-parallel {display: flex;align-items: stretch;justify-content: center;background-color: white;}#sk-7692370c-edbf-4d51-9fa5-27bc254d56b0 div.sk-parallel-item {display: flex;flex-direction: column;position: relative;background-color: white;}#sk-7692370c-edbf-4d51-9fa5-27bc254d56b0 div.sk-parallel-item:first-child::after {align-self: flex-end;width: 50%;}#sk-7692370c-edbf-4d51-9fa5-27bc254d56b0 div.sk-parallel-item:last-child::after {align-self: flex-start;width: 50%;}#sk-7692370c-edbf-4d51-9fa5-27bc254d56b0 div.sk-parallel-item:only-child::after {width: 0;}#sk-7692370c-edbf-4d51-9fa5-27bc254d56b0 div.sk-dashed-wrapped {border: 1px dashed gray;margin: 0.2em;box-sizing: border-box;padding-bottom: 0.1em;background-color: white;position: relative;}#sk-7692370c-edbf-4d51-9fa5-27bc254d56b0 div.sk-label label {font-family: monospace;font-weight: bold;background-color: white;display: inline-block;line-height: 1.2em;}#sk-7692370c-edbf-4d51-9fa5-27bc254d56b0 div.sk-label-container {position: relative;z-index: 2;text-align: center;}#sk-7692370c-edbf-4d51-9fa5-27bc254d56b0 div.sk-container {display: inline-block;position: relative;}</style><div id=\"sk-7692370c-edbf-4d51-9fa5-27bc254d56b0\" class\"sk-top-container\"><div class=\"sk-container\"><div class=\"sk-item\"><div class=\"sk-estimator sk-toggleable\"><input class=\"sk-toggleable__control sk-hidden--visually\" id=\"f1be86b4-2a80-40f9-b839-403494f37d4b\" type=\"checkbox\" checked><label class=\"sk-toggleable__label\" for=\"f1be86b4-2a80-40f9-b839-403494f37d4b\">DecisionTreeClassifier</label><div class=\"sk-toggleable__content\"><pre>DecisionTreeClassifier(random_state=0)</pre></div></div></div></div></div>"
      ],
      "text/plain": [
       "DecisionTreeClassifier(random_state=0)"
      ]
     },
     "execution_count": 3,
     "metadata": {},
     "output_type": "execute_result"
    }
   ],
   "source": [
    "from sklearn.tree import DecisionTreeClassifier\n",
    "\n",
    "tree = DecisionTreeClassifier(random_state=0)\n",
    "tree"
   ]
  },
  {
   "cell_type": "markdown",
   "id": "93d5e416",
   "metadata": {},
   "source": [
    "As a first experiment, use the utility\n",
    "`sklearn.model_selection.train_test_split` to split the data into a train\n",
    "and test set. Train the classifier using the train set and check the score\n",
    "on the test set."
   ]
  },
  {
   "cell_type": "code",
   "execution_count": 11,
   "id": "4fe8354f",
   "metadata": {},
   "outputs": [
    {
     "name": "stdout",
     "output_type": "stream",
     "text": [
      "The test score: 0.974\n",
      "CPU times: user 9.07 ms, sys: 79 µs, total: 9.15 ms\n",
      "Wall time: 7.87 ms\n"
     ]
    }
   ],
   "source": [
    "%%time\n",
    "from sklearn.model_selection import train_test_split\n",
    "\n",
    "data_train, data_test, target_train, target_test = train_test_split(\n",
    "    data, target, random_state=0)\n",
    "tree.fit(data_train, target_train)\n",
    "test_score = tree.score(data_test, target_test)\n",
    "print(f\"The test score: {test_score:.3f}\")"
   ]
  },
  {
   "cell_type": "markdown",
   "id": "5fed3283",
   "metadata": {},
   "source": [
    "Now, use the utility `sklearn.model_selection.cross_val_score` with a\n",
    "`sklearn.model_selection.KFold` by setting only `n_splits=3`. Check the\n",
    "results on each fold. Explain the results."
   ]
  },
  {
   "cell_type": "code",
   "execution_count": 16,
   "id": "e397399d",
   "metadata": {},
   "outputs": [
    {
     "name": "stdout",
     "output_type": "stream",
     "text": [
      "The average score: 0.000\n",
      "CPU times: user 9 ms, sys: 24.3 ms, total: 33.3 ms\n",
      "Wall time: 665 ms\n"
     ]
    }
   ],
   "source": [
    "%%time\n",
    "from sklearn.model_selection import KFold, cross_val_score\n",
    "\n",
    "n_splits=3\n",
    "cv = KFold(n_splits=n_splits)\n",
    "scores_tree = cross_val_score(tree, data, target,\n",
    "    cv=cv, n_jobs=2)\n",
    "print(f\"The average score: {scores_tree.mean():.3f}\")"
   ]
  },
  {
   "cell_type": "markdown",
   "id": "54a7ad69-dc9a-4cd3-bdf3-f1652805b723",
   "metadata": {},
   "source": [
    "It is a real surprise that our model cannot correctly classify any sample in\n",
    "any cross-validation split. We will now check our target's value to\n",
    "understand the issue."
   ]
  },
  {
   "cell_type": "code",
   "execution_count": 13,
   "id": "95e70699-4ff0-4668-b91a-522fadaf5782",
   "metadata": {},
   "outputs": [
    {
     "data": {
      "image/png": "[encoded data removed]",
      "text/plain": [
       "<Figure size 432x288 with 1 Axes>"
      ]
     },
     "metadata": {
      "needs_background": "light"
     },
     "output_type": "display_data"
    }
   ],
   "source": [
    "import matplotlib.pyplot as plt\n",
    "\n",
    "target.plot()\n",
    "plt.xlabel(\"Sample index\")\n",
    "plt.ylabel(\"Class\")\n",
    "plt.yticks(target.unique())\n",
    "_ = plt.title(\"Class value in target y\")"
   ]
  },
  {
   "cell_type": "markdown",
   "id": "71fe143a-85f5-4647-9d3a-785f0922e245",
   "metadata": {},
   "source": [
    "We see that the target vector `target` is ordered. It will have some\n",
    "unexpected consequences when using the `KFold` cross-validation. To\n",
    "illustrate the consequences, we will show the class count in each fold of the\n",
    "cross-validation in the train and test set.\n",
    "\n",
    "Let's compute the class counts for both the training and testing sets using\n",
    "the `KFold` cross-validation, and plot these information in a bar plot.\n",
    "\n",
    "We will iterate given the number of split and check how many samples of each\n",
    "are present in the training and testing set. We will store the information\n",
    "into two distincts lists; one for the training set and one for the testing\n",
    "set."
   ]
  },
  {
   "cell_type": "code",
   "execution_count": 14,
   "id": "b862bb9e-abae-4b0b-8c09-bd6224774f07",
   "metadata": {},
   "outputs": [],
   "source": [
    "import pandas as pd\n",
    "\n",
    "train_cv_counts = []\n",
    "test_cv_counts = []\n",
    "for fold_idx, (train_idx, test_idx) in enumerate(cv.split(data, target)):\n",
    "    target_train, target_test = target.iloc[train_idx], target.iloc[test_idx]\n",
    "    train_cv_counts.append(target_train.value_counts())\n",
    "    test_cv_counts.append(target_test.value_counts())"
   ]
  },
  {
   "cell_type": "markdown",
   "id": "60b21627-c7c6-4ca2-89f8-9a8dd90f51b6",
   "metadata": {},
   "source": [
    "To plot the information on a single figure, we will concatenate the\n",
    "information regarding the fold within the same dataset. We can represent graphically this information with bar plots."
   ]
  },
  {
   "cell_type": "code",
   "execution_count": 17,
   "id": "c2b1b51a-d95d-4109-8761-290721375e23",
   "metadata": {},
   "outputs": [
    {
     "data": {
      "image/png": "[encoded data removed]",
      "text/plain": [
       "<Figure size 432x288 with 1 Axes>"
      ]
     },
     "metadata": {
      "needs_background": "light"
     },
     "output_type": "display_data"
    }
   ],
   "source": [
    "train_cv_counts = pd.concat(train_cv_counts, axis=1,\n",
    "    keys=[f\"Fold #{idx}\" for idx in range(n_splits)])\n",
    "train_cv_counts.index.name = \"Class label\"\n",
    "\n",
    "train_cv_counts.plot.bar()\n",
    "plt.legend(bbox_to_anchor=(1.05, 0.8), loc=\"upper left\")\n",
    "plt.ylabel(\"Count\")\n",
    "_ = plt.title(\"Training set\")"
   ]
  },
  {
   "cell_type": "code",
   "execution_count": 18,
   "id": "657f27ad-4d47-4d16-86c0-470d5c4c7c93",
   "metadata": {},
   "outputs": [
    {
     "data": {
      "image/png": "[encoded data removed]",
      "text/plain": [
       "<Figure size 432x288 with 1 Axes>"
      ]
     },
     "metadata": {
      "needs_background": "light"
     },
     "output_type": "display_data"
    }
   ],
   "source": [
    "test_cv_counts = pd.concat(test_cv_counts, axis=1,\n",
    "    keys=[f\"Fold #{idx}\" for idx in range(n_splits)])\n",
    "test_cv_counts.index.name = \"Class label\"\n",
    "\n",
    "test_cv_counts.plot.bar()\n",
    "plt.legend(bbox_to_anchor=(1.05, 0.8), loc=\"upper left\")\n",
    "plt.ylabel(\"Count\")\n",
    "_ = plt.title(\"Test set\")"
   ]
  },
  {
   "cell_type": "markdown",
   "id": "420200f5-5a1d-4040-899d-d6f0f04961b6",
   "metadata": {},
   "source": [
    "We can confirm that in each fold, only two of the three classes are present in the training set and all samples of the remaining class is used as a test set. So our model is unable to predict this class that was unseen during the training stage."
   ]
  }
 ],
 "metadata": {
  "jupytext": {
   "cell_metadata_filter": "-all",
   "main_language": "python",
   "notebook_metadata_filter": "-all"
  },
  "kernelspec": {
   "display_name": "Python 3",
   "language": "python",
   "name": "python3"
  },
  "language_info": {
   "codemirror_mode": {
    "name": "ipython",
    "version": 3
   },
   "file_extension": ".py",
   "mimetype": "text/x-python",
   "name": "python",
   "nbconvert_exporter": "python",
   "pygments_lexer": "ipython3",
   "version": "3.8.10"
  },
  "nbreset": "https://github.com/INRIA/scikit-learn-mooc/raw/master/notebooks/cross_validation_ex_03.ipynb"
 },
 "nbformat": 4,
 "nbformat_minor": 5
}
