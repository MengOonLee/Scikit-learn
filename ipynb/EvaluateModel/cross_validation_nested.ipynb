{
 "cells": [
  {
   "cell_type": "markdown",
   "id": "d40e5f15",
   "metadata": {},
   "source": [
    "# Nested cross-validation\n",
    "\n",
    "In this notebook, we show a pattern called **nested cross-validation** which\n",
    "should be used when you want to both evaluate a model and tune the\n",
    "model's hyperparameters.\n",
    "\n",
    "Cross-validation is a powerful tool to evaluate the statistical performance\n",
    "of a model. It is also used to select the best model from a pool of models.\n",
    "This pool of models can be the same family of predictor but with different\n",
    "parameters. In this case, we call this procedure **hyperparameter tuning**.\n",
    "\n",
    "We could also imagine that we would like to choose among heterogeneous models\n",
    "that will similarly use the cross-validation.\n",
    "\n",
    "Before we go into details regarding the nested cross-validation, we will\n",
    "first recall the pattern used to fine tune a model's hyperparameters.\n",
    "\n",
    "Let's load the breast cancer dataset."
   ]
  },
  {
   "cell_type": "code",
   "execution_count": 1,
   "id": "e81daedd",
   "metadata": {},
   "outputs": [],
   "source": [
    "from sklearn.datasets import load_breast_cancer\n",
    "\n",
    "data, target = load_breast_cancer(return_X_y=True)"
   ]
  },
  {
   "cell_type": "markdown",
   "id": "074a9b9e-7912-45aa-83a7-42a9ea91ffc6",
   "metadata": {},
   "source": [
    "We can display an interactive diagram with the following command:"
   ]
  },
  {
   "cell_type": "code",
   "execution_count": 2,
   "id": "af37c09b-941e-47de-bbb2-9ec357b7aba3",
   "metadata": {},
   "outputs": [],
   "source": [
    "from sklearn import set_config\n",
    "set_config(display='diagram')"
   ]
  },
  {
   "cell_type": "markdown",
   "id": "825a86e8",
   "metadata": {},
   "source": [
    "Now, we'll make a minimal example using the utility `GridSearchCV` to find\n",
    "the best parameters via cross-validation."
   ]
  },
  {
   "cell_type": "code",
   "execution_count": 3,
   "id": "de89a570",
   "metadata": {},
   "outputs": [
    {
     "name": "stdout",
     "output_type": "stream",
     "text": [
      "CPU times: user 113 ms, sys: 80.2 ms, total: 193 ms\n",
      "Wall time: 1.13 s\n"
     ]
    },
    {
     "data": {
      "text/html": [
       "<style>#sk-37a61ff8-0e10-4302-91c6-fabb8ddd79b2 {color: black;background-color: white;}#sk-37a61ff8-0e10-4302-91c6-fabb8ddd79b2 pre{padding: 0;}#sk-37a61ff8-0e10-4302-91c6-fabb8ddd79b2 div.sk-toggleable {background-color: white;}#sk-37a61ff8-0e10-4302-91c6-fabb8ddd79b2 label.sk-toggleable__label {cursor: pointer;display: block;width: 100%;margin-bottom: 0;padding: 0.2em 0.3em;box-sizing: border-box;text-align: center;}#sk-37a61ff8-0e10-4302-91c6-fabb8ddd79b2 div.sk-toggleable__content {max-height: 0;max-width: 0;overflow: hidden;text-align: left;background-color: #f0f8ff;}#sk-37a61ff8-0e10-4302-91c6-fabb8ddd79b2 div.sk-toggleable__content pre {margin: 0.2em;color: black;border-radius: 0.25em;background-color: #f0f8ff;}#sk-37a61ff8-0e10-4302-91c6-fabb8ddd79b2 input.sk-toggleable__control:checked~div.sk-toggleable__content {max-height: 200px;max-width: 100%;overflow: auto;}#sk-37a61ff8-0e10-4302-91c6-fabb8ddd79b2 div.sk-estimator input.sk-toggleable__control:checked~label.sk-toggleable__label {background-color: #d4ebff;}#sk-37a61ff8-0e10-4302-91c6-fabb8ddd79b2 div.sk-label input.sk-toggleable__control:checked~label.sk-toggleable__label {background-color: #d4ebff;}#sk-37a61ff8-0e10-4302-91c6-fabb8ddd79b2 input.sk-hidden--visually {border: 0;clip: rect(1px 1px 1px 1px);clip: rect(1px, 1px, 1px, 1px);height: 1px;margin: -1px;overflow: hidden;padding: 0;position: absolute;width: 1px;}#sk-37a61ff8-0e10-4302-91c6-fabb8ddd79b2 div.sk-estimator {font-family: monospace;background-color: #f0f8ff;margin: 0.25em 0.25em;border: 1px dotted black;border-radius: 0.25em;box-sizing: border-box;}#sk-37a61ff8-0e10-4302-91c6-fabb8ddd79b2 div.sk-estimator:hover {background-color: #d4ebff;}#sk-37a61ff8-0e10-4302-91c6-fabb8ddd79b2 div.sk-parallel-item::after {content: \"\";width: 100%;border-bottom: 1px solid gray;flex-grow: 1;}#sk-37a61ff8-0e10-4302-91c6-fabb8ddd79b2 div.sk-label:hover label.sk-toggleable__label {background-color: #d4ebff;}#sk-37a61ff8-0e10-4302-91c6-fabb8ddd79b2 div.sk-serial::before {content: \"\";position: absolute;border-left: 1px solid gray;box-sizing: border-box;top: 2em;bottom: 0;left: 50%;}#sk-37a61ff8-0e10-4302-91c6-fabb8ddd79b2 div.sk-serial {display: flex;flex-direction: column;align-items: center;background-color: white;}#sk-37a61ff8-0e10-4302-91c6-fabb8ddd79b2 div.sk-item {z-index: 1;}#sk-37a61ff8-0e10-4302-91c6-fabb8ddd79b2 div.sk-parallel {display: flex;align-items: stretch;justify-content: center;background-color: white;}#sk-37a61ff8-0e10-4302-91c6-fabb8ddd79b2 div.sk-parallel-item {display: flex;flex-direction: column;position: relative;background-color: white;}#sk-37a61ff8-0e10-4302-91c6-fabb8ddd79b2 div.sk-parallel-item:first-child::after {align-self: flex-end;width: 50%;}#sk-37a61ff8-0e10-4302-91c6-fabb8ddd79b2 div.sk-parallel-item:last-child::after {align-self: flex-start;width: 50%;}#sk-37a61ff8-0e10-4302-91c6-fabb8ddd79b2 div.sk-parallel-item:only-child::after {width: 0;}#sk-37a61ff8-0e10-4302-91c6-fabb8ddd79b2 div.sk-dashed-wrapped {border: 1px dashed gray;margin: 0.2em;box-sizing: border-box;padding-bottom: 0.1em;background-color: white;position: relative;}#sk-37a61ff8-0e10-4302-91c6-fabb8ddd79b2 div.sk-label label {font-family: monospace;font-weight: bold;background-color: white;display: inline-block;line-height: 1.2em;}#sk-37a61ff8-0e10-4302-91c6-fabb8ddd79b2 div.sk-label-container {position: relative;z-index: 2;text-align: center;}#sk-37a61ff8-0e10-4302-91c6-fabb8ddd79b2 div.sk-container {display: inline-block;position: relative;}</style><div id=\"sk-37a61ff8-0e10-4302-91c6-fabb8ddd79b2\" class\"sk-top-container\"><div class=\"sk-container\"><div class=\"sk-item sk-dashed-wrapped\"><div class=\"sk-label-container\"><div class=\"sk-label sk-toggleable\"><input class=\"sk-toggleable__control sk-hidden--visually\" id=\"eb0b9eb3-3f19-45fc-8ede-330613150d17\" type=\"checkbox\" ><label class=\"sk-toggleable__label\" for=\"eb0b9eb3-3f19-45fc-8ede-330613150d17\">GridSearchCV</label><div class=\"sk-toggleable__content\"><pre>GridSearchCV(estimator=SVC(random_state=0), n_jobs=-1,\n",
       "             param_grid={'C': [0.1, 1, 10], 'gamma': [0.01, 0.1]})</pre></div></div></div><div class=\"sk-parallel\"><div class=\"sk-parallel-item\"><div class=\"sk-item\"><div class=\"sk-serial\"><div class=\"sk-item\"><div class=\"sk-estimator sk-toggleable\"><input class=\"sk-toggleable__control sk-hidden--visually\" id=\"dbe54f8e-433f-401f-8fa6-3c7aadd4af4b\" type=\"checkbox\" ><label class=\"sk-toggleable__label\" for=\"dbe54f8e-433f-401f-8fa6-3c7aadd4af4b\">SVC</label><div class=\"sk-toggleable__content\"><pre>SVC(random_state=0)</pre></div></div></div></div></div></div></div></div></div></div>"
      ],
      "text/plain": [
       "GridSearchCV(estimator=SVC(random_state=0), n_jobs=-1,\n",
       "             param_grid={'C': [0.1, 1, 10], 'gamma': [0.01, 0.1]})"
      ]
     },
     "execution_count": 3,
     "metadata": {},
     "output_type": "execute_result"
    }
   ],
   "source": [
    "%%time\n",
    "from sklearn.model_selection import GridSearchCV\n",
    "from sklearn.svm import SVC\n",
    "\n",
    "param_grid = {\"C\": [0.1, 1, 10], \"gamma\": [.01, .1]}\n",
    "model_to_tune = SVC(random_state=0)\n",
    "\n",
    "search = GridSearchCV(estimator=model_to_tune, \n",
    "    param_grid=param_grid, n_jobs=-1)\n",
    "search.fit(data, target)"
   ]
  },
  {
   "cell_type": "markdown",
   "id": "fef2e09e",
   "metadata": {},
   "source": [
    "We recall that `GridSearchCV` will train a model with some specific parameter\n",
    "on a training set and evaluate it on testing. However, this evaluation is\n",
    "done via cross-validation using the `cv` parameter. This procedure is\n",
    "repeated for all possible combinations of parameters given in `param_grid`.\n",
    "\n",
    "The attribute `best_params_` will give us the best set of parameters that\n",
    "maximize the mean score on the internal test sets."
   ]
  },
  {
   "cell_type": "code",
   "execution_count": 4,
   "id": "db88de5e",
   "metadata": {},
   "outputs": [
    {
     "name": "stdout",
     "output_type": "stream",
     "text": [
      "The best parameter found are: {'C': 0.1, 'gamma': 0.01}\n"
     ]
    }
   ],
   "source": [
    "print(f\"The best parameter found are: {search.best_params_}\")"
   ]
  },
  {
   "cell_type": "markdown",
   "id": "a9582f70",
   "metadata": {},
   "source": [
    "We can now show the mean score obtained using the parameter `best_score_`."
   ]
  },
  {
   "cell_type": "code",
   "execution_count": 5,
   "id": "93719846",
   "metadata": {},
   "outputs": [
    {
     "name": "stdout",
     "output_type": "stream",
     "text": [
      "The mean score in CV is: 0.627\n"
     ]
    }
   ],
   "source": [
    "print(f\"The mean score in CV is: {search.best_score_:.3f}\")"
   ]
  },
  {
   "cell_type": "markdown",
   "id": "e4dbf44e",
   "metadata": {},
   "source": [
    "At this stage, one should be extremely careful using this score. The\n",
    "misinterpretation would be the following: since the score was computed on a\n",
    "test set, it could be considered our model's testing score.\n",
    "\n",
    "However, we should not forget that we used this score to pick-up the best\n",
    "model. It means that we used knowledge from the test set (i.e. test score) to\n",
    "decide our model's training parameter.\n",
    "\n",
    "Thus, this score is not a reasonable estimate of our testing error.\n",
    "Indeed, we can show that it will be too optimistic in practice. The good way\n",
    "is to use a \"nested\" cross-validation. We will use an inner cross-validation\n",
    "corresponding to the previous procedure shown to optimize the\n",
    "hyperparameters. We will also include this procedure within an outer\n",
    "cross-validation, which will be used to estimate the testing error of\n",
    "our tuned model.\n",
    "\n",
    "In this case, our inner cross-validation will always get the training set of\n",
    "the outer cross-validation, making it possible to compute the testing\n",
    "score on a completely independent set.\n",
    "\n",
    "We will show below how we can create such nested cross-validation and obtain\n",
    "the testing score."
   ]
  },
  {
   "cell_type": "code",
   "execution_count": 6,
   "id": "c06aeb9b",
   "metadata": {},
   "outputs": [
    {
     "name": "stdout",
     "output_type": "stream",
     "text": [
      "The mean score using nested cross-validation is: 0.627 +/- 0.021\n",
      "CPU times: user 12.2 ms, sys: 0 ns, total: 12.2 ms\n",
      "Wall time: 267 ms\n"
     ]
    }
   ],
   "source": [
    "%%time\n",
    "from sklearn.model_selection import cross_val_score, KFold\n",
    "\n",
    "# Declare the inner and outer cross-validation\n",
    "inner_cv = KFold(n_splits=4, shuffle=True, random_state=0)\n",
    "outer_cv = KFold(n_splits=4, shuffle=True, random_state=0)\n",
    "\n",
    "# Inner cross-validation for parameter search\n",
    "model = GridSearchCV(estimator=model_to_tune, \n",
    "    param_grid=param_grid, cv=inner_cv, n_jobs=-1)\n",
    "\n",
    "# Outer cross-validation to compute the testing score\n",
    "test_score = cross_val_score(model, data, target, \n",
    "    cv=outer_cv, n_jobs=-1)\n",
    "print(f\"The mean score using nested cross-validation is: \"\n",
    "    f\"{test_score.mean():.3f} +/- {test_score.std():.3f}\")"
   ]
  },
  {
   "cell_type": "markdown",
   "id": "244888e3",
   "metadata": {},
   "source": [
    "In the example above, the reported score is more trustful and should be close\n",
    "to production's expected statistical performance.\n",
    "\n",
    "We will illustrate the difference between the nested and non-nested\n",
    "cross-validation scores to show that the latter one will be too optimistic in\n",
    "practice. In this regard, we will repeat several time the experiment and\n",
    "shuffle the data differently. Besides, we will store the score obtain with\n",
    "and without the nested cross-validation."
   ]
  },
  {
   "cell_type": "code",
   "execution_count": 7,
   "id": "57e4f948",
   "metadata": {},
   "outputs": [
    {
     "name": "stdout",
     "output_type": "stream",
     "text": [
      "CPU times: user 1.27 s, sys: 81.8 ms, total: 1.35 s\n",
      "Wall time: 7.77 s\n"
     ]
    }
   ],
   "source": [
    "%%time\n",
    "test_score_not_nested = []\n",
    "test_score_nested = []\n",
    "\n",
    "N_TRIALS = 20\n",
    "for i in range(N_TRIALS):\n",
    "    inner_cv = KFold(n_splits=4, shuffle=True, random_state=i)\n",
    "    outer_cv = KFold(n_splits=4, shuffle=True, random_state=i)\n",
    "\n",
    "    # Non_nested parameter search and scoring\n",
    "    model = GridSearchCV(estimator=model_to_tune, \n",
    "        param_grid=param_grid, cv=inner_cv, n_jobs=-1)\n",
    "    model.fit(data, target)\n",
    "    test_score_not_nested.append(model.best_score_)\n",
    "\n",
    "    # Nested CV with parameter optimization\n",
    "    test_score = cross_val_score(model, data, target, \n",
    "        cv=outer_cv, n_jobs=-1)\n",
    "    test_score_nested.append(test_score.mean())"
   ]
  },
  {
   "cell_type": "markdown",
   "id": "29f99fdf",
   "metadata": {},
   "source": [
    "We can merge the data together and make a box plot of the two strategies."
   ]
  },
  {
   "cell_type": "code",
   "execution_count": 8,
   "id": "f2b60e32",
   "metadata": {},
   "outputs": [
    {
     "data": {
      "text/html": [
       "<div>\n",
       "<style scoped>\n",
       "    .dataframe tbody tr th:only-of-type {\n",
       "        vertical-align: middle;\n",
       "    }\n",
       "\n",
       "    .dataframe tbody tr th {\n",
       "        vertical-align: top;\n",
       "    }\n",
       "\n",
       "    .dataframe thead th {\n",
       "        text-align: right;\n",
       "    }\n",
       "</style>\n",
       "<table border=\"1\" class=\"dataframe\">\n",
       "  <thead>\n",
       "    <tr style=\"text-align: right;\">\n",
       "      <th></th>\n",
       "      <th>Not nested CV</th>\n",
       "      <th>Nested CV</th>\n",
       "    </tr>\n",
       "  </thead>\n",
       "  <tbody>\n",
       "    <tr>\n",
       "      <th>0</th>\n",
       "      <td>0.629186</td>\n",
       "      <td>0.627425</td>\n",
       "    </tr>\n",
       "    <tr>\n",
       "      <th>1</th>\n",
       "      <td>0.632707</td>\n",
       "      <td>0.632707</td>\n",
       "    </tr>\n",
       "    <tr>\n",
       "      <th>2</th>\n",
       "      <td>0.630947</td>\n",
       "      <td>0.625689</td>\n",
       "    </tr>\n",
       "    <tr>\n",
       "      <th>3</th>\n",
       "      <td>0.634455</td>\n",
       "      <td>0.627413</td>\n",
       "    </tr>\n",
       "    <tr>\n",
       "      <th>4</th>\n",
       "      <td>0.629112</td>\n",
       "      <td>0.629112</td>\n",
       "    </tr>\n",
       "  </tbody>\n",
       "</table>\n",
       "</div>"
      ],
      "text/plain": [
       "   Not nested CV  Nested CV\n",
       "0       0.629186   0.627425\n",
       "1       0.632707   0.632707\n",
       "2       0.630947   0.625689\n",
       "3       0.634455   0.627413\n",
       "4       0.629112   0.629112"
      ]
     },
     "execution_count": 8,
     "metadata": {},
     "output_type": "execute_result"
    }
   ],
   "source": [
    "import pandas as pd\n",
    "\n",
    "all_scores = {\n",
    "    \"Not nested CV\": test_score_not_nested,\n",
    "    \"Nested CV\": test_score_nested\n",
    "}\n",
    "all_scores = pd.DataFrame(all_scores)\n",
    "all_scores.head()"
   ]
  },
  {
   "cell_type": "code",
   "execution_count": 9,
   "id": "7bddef9f",
   "metadata": {},
   "outputs": [
    {
     "data": {
      "image/png": "[encoded data removed]",
      "text/plain": [
       "<Figure size 432x288 with 1 Axes>"
      ]
     },
     "metadata": {
      "needs_background": "light"
     },
     "output_type": "display_data"
    }
   ],
   "source": [
    "import matplotlib.pyplot as plt\n",
    "\n",
    "color = {\"whiskers\": \"black\", \"medians\": \"black\", \"caps\": \"black\"}\n",
    "all_scores.plot.box(color=color, vert=False)\n",
    "plt.xlabel(\"Accuracy\")\n",
    "_ = plt.title(\"Comparison of mean accuracy obtained on the test sets with \\n\"\n",
    "    \"and without nested cross-validation\")"
   ]
  },
  {
   "cell_type": "markdown",
   "id": "3d58741e",
   "metadata": {},
   "source": [
    "We observe that the model's statistical performance with the nested\n",
    "cross-validation is not as good as the non-nested cross-validation.\n",
    "\n",
    "As a conclusion, when optimizing parts of the machine learning pipeline (e.g.\n",
    "hyperparameter, transform, etc.), one needs to use nested cross-validation to\n",
    "evaluate the statistical performance of the predictive model. Otherwise, the\n",
    "results obtained without nested cross-validation are over-optimistic."
   ]
  }
 ],
 "metadata": {
  "jupytext": {
   "cell_metadata_filter": "-all",
   "main_language": "python",
   "notebook_metadata_filter": "-all"
  },
  "kernelspec": {
   "display_name": "Python 3",
   "language": "python",
   "name": "python3"
  },
  "language_info": {
   "codemirror_mode": {
    "name": "ipython",
    "version": 3
   },
   "file_extension": ".py",
   "mimetype": "text/x-python",
   "name": "python",
   "nbconvert_exporter": "python",
   "pygments_lexer": "ipython3",
   "version": "3.8.10"
  },
  "nbreset": "https://github.com/INRIA/scikit-learn-mooc/raw/master/notebooks/cross_validation_nested.ipynb"
 },
 "nbformat": 4,
 "nbformat_minor": 5
}
