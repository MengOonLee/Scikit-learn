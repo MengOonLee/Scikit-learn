{
 "cells": [
  {
   "cell_type": "markdown",
   "id": "9a52146e",
   "metadata": {},
   "source": [
    "# 📝 Introductory exercise for sample grouping\n",
    "\n",
    "This exercise aims at highlighting issues that one could encounter when\n",
    "discarding grouping pattern existing in a dataset.\n",
    "\n",
    "We will use the digits dataset which includes some grouping pattern."
   ]
  },
  {
   "cell_type": "code",
   "execution_count": 1,
   "id": "fcc614b1",
   "metadata": {},
   "outputs": [],
   "source": [
    "from sklearn.datasets import load_digits\n",
    "\n",
    "data, target = load_digits(return_X_y=True, as_frame=True)"
   ]
  },
  {
   "cell_type": "markdown",
   "id": "f3cb3648-d213-4898-9d6e-c786adc97601",
   "metadata": {},
   "source": [
    "We can display an interactive diagram with the following command:"
   ]
  },
  {
   "cell_type": "code",
   "execution_count": 2,
   "id": "73623b2d-f04b-475c-a143-84adfc7cf120",
   "metadata": {},
   "outputs": [],
   "source": [
    "from sklearn import set_config\n",
    "set_config(display='diagram')"
   ]
  },
  {
   "cell_type": "markdown",
   "id": "91d4e4ca",
   "metadata": {},
   "source": [
    "The first step is to create a model. Use a machine learning pipeline\n",
    "composed of a scaler followed by a logistic regression classifier."
   ]
  },
  {
   "cell_type": "code",
   "execution_count": 3,
   "id": "d89b3a63",
   "metadata": {},
   "outputs": [
    {
     "data": {
      "text/html": [
       "<style>#sk-c2048079-19ae-479b-b1a2-4dc44b56093b {color: black;background-color: white;}#sk-c2048079-19ae-479b-b1a2-4dc44b56093b pre{padding: 0;}#sk-c2048079-19ae-479b-b1a2-4dc44b56093b div.sk-toggleable {background-color: white;}#sk-c2048079-19ae-479b-b1a2-4dc44b56093b label.sk-toggleable__label {cursor: pointer;display: block;width: 100%;margin-bottom: 0;padding: 0.2em 0.3em;box-sizing: border-box;text-align: center;}#sk-c2048079-19ae-479b-b1a2-4dc44b56093b div.sk-toggleable__content {max-height: 0;max-width: 0;overflow: hidden;text-align: left;background-color: #f0f8ff;}#sk-c2048079-19ae-479b-b1a2-4dc44b56093b div.sk-toggleable__content pre {margin: 0.2em;color: black;border-radius: 0.25em;background-color: #f0f8ff;}#sk-c2048079-19ae-479b-b1a2-4dc44b56093b input.sk-toggleable__control:checked~div.sk-toggleable__content {max-height: 200px;max-width: 100%;overflow: auto;}#sk-c2048079-19ae-479b-b1a2-4dc44b56093b div.sk-estimator input.sk-toggleable__control:checked~label.sk-toggleable__label {background-color: #d4ebff;}#sk-c2048079-19ae-479b-b1a2-4dc44b56093b div.sk-label input.sk-toggleable__control:checked~label.sk-toggleable__label {background-color: #d4ebff;}#sk-c2048079-19ae-479b-b1a2-4dc44b56093b input.sk-hidden--visually {border: 0;clip: rect(1px 1px 1px 1px);clip: rect(1px, 1px, 1px, 1px);height: 1px;margin: -1px;overflow: hidden;padding: 0;position: absolute;width: 1px;}#sk-c2048079-19ae-479b-b1a2-4dc44b56093b div.sk-estimator {font-family: monospace;background-color: #f0f8ff;margin: 0.25em 0.25em;border: 1px dotted black;border-radius: 0.25em;box-sizing: border-box;}#sk-c2048079-19ae-479b-b1a2-4dc44b56093b div.sk-estimator:hover {background-color: #d4ebff;}#sk-c2048079-19ae-479b-b1a2-4dc44b56093b div.sk-parallel-item::after {content: \"\";width: 100%;border-bottom: 1px solid gray;flex-grow: 1;}#sk-c2048079-19ae-479b-b1a2-4dc44b56093b div.sk-label:hover label.sk-toggleable__label {background-color: #d4ebff;}#sk-c2048079-19ae-479b-b1a2-4dc44b56093b div.sk-serial::before {content: \"\";position: absolute;border-left: 1px solid gray;box-sizing: border-box;top: 2em;bottom: 0;left: 50%;}#sk-c2048079-19ae-479b-b1a2-4dc44b56093b div.sk-serial {display: flex;flex-direction: column;align-items: center;background-color: white;}#sk-c2048079-19ae-479b-b1a2-4dc44b56093b div.sk-item {z-index: 1;}#sk-c2048079-19ae-479b-b1a2-4dc44b56093b div.sk-parallel {display: flex;align-items: stretch;justify-content: center;background-color: white;}#sk-c2048079-19ae-479b-b1a2-4dc44b56093b div.sk-parallel-item {display: flex;flex-direction: column;position: relative;background-color: white;}#sk-c2048079-19ae-479b-b1a2-4dc44b56093b div.sk-parallel-item:first-child::after {align-self: flex-end;width: 50%;}#sk-c2048079-19ae-479b-b1a2-4dc44b56093b div.sk-parallel-item:last-child::after {align-self: flex-start;width: 50%;}#sk-c2048079-19ae-479b-b1a2-4dc44b56093b div.sk-parallel-item:only-child::after {width: 0;}#sk-c2048079-19ae-479b-b1a2-4dc44b56093b div.sk-dashed-wrapped {border: 1px dashed gray;margin: 0.2em;box-sizing: border-box;padding-bottom: 0.1em;background-color: white;position: relative;}#sk-c2048079-19ae-479b-b1a2-4dc44b56093b div.sk-label label {font-family: monospace;font-weight: bold;background-color: white;display: inline-block;line-height: 1.2em;}#sk-c2048079-19ae-479b-b1a2-4dc44b56093b div.sk-label-container {position: relative;z-index: 2;text-align: center;}#sk-c2048079-19ae-479b-b1a2-4dc44b56093b div.sk-container {display: inline-block;position: relative;}</style><div id=\"sk-c2048079-19ae-479b-b1a2-4dc44b56093b\" class\"sk-top-container\"><div class=\"sk-container\"><div class=\"sk-item sk-dashed-wrapped\"><div class=\"sk-label-container\"><div class=\"sk-label sk-toggleable\"><input class=\"sk-toggleable__control sk-hidden--visually\" id=\"c0be0673-4acb-422f-b670-44b2eb4396c7\" type=\"checkbox\" ><label class=\"sk-toggleable__label\" for=\"c0be0673-4acb-422f-b670-44b2eb4396c7\">Pipeline</label><div class=\"sk-toggleable__content\"><pre>Pipeline(steps=[('standardscaler', StandardScaler()),\n",
       "                ('logisticregression', LogisticRegression())])</pre></div></div></div><div class=\"sk-serial\"><div class=\"sk-item\"><div class=\"sk-estimator sk-toggleable\"><input class=\"sk-toggleable__control sk-hidden--visually\" id=\"8e8877ec-e327-4e63-beb0-e440d79d9e93\" type=\"checkbox\" ><label class=\"sk-toggleable__label\" for=\"8e8877ec-e327-4e63-beb0-e440d79d9e93\">StandardScaler</label><div class=\"sk-toggleable__content\"><pre>StandardScaler()</pre></div></div></div><div class=\"sk-item\"><div class=\"sk-estimator sk-toggleable\"><input class=\"sk-toggleable__control sk-hidden--visually\" id=\"1af77dcd-8e69-4ecf-9cd5-f4a364319d41\" type=\"checkbox\" ><label class=\"sk-toggleable__label\" for=\"1af77dcd-8e69-4ecf-9cd5-f4a364319d41\">LogisticRegression</label><div class=\"sk-toggleable__content\"><pre>LogisticRegression()</pre></div></div></div></div></div></div></div>"
      ],
      "text/plain": [
       "Pipeline(steps=[('standardscaler', StandardScaler()),\n",
       "                ('logisticregression', LogisticRegression())])"
      ]
     },
     "execution_count": 3,
     "metadata": {},
     "output_type": "execute_result"
    }
   ],
   "source": [
    "from sklearn.preprocessing import StandardScaler\n",
    "from sklearn.linear_model import LogisticRegression\n",
    "from sklearn.pipeline import make_pipeline\n",
    "\n",
    "model = make_pipeline(StandardScaler(), \n",
    "    LogisticRegression())\n",
    "model"
   ]
  },
  {
   "cell_type": "markdown",
   "id": "6175bf94",
   "metadata": {},
   "source": [
    "Then, create a a `KFold` object making sure that the data will not be\n",
    "shuffled during the cross-validation. Use the previous model, data, and\n",
    "cross-validation strategy defined to estimate the statistical performance of\n",
    "the model."
   ]
  },
  {
   "cell_type": "code",
   "execution_count": 4,
   "id": "6af7b739",
   "metadata": {},
   "outputs": [
    {
     "name": "stdout",
     "output_type": "stream",
     "text": [
      "The average accuracy is 0.921 +/- 0.028\n",
      "CPU times: user 39.1 ms, sys: 81.6 ms, total: 121 ms\n",
      "Wall time: 1.14 s\n"
     ]
    }
   ],
   "source": [
    "%%time\n",
    "from sklearn.model_selection import cross_val_score, KFold\n",
    "\n",
    "cv = KFold(shuffle=False)\n",
    "test_score_no_shuffle = cross_val_score(\n",
    "    model, data, target, cv=cv, n_jobs=-1)\n",
    "print(f\"The average accuracy is \"\n",
    "    f\"{test_score_no_shuffle.mean():.3f} +/- \"\n",
    "    f\"{test_score_no_shuffle.std():.3f}\")"
   ]
  },
  {
   "cell_type": "markdown",
   "id": "e84454c7",
   "metadata": {},
   "source": [
    "Finally, perform the same experiment by shuffling the data within the\n",
    "cross-validation. Draw some conclusion regarding the dataset."
   ]
  },
  {
   "cell_type": "code",
   "execution_count": 5,
   "id": "1c0d486b",
   "metadata": {},
   "outputs": [
    {
     "name": "stdout",
     "output_type": "stream",
     "text": [
      "The average accuracy is 0.972 +/- 0.010\n",
      "CPU times: user 19.3 ms, sys: 744 µs, total: 20.1 ms\n",
      "Wall time: 871 ms\n"
     ]
    }
   ],
   "source": [
    "%%time\n",
    "cv = KFold(shuffle=True)\n",
    "test_score_with_shuffle = cross_val_score(\n",
    "    model, data, target, cv=cv, n_jobs=-1)\n",
    "print(f\"The average accuracy is \"\n",
    "    f\"{test_score_with_shuffle.mean():.3f} +/- \"\n",
    "    f\"{test_score_with_shuffle.std():.3f}\")"
   ]
  },
  {
   "cell_type": "markdown",
   "id": "75bfc544-6811-4aeb-96a1-686fb91c89bd",
   "metadata": {},
   "source": [
    "We observe that shuffling the data improves the mean accuracy. We could go a little further and plot the distribution of the testing score. We can first concatenate the test scores."
   ]
  },
  {
   "cell_type": "code",
   "execution_count": 6,
   "id": "7f757fd1-eecc-4aa5-a375-29a57889274b",
   "metadata": {},
   "outputs": [
    {
     "data": {
      "text/html": [
       "<div>\n",
       "<style scoped>\n",
       "    .dataframe tbody tr th:only-of-type {\n",
       "        vertical-align: middle;\n",
       "    }\n",
       "\n",
       "    .dataframe tbody tr th {\n",
       "        vertical-align: top;\n",
       "    }\n",
       "\n",
       "    .dataframe thead th {\n",
       "        text-align: right;\n",
       "    }\n",
       "</style>\n",
       "<table border=\"1\" class=\"dataframe\">\n",
       "  <thead>\n",
       "    <tr style=\"text-align: right;\">\n",
       "      <th></th>\n",
       "      <th>KFold without shuffle</th>\n",
       "      <th>KFold with shuffle</th>\n",
       "    </tr>\n",
       "  </thead>\n",
       "  <tbody>\n",
       "    <tr>\n",
       "      <th>0</th>\n",
       "      <td>0.922222</td>\n",
       "      <td>0.975000</td>\n",
       "    </tr>\n",
       "    <tr>\n",
       "      <th>1</th>\n",
       "      <td>0.883333</td>\n",
       "      <td>0.977778</td>\n",
       "    </tr>\n",
       "    <tr>\n",
       "      <th>2</th>\n",
       "      <td>0.941504</td>\n",
       "      <td>0.974930</td>\n",
       "    </tr>\n",
       "    <tr>\n",
       "      <th>3</th>\n",
       "      <td>0.961003</td>\n",
       "      <td>0.977716</td>\n",
       "    </tr>\n",
       "    <tr>\n",
       "      <th>4</th>\n",
       "      <td>0.896936</td>\n",
       "      <td>0.952646</td>\n",
       "    </tr>\n",
       "  </tbody>\n",
       "</table>\n",
       "</div>"
      ],
      "text/plain": [
       "   KFold without shuffle  KFold with shuffle\n",
       "0               0.922222            0.975000\n",
       "1               0.883333            0.977778\n",
       "2               0.941504            0.974930\n",
       "3               0.961003            0.977716\n",
       "4               0.896936            0.952646"
      ]
     },
     "execution_count": 6,
     "metadata": {},
     "output_type": "execute_result"
    }
   ],
   "source": [
    "import pandas as pd\n",
    "\n",
    "all_scores = pd.DataFrame(\n",
    "    [test_score_no_shuffle, test_score_with_shuffle],\n",
    "    index=[\"KFold without shuffle\", \"KFold with shuffle\"]).T\n",
    "all_scores"
   ]
  },
  {
   "cell_type": "markdown",
   "id": "ee44525e-d520-4e55-bedd-af82c2520818",
   "metadata": {},
   "source": [
    "Let's plot the distribution now."
   ]
  },
  {
   "cell_type": "code",
   "execution_count": 7,
   "id": "044dc606-79b2-497f-9e41-8e42ae27bc6f",
   "metadata": {},
   "outputs": [
    {
     "data": {
      "image/png": "[encoded data removed]",
      "text/plain": [
       "<Figure size 432x288 with 1 Axes>"
      ]
     },
     "metadata": {
      "needs_background": "light"
     },
     "output_type": "display_data"
    }
   ],
   "source": [
    "import matplotlib.pyplot as plt\n",
    "\n",
    "all_scores.plot.hist(bins=10, edgecolor='black', \n",
    "    density=True, alpha=0.7)\n",
    "plt.xlim([0.8, 1.0])\n",
    "plt.xlabel(\"Accuracy score\")\n",
    "plt.legend(bbox_to_anchor=(1.05, 0.8), loc=\"upper left\")\n",
    "_ = plt.title(\"Distribution of the test scores\")"
   ]
  },
  {
   "cell_type": "markdown",
   "id": "2d2a75e4-c4cc-499e-aeeb-e85f39ec73b3",
   "metadata": {},
   "source": [
    "The cross-validation testing error that uses the shuffling has less variance than the one that does not impose any shuffling. It means that some specific fold leads to a low score in this case."
   ]
  }
 ],
 "metadata": {
  "jupytext": {
   "cell_metadata_filter": "-all",
   "main_language": "python",
   "notebook_metadata_filter": "-all"
  },
  "kernelspec": {
   "display_name": "Python 3",
   "language": "python",
   "name": "python3"
  },
  "language_info": {
   "codemirror_mode": {
    "name": "ipython",
    "version": 3
   },
   "file_extension": ".py",
   "mimetype": "text/x-python",
   "name": "python",
   "nbconvert_exporter": "python",
   "pygments_lexer": "ipython3",
   "version": "3.8.10"
  },
  "nbreset": "https://github.com/INRIA/scikit-learn-mooc/raw/master/notebooks/cross_validation_ex_04.ipynb"
 },
 "nbformat": 4,
 "nbformat_minor": 5
}
