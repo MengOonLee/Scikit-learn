{
 "cells": [
  {
   "cell_type": "markdown",
   "id": "67d413e4",
   "metadata": {},
   "source": [
    "# 📝 Exercise M7.03\n",
    "\n",
    "As with the classification metrics exercise, we will evaluate the regression\n",
    "metrics within a cross-validation framework to get familiar with the syntax.\n",
    "\n",
    "We will use the Ames house prices dataset."
   ]
  },
  {
   "cell_type": "code",
   "execution_count": 1,
   "id": "7ff7992c-7f26-4d96-a2d7-685a8a41d8b7",
   "metadata": {},
   "outputs": [],
   "source": [
    "import os\n",
    "\n",
    "os.makedirs(\"../../datasets\", exist_ok=True)"
   ]
  },
  {
   "cell_type": "code",
   "execution_count": 2,
   "id": "cf7561a1-af8b-422f-a360-1e9830f40710",
   "metadata": {},
   "outputs": [],
   "source": [
    "%%bash\n",
    "\n",
    "wget -qO \"../../datasets/house_prices.csv\" \"https://github.com/INRIA/scikit-learn-mooc/raw/master/datasets/house_prices.csv\""
   ]
  },
  {
   "cell_type": "code",
   "execution_count": 3,
   "id": "1b36b153",
   "metadata": {},
   "outputs": [
    {
     "name": "stdout",
     "output_type": "stream",
     "text": [
      "<class 'pandas.core.frame.DataFrame'>\n",
      "RangeIndex: 1460 entries, 0 to 1459\n",
      "Data columns (total 34 columns):\n",
      " #   Column         Non-Null Count  Dtype\n",
      "---  ------         --------------  -----\n",
      " 0   Id             1460 non-null   int64\n",
      " 1   MSSubClass     1460 non-null   int64\n",
      " 2   LotArea        1460 non-null   int64\n",
      " 3   OverallQual    1460 non-null   int64\n",
      " 4   OverallCond    1460 non-null   int64\n",
      " 5   YearBuilt      1460 non-null   int64\n",
      " 6   YearRemodAdd   1460 non-null   int64\n",
      " 7   BsmtFinSF1     1460 non-null   int64\n",
      " 8   BsmtFinSF2     1460 non-null   int64\n",
      " 9   BsmtUnfSF      1460 non-null   int64\n",
      " 10  TotalBsmtSF    1460 non-null   int64\n",
      " 11  1stFlrSF       1460 non-null   int64\n",
      " 12  2ndFlrSF       1460 non-null   int64\n",
      " 13  LowQualFinSF   1460 non-null   int64\n",
      " 14  GrLivArea      1460 non-null   int64\n",
      " 15  BsmtFullBath   1460 non-null   int64\n",
      " 16  BsmtHalfBath   1460 non-null   int64\n",
      " 17  FullBath       1460 non-null   int64\n",
      " 18  HalfBath       1460 non-null   int64\n",
      " 19  BedroomAbvGr   1460 non-null   int64\n",
      " 20  KitchenAbvGr   1460 non-null   int64\n",
      " 21  TotRmsAbvGrd   1460 non-null   int64\n",
      " 22  Fireplaces     1460 non-null   int64\n",
      " 23  GarageCars     1460 non-null   int64\n",
      " 24  GarageArea     1460 non-null   int64\n",
      " 25  WoodDeckSF     1460 non-null   int64\n",
      " 26  OpenPorchSF    1460 non-null   int64\n",
      " 27  EnclosedPorch  1460 non-null   int64\n",
      " 28  3SsnPorch      1460 non-null   int64\n",
      " 29  ScreenPorch    1460 non-null   int64\n",
      " 30  PoolArea       1460 non-null   int64\n",
      " 31  MiscVal        1460 non-null   int64\n",
      " 32  MoSold         1460 non-null   int64\n",
      " 33  YrSold         1460 non-null   int64\n",
      "dtypes: int64(34)\n",
      "memory usage: 387.9 KB\n"
     ]
    }
   ],
   "source": [
    "import pandas as pd\n",
    "import numpy as np\n",
    "\n",
    "ames_housing = pd.read_csv(\"../../datasets/house_prices.csv\")\n",
    "data = ames_housing.drop(columns=\"SalePrice\")\n",
    "target = ames_housing[\"SalePrice\"]\n",
    "data = data.select_dtypes(np.number)\n",
    "target /= 1000\n",
    "data.info()"
   ]
  },
  {
   "cell_type": "markdown",
   "id": "fbbd8a62",
   "metadata": {},
   "source": [
    "<div class=\"admonition note alert alert-info\">\n",
    "<p class=\"first admonition-title\" style=\"font-weight: bold;\">Note</p>\n",
    "<p class=\"last\">If you want a deeper overview regarding this dataset, you can refer to the\n",
    "Appendix - Datasets description section at the end of this MOOC.</p>\n",
    "</div>"
   ]
  },
  {
   "cell_type": "markdown",
   "id": "7d100e0a-6950-4e9c-a0a2-b15259ff7c15",
   "metadata": {},
   "source": [
    "We can display an interactive diagram with the following command:"
   ]
  },
  {
   "cell_type": "code",
   "execution_count": 4,
   "id": "54e8f0b9-0b48-449d-9dfa-8d1343302fec",
   "metadata": {},
   "outputs": [],
   "source": [
    "from sklearn import set_config\n",
    "set_config(display='diagram')"
   ]
  },
  {
   "cell_type": "markdown",
   "id": "5a73abeb",
   "metadata": {},
   "source": [
    "The first step will be to create a linear regression model."
   ]
  },
  {
   "cell_type": "code",
   "execution_count": 5,
   "id": "2bf94555",
   "metadata": {},
   "outputs": [
    {
     "data": {
      "text/html": [
       "<style>#sk-ea9752cb-9b7f-4aae-a485-255915a6d9c8 {color: black;background-color: white;}#sk-ea9752cb-9b7f-4aae-a485-255915a6d9c8 pre{padding: 0;}#sk-ea9752cb-9b7f-4aae-a485-255915a6d9c8 div.sk-toggleable {background-color: white;}#sk-ea9752cb-9b7f-4aae-a485-255915a6d9c8 label.sk-toggleable__label {cursor: pointer;display: block;width: 100%;margin-bottom: 0;padding: 0.2em 0.3em;box-sizing: border-box;text-align: center;}#sk-ea9752cb-9b7f-4aae-a485-255915a6d9c8 div.sk-toggleable__content {max-height: 0;max-width: 0;overflow: hidden;text-align: left;background-color: #f0f8ff;}#sk-ea9752cb-9b7f-4aae-a485-255915a6d9c8 div.sk-toggleable__content pre {margin: 0.2em;color: black;border-radius: 0.25em;background-color: #f0f8ff;}#sk-ea9752cb-9b7f-4aae-a485-255915a6d9c8 input.sk-toggleable__control:checked~div.sk-toggleable__content {max-height: 200px;max-width: 100%;overflow: auto;}#sk-ea9752cb-9b7f-4aae-a485-255915a6d9c8 div.sk-estimator input.sk-toggleable__control:checked~label.sk-toggleable__label {background-color: #d4ebff;}#sk-ea9752cb-9b7f-4aae-a485-255915a6d9c8 div.sk-label input.sk-toggleable__control:checked~label.sk-toggleable__label {background-color: #d4ebff;}#sk-ea9752cb-9b7f-4aae-a485-255915a6d9c8 input.sk-hidden--visually {border: 0;clip: rect(1px 1px 1px 1px);clip: rect(1px, 1px, 1px, 1px);height: 1px;margin: -1px;overflow: hidden;padding: 0;position: absolute;width: 1px;}#sk-ea9752cb-9b7f-4aae-a485-255915a6d9c8 div.sk-estimator {font-family: monospace;background-color: #f0f8ff;margin: 0.25em 0.25em;border: 1px dotted black;border-radius: 0.25em;box-sizing: border-box;}#sk-ea9752cb-9b7f-4aae-a485-255915a6d9c8 div.sk-estimator:hover {background-color: #d4ebff;}#sk-ea9752cb-9b7f-4aae-a485-255915a6d9c8 div.sk-parallel-item::after {content: \"\";width: 100%;border-bottom: 1px solid gray;flex-grow: 1;}#sk-ea9752cb-9b7f-4aae-a485-255915a6d9c8 div.sk-label:hover label.sk-toggleable__label {background-color: #d4ebff;}#sk-ea9752cb-9b7f-4aae-a485-255915a6d9c8 div.sk-serial::before {content: \"\";position: absolute;border-left: 1px solid gray;box-sizing: border-box;top: 2em;bottom: 0;left: 50%;}#sk-ea9752cb-9b7f-4aae-a485-255915a6d9c8 div.sk-serial {display: flex;flex-direction: column;align-items: center;background-color: white;}#sk-ea9752cb-9b7f-4aae-a485-255915a6d9c8 div.sk-item {z-index: 1;}#sk-ea9752cb-9b7f-4aae-a485-255915a6d9c8 div.sk-parallel {display: flex;align-items: stretch;justify-content: center;background-color: white;}#sk-ea9752cb-9b7f-4aae-a485-255915a6d9c8 div.sk-parallel-item {display: flex;flex-direction: column;position: relative;background-color: white;}#sk-ea9752cb-9b7f-4aae-a485-255915a6d9c8 div.sk-parallel-item:first-child::after {align-self: flex-end;width: 50%;}#sk-ea9752cb-9b7f-4aae-a485-255915a6d9c8 div.sk-parallel-item:last-child::after {align-self: flex-start;width: 50%;}#sk-ea9752cb-9b7f-4aae-a485-255915a6d9c8 div.sk-parallel-item:only-child::after {width: 0;}#sk-ea9752cb-9b7f-4aae-a485-255915a6d9c8 div.sk-dashed-wrapped {border: 1px dashed gray;margin: 0.2em;box-sizing: border-box;padding-bottom: 0.1em;background-color: white;position: relative;}#sk-ea9752cb-9b7f-4aae-a485-255915a6d9c8 div.sk-label label {font-family: monospace;font-weight: bold;background-color: white;display: inline-block;line-height: 1.2em;}#sk-ea9752cb-9b7f-4aae-a485-255915a6d9c8 div.sk-label-container {position: relative;z-index: 2;text-align: center;}#sk-ea9752cb-9b7f-4aae-a485-255915a6d9c8 div.sk-container {display: inline-block;position: relative;}</style><div id=\"sk-ea9752cb-9b7f-4aae-a485-255915a6d9c8\" class\"sk-top-container\"><div class=\"sk-container\"><div class=\"sk-item\"><div class=\"sk-estimator sk-toggleable\"><input class=\"sk-toggleable__control sk-hidden--visually\" id=\"194fb8e4-254c-406e-8865-a0cef95dfca9\" type=\"checkbox\" checked><label class=\"sk-toggleable__label\" for=\"194fb8e4-254c-406e-8865-a0cef95dfca9\">LinearRegression</label><div class=\"sk-toggleable__content\"><pre>LinearRegression()</pre></div></div></div></div></div>"
      ],
      "text/plain": [
       "LinearRegression()"
      ]
     },
     "execution_count": 5,
     "metadata": {},
     "output_type": "execute_result"
    }
   ],
   "source": [
    "from sklearn.linear_model import LinearRegression\n",
    "\n",
    "model = LinearRegression()\n",
    "model"
   ]
  },
  {
   "cell_type": "markdown",
   "id": "a0b7f7c3",
   "metadata": {},
   "source": [
    "Then, use the `cross_val_score` to estimate the statistical performance of\n",
    "the model. Use a `KFold` cross-validation with 10 folds. Make the use of the\n",
    "$R^2$ score explicit by assigning the parameter `scoring` (even though it is\n",
    "the default score)."
   ]
  },
  {
   "cell_type": "code",
   "execution_count": 8,
   "id": "25994629",
   "metadata": {},
   "outputs": [
    {
     "name": "stdout",
     "output_type": "stream",
     "text": [
      "R2 score: 0.794 +/- 0.103\n",
      "CPU times: user 305 ms, sys: 10.5 ms, total: 316 ms\n",
      "Wall time: 79.9 ms\n"
     ]
    }
   ],
   "source": [
    "%%time\n",
    "from sklearn.model_selection import cross_val_score\n",
    "\n",
    "scores = cross_val_score(model, data, target, \n",
    "    cv=10, scoring=\"r2\")\n",
    "print(f\"R2 score: {scores.mean():.3f} +/- {scores.std():.3f}\")"
   ]
  },
  {
   "cell_type": "markdown",
   "id": "f0f345aa",
   "metadata": {},
   "source": [
    "Then, instead of using the $R^2$ score, use the mean absolute error. You need\n",
    "to refer to the documentation for the `scoring` parameter."
   ]
  },
  {
   "cell_type": "code",
   "execution_count": 9,
   "id": "d6554e48",
   "metadata": {},
   "outputs": [
    {
     "name": "stdout",
     "output_type": "stream",
     "text": [
      "Mean absolute error: 21.892 k$ +/- 2.225 k$\n",
      "CPU times: user 332 ms, sys: 16.5 ms, total: 349 ms\n",
      "Wall time: 63.1 ms\n"
     ]
    }
   ],
   "source": [
    "%%time\n",
    "scores = cross_val_score(model, data, target, \n",
    "    cv=10, scoring=\"neg_mean_absolute_error\")\n",
    "errors = -scores\n",
    "print(f\"Mean absolute error: \"\n",
    "    f\"{errors.mean():.3f} k$ +/- {errors.std():.3f} k$\")"
   ]
  },
  {
   "cell_type": "markdown",
   "id": "6ea9f6ac-24fb-4871-9fa0-afb0eef3c9a7",
   "metadata": {},
   "source": [
    "The `scoring` parameter in scikit-learn expects score. It means that the higher the values, and the smaller the errors are, the better the model is. Therefore, the error should be multiplied by -1. That's why the string given the `scoring` starts with `neg_` when dealing with metrics which are errors."
   ]
  },
  {
   "cell_type": "markdown",
   "id": "34249f5f",
   "metadata": {},
   "source": [
    "Finally, use the `cross_validate` function and compute multiple scores/errors\n",
    "at once by passing a list of scorers to the `scoring` parameter. You can\n",
    "compute the $R^2$ score and the mean absolute error for instance."
   ]
  },
  {
   "cell_type": "code",
   "execution_count": 10,
   "id": "3c384293",
   "metadata": {},
   "outputs": [
    {
     "name": "stdout",
     "output_type": "stream",
     "text": [
      "CPU times: user 175 ms, sys: 4.05 ms, total: 180 ms\n",
      "Wall time: 35.6 ms\n"
     ]
    },
    {
     "data": {
      "text/html": [
       "<div>\n",
       "<style scoped>\n",
       "    .dataframe tbody tr th:only-of-type {\n",
       "        vertical-align: middle;\n",
       "    }\n",
       "\n",
       "    .dataframe tbody tr th {\n",
       "        vertical-align: top;\n",
       "    }\n",
       "\n",
       "    .dataframe thead th {\n",
       "        text-align: right;\n",
       "    }\n",
       "</style>\n",
       "<table border=\"1\" class=\"dataframe\">\n",
       "  <thead>\n",
       "    <tr style=\"text-align: right;\">\n",
       "      <th></th>\n",
       "      <th>R2</th>\n",
       "      <th>MSE</th>\n",
       "    </tr>\n",
       "  </thead>\n",
       "  <tbody>\n",
       "    <tr>\n",
       "      <th>0</th>\n",
       "      <td>0.848721</td>\n",
       "      <td>21.256799</td>\n",
       "    </tr>\n",
       "    <tr>\n",
       "      <th>1</th>\n",
       "      <td>0.816374</td>\n",
       "      <td>22.084083</td>\n",
       "    </tr>\n",
       "    <tr>\n",
       "      <th>2</th>\n",
       "      <td>0.813513</td>\n",
       "      <td>22.113367</td>\n",
       "    </tr>\n",
       "    <tr>\n",
       "      <th>3</th>\n",
       "      <td>0.814138</td>\n",
       "      <td>20.448279</td>\n",
       "    </tr>\n",
       "    <tr>\n",
       "      <th>4</th>\n",
       "      <td>0.637473</td>\n",
       "      <td>24.370341</td>\n",
       "    </tr>\n",
       "  </tbody>\n",
       "</table>\n",
       "</div>"
      ],
      "text/plain": [
       "         R2        MSE\n",
       "0  0.848721  21.256799\n",
       "1  0.816374  22.084083\n",
       "2  0.813513  22.113367\n",
       "3  0.814138  20.448279\n",
       "4  0.637473  24.370341"
      ]
     },
     "execution_count": 10,
     "metadata": {},
     "output_type": "execute_result"
    }
   ],
   "source": [
    "%%time\n",
    "from sklearn.model_selection import cross_validate\n",
    "import pandas as pd\n",
    "\n",
    "scoring = [\"r2\", \"neg_mean_absolute_error\"]\n",
    "cv_results = cross_validate(model, data, target, \n",
    "    scoring=scoring)\n",
    "scores = {\n",
    "    \"R2\": cv_results[\"test_r2\"],\n",
    "    \"MSE\": -cv_results[\"test_neg_mean_absolute_error\"]\n",
    "}\n",
    "scores = pd.DataFrame(scores)\n",
    "scores"
   ]
  }
 ],
 "metadata": {
  "jupytext": {
   "cell_metadata_filter": "-all",
   "main_language": "python",
   "notebook_metadata_filter": "-all"
  },
  "kernelspec": {
   "display_name": "Python 3",
   "language": "python",
   "name": "python3"
  },
  "language_info": {
   "codemirror_mode": {
    "name": "ipython",
    "version": 3
   },
   "file_extension": ".py",
   "mimetype": "text/x-python",
   "name": "python",
   "nbconvert_exporter": "python",
   "pygments_lexer": "ipython3",
   "version": "3.8.10"
  },
  "nbreset": "https://github.com/INRIA/scikit-learn-mooc/raw/master/notebooks/metrics_ex_02.ipynb"
 },
 "nbformat": 4,
 "nbformat_minor": 5
}
